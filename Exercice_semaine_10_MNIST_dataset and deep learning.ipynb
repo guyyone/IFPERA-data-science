{
 "cells": [
  {
   "cell_type": "markdown",
   "id": "0b7e38d5",
   "metadata": {},
   "source": [
    "### Exercice semaine 10 data science\n",
    "- Date limite de soumission: Vendredi 2 juin à 10 H\n",
    "- Nous travaillerons sur la base des données de reconnaissance des nombres (base MNIST)\n",
    "- Utiliser ce nootebook pour répondre aux questions\n",
    "- La base des données en fichier compressé est disponible à l'adresse URL: https://github.com/pefura/IFPERA-data-science/blob/main/mnist-original.mat.zip \n",
    "OU à l'adresse URL: https://drive.google.com/file/d/1wlAi66jIkxzCy57hH15-SxdMQ7gvmmEu/view?usp=sharing\n",
    "- Chaque question est notée sur 10 points"
   ]
  },
  {
   "cell_type": "code",
   "execution_count": 1,
   "id": "8a960680",
   "metadata": {},
   "outputs": [],
   "source": [
    "# Installer scipy avec: pip install scipy\n",
    "# Impoter loadmat comme ci-dessous\n",
    "from scipy.io import loadmat"
   ]
  },
  {
   "cell_type": "code",
   "execution_count": 7,
   "id": "c4e74569",
   "metadata": {},
   "outputs": [],
   "source": [
    "import numpy as np\n",
    "import pandas as pd"
   ]
  },
  {
   "cell_type": "code",
   "execution_count": 37,
   "id": "c5eeea7c",
   "metadata": {},
   "outputs": [
    {
     "name": "stdout",
     "output_type": "stream",
     "text": [
      "shape of mnist_data: (70000, 784)\n",
      "shape of mnist_label: (70000,)\n"
     ]
    }
   ],
   "source": [
    "# Exécuter cette cellule: url est le chémin du fichier dans votre ordinateur. Vous devez remplacer l'url ci-dessous \n",
    "# par l'adresse exacte du fichier décompressé dans votre ordinateur. \n",
    "\n",
    "url = \"C:/Users/DDD/Downloads/mnist-original.mat/mnist-original.mat\"\n",
    "mnist = loadmat(url)\n",
    "mnist_data = mnist[\"data\"].T\n",
    "mnist_label = mnist[\"label\"][0]\n",
    "print(\"shape of mnist_data:\", mnist_data.shape)\n",
    "print(\"shape of mnist_label:\", mnist_label.shape)"
   ]
  },
  {
   "cell_type": "code",
   "execution_count": 148,
   "id": "1ac036ca",
   "metadata": {},
   "outputs": [
    {
     "data": {
      "text/plain": [
       "array([0., 0., 0., ..., 9., 9., 9.])"
      ]
     },
     "execution_count": 148,
     "metadata": {},
     "output_type": "execute_result"
    }
   ],
   "source": [
    "# Imprimer quelques exemples d'étiquettes (y)\n",
    "mnist_label"
   ]
  },
  {
   "cell_type": "code",
   "execution_count": 38,
   "id": "1c751abb",
   "metadata": {},
   "outputs": [
    {
     "data": {
      "text/plain": [
       "array([[0, 0, 0, ..., 0, 0, 0],\n",
       "       [0, 0, 0, ..., 0, 0, 0],\n",
       "       [0, 0, 0, ..., 0, 0, 0],\n",
       "       ...,\n",
       "       [0, 0, 0, ..., 0, 0, 0],\n",
       "       [0, 0, 0, ..., 0, 0, 0],\n",
       "       [0, 0, 0, ..., 0, 0, 0]], dtype=uint8)"
      ]
     },
     "execution_count": 38,
     "metadata": {},
     "output_type": "execute_result"
    }
   ],
   "source": [
    "# Imprimer quelques exemples des caractéristiques(X)\n",
    "mnist_data"
   ]
  },
  {
   "cell_type": "markdown",
   "id": "d51c519b",
   "metadata": {},
   "source": [
    "1. Question numéro 1: redimensionner les images au format 28 x 28 .\n",
    "- NB: Cette base contient des images transformées en valeurs de pixel et consignées dans les tableaux numpy. nous devons refaire les dimensions des images. l'index 1 de la forme de \"mnist_data\" correspond aux dimensions des images. \n",
    "- Nommer la nouvelle base avec redimensionnement data et montrer la preuve de la reusite du changement de forme."
   ]
  },
  {
   "cell_type": "markdown",
   "id": "43829395",
   "metadata": {},
   "source": [
    "2. Question numéro 2: Imprimer à l'écran la première et la dernière image de data et donner la correspondance de ces images selon vous."
   ]
  },
  {
   "cell_type": "markdown",
   "id": "56069af3",
   "metadata": {},
   "source": [
    "3. Question numéro 3: Imprimer à l'écran la première et la dernière étiquette. Y a t'il correspondance avec ce que vous avez indiqué ci-dessus?"
   ]
  },
  {
   "cell_type": "markdown",
   "id": "2115e22a",
   "metadata": {},
   "source": [
    "4. Séparer le jeu des données en données d'entraînement et données test. Le jeu d'entraînement doit contenir 63.000 images.\n",
    "- Vous êtes prier de fixer le générateur alétaoire à 0. "
   ]
  },
  {
   "cell_type": "markdown",
   "id": "a78e9bc3",
   "metadata": {},
   "source": [
    "5. Quelle est la valeur de l'image en 10 ème position? "
   ]
  },
  {
   "cell_type": "markdown",
   "id": "20cfed48",
   "metadata": {},
   "source": [
    "6. Déterminer le nombre de classes à prédire ainsi que la forme des images en sachant que les images doivent être en noir et blanc"
   ]
  },
  {
   "cell_type": "markdown",
   "id": "c1f6f6e5",
   "metadata": {},
   "source": [
    "7. Pretraitement des données\n",
    "- Normaliser les images\n",
    "- Assurez-vous que la forme des images es (28,28,1)"
   ]
  },
  {
   "cell_type": "markdown",
   "id": "e5015a96",
   "metadata": {},
   "source": [
    "8. Faire une transformation one hot sur les classes (y_train) en utilisant la méthode to_categorical de keras"
   ]
  },
  {
   "cell_type": "markdown",
   "id": "00c51535",
   "metadata": {},
   "source": [
    "9. Entraîner un modèle de réseau de neurones convolutionnels et tracer les courbes de a fonction de pette et de l'exactitude (accuracy).  "
   ]
  },
  {
   "cell_type": "markdown",
   "id": "fbbd33c7",
   "metadata": {},
   "source": [
    "10. Predire et Evaluer le modèle sur les données test"
   ]
  }
 ],
 "metadata": {
  "kernelspec": {
   "display_name": "Python 3",
   "language": "python",
   "name": "python3"
  },
  "language_info": {
   "codemirror_mode": {
    "name": "ipython",
    "version": 3
   },
   "file_extension": ".py",
   "mimetype": "text/x-python",
   "name": "python",
   "nbconvert_exporter": "python",
   "pygments_lexer": "ipython3",
   "version": "3.8.8"
  }
 },
 "nbformat": 4,
 "nbformat_minor": 5
}
