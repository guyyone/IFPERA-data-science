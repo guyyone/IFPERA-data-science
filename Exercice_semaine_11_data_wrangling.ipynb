{
 "cells": [
  {
   "cell_type": "markdown",
   "id": "ad6a8b56-52a9-4ce8-997e-93f7293a0bdb",
   "metadata": {},
   "source": [
    "# Bases de python et manipulation des tables des données\n",
    "### Date de soumission: jeudi 08 juin 2023 à 12 H\n",
    "#### Dans ce notebook nous allons reaboder les bases de python et de la manipulation des tables des données\n",
    "#### Nous travaillerons avec la base des données des prix des propriétes en amérique du sud. Cette base est disponible ici\n",
    "- [data price house (url)](https://drive.google.com/file/d/1Sr39gVhzewZzb1Qd2qaH37-SRrXCSL-O/view?usp=sharing)"
   ]
  },
  {
   "cell_type": "markdown",
   "id": "24aedf48-3d1c-4e54-9102-b040f55ee5d2",
   "metadata": {},
   "source": [
    "### 1. Importation et compréhension de la base"
   ]
  },
  {
   "cell_type": "markdown",
   "id": "5e88c7c1-870a-4c8c-8800-8c2d463b9337",
   "metadata": {},
   "source": [
    "**Tâche 1.1:** Importer la base des données dans `df` et en faire une copie."
   ]
  },
  {
   "cell_type": "code",
   "execution_count": 195,
   "id": "66f54c27-94dd-44a1-ae19-b2363b2802a6",
   "metadata": {},
   "outputs": [],
   "source": [
    "# Exécuter cette cellule pour importer la table des données.\n",
    "url = \"https://drive.google.com/file/d/119T69YZ0ZGNrtXx8m7MRH-BgMyEVT8Pu/view?usp=sharing\" # l'adresse \n",
    "                                                                                          # indiquéé ci-haut\n",
    "path = 'https://drive.google.com/uc?export=download&id='+url.split('/')[-2] # Accès à la table\n",
    "df = pd.read_csv(path) # Lecture de la table des données avec pandas, table nommée df."
   ]
  },
  {
   "cell_type": "code",
   "execution_count": 196,
   "id": "8f4a8fda-97de-4447-b967-4565e3f2cc02",
   "metadata": {},
   "outputs": [
    {
     "data": {
      "text/plain": [
       "(102283, 26)"
      ]
     },
     "execution_count": 196,
     "metadata": {},
     "output_type": "execute_result"
    }
   ],
   "source": [
    "# Vérifier la forme ou les dimensions de df \n",
    "# Vous devriez trouver 26 colonnes et 102283 observations\n",
    "df.shape"
   ]
  },
  {
   "cell_type": "code",
   "execution_count": 191,
   "id": "d9a46065-c63b-4b1a-8acc-ff70579628aa",
   "metadata": {},
   "outputs": [],
   "source": [
    "# Faites une copie de la base des données pour ne pas être obligé \n",
    "# de refaire l'importation à chaque fois en éxécutant ce code. les manipulations ultérieures se feront\n",
    "# dans df_copy\n",
    "df_copy = df.copy()"
   ]
  },
  {
   "cell_type": "code",
   "execution_count": null,
   "id": "3e7b99f0-600b-465f-afac-b334d9d79368",
   "metadata": {},
   "outputs": [],
   "source": [
    "# Obtenir les informations clés de df\n",
    "df_copy.info()"
   ]
  },
  {
   "cell_type": "markdown",
   "id": "34a94e09-87dc-4d37-a287-d9c36c5f2c87",
   "metadata": {},
   "source": [
    "**Tâche 1.2:** Compréhension de la base\n",
    "\n",
    "- [Imprimer les 3 premières observations à l'écran]()\n",
    "- [Imprimer la liste de toutes les colonnes]()\n",
    "- [Créer une liste de colonnes contenant les colonnes clés suivantes: 'location','surface_covered','lat', 'lon', 'price']()"
   ]
  },
  {
   "cell_type": "code",
   "execution_count": null,
   "id": "0f53a191-e02e-4292-980c-4e0d96bd2718",
   "metadata": {},
   "outputs": [],
   "source": [
    "# 3 premières observations\n",
    "First_tree_obs = ..."
   ]
  },
  {
   "cell_type": "code",
   "execution_count": null,
   "id": "4c53563a-bfda-49d6-8239-30ce1fce1383",
   "metadata": {},
   "outputs": [],
   "source": [
    "First_tree_obs = df_copy.head(3)\n",
    "First_tree_obs"
   ]
  },
  {
   "cell_type": "code",
   "execution_count": null,
   "id": "ba404dc9-f625-4585-aa39-3eb8da28aabe",
   "metadata": {},
   "outputs": [],
   "source": [
    "# Liste des colonnes \n",
    "list_col = ..."
   ]
  },
  {
   "cell_type": "code",
   "execution_count": null,
   "id": "39ed6f5a-9de6-458b-abe0-c5f6b9e20cb0",
   "metadata": {},
   "outputs": [],
   "source": [
    "# Colonnes clés\n",
    "key_col = ..."
   ]
  },
  {
   "cell_type": "code",
   "execution_count": null,
   "id": "b8365d3a-5a42-4814-bbc8-09c84374fa2b",
   "metadata": {},
   "outputs": [],
   "source": [
    "# Sauvegarder la base contenant les colonnes clés dans la base 'df_key' et \n",
    "# imprimer les dimensions de 'df_key'\n",
    "df_key = ...\n",
    "print(\"df_key shape:\", ...)"
   ]
  },
  {
   "cell_type": "markdown",
   "id": "a20d9030-2bd4-4857-abaf-d01967be2fed",
   "metadata": {},
   "source": [
    "**Tâche 1.3:** Ecrire une fonction `clean` qui permet de: 1)Supprimer le sigle $ de la colonne nommée`price`. 2) Changer les valeurs de la colonne `price` en valeurs numériques. 3)Nettoyer `df_key` en supprimant les lignes avec les valeurs manquantes. \n",
    "\n",
    "- [Types des données-Variables en python](https://github.com/pefura/IFPERA-data-science/blob/main/Tutorial%20d%E2%80%99introduction%20%C3%A0%20l%E2%80%99analyse%20des%20donn%C3%A9es%20avec%20Python.pdf)\n",
    "- [Remplacer les chaînes de caractères en utilisant pandas](https://pandas.pydata.org/docs/reference/api/pandas.Series.str.replace.html)\n",
    "- [Supprimer les lignes avec les valeurs manquantes](https://pandas.pydata.org/docs/reference/api/pandas.DataFrame.dropna.html)"
   ]
  },
  {
   "cell_type": "code",
   "execution_count": null,
   "id": "6470cd6f-0f4b-49de-8007-1f7d12db15c3",
   "metadata": {},
   "outputs": [],
   "source": [
    "# la base néttoyée est df_clean.Vous devez trouver une base avec 5 colonnes et 50209 observations\n",
    "df_key_copy = df_key.copy() # Faire une copie de df_key et utiliser la copie pour ne pas avoir d'erreur\n",
    "df_clean = ...                # ou utiliser une version non transformée\n",
    "df_clean.info()"
   ]
  },
  {
   "cell_type": "code",
   "execution_count": 124,
   "id": "859f584f-da7f-4ced-bca9-1c51e18581d8",
   "metadata": {},
   "outputs": [],
   "source": [
    "df_key_copy = df_key.copy()"
   ]
  },
  {
   "cell_type": "markdown",
   "id": "4845d043-2d92-4fb9-a54c-ab944219f2c5",
   "metadata": {},
   "source": [
    "**Tâche 1.4:** Ecrire une fonction `wrangle` qui permet de: 1)Inclure les modifications de la fonction `clean`. 2) Séparer la colonne `location` en `2` colonnes dont l'une est le pays (`country`)de la propriété et l'autre l'état où se trouve la propriété (`state`); Notez que le `pays` et `l'état` se trouvent respectivement en première et en deuxième position des modalités de la colonne `location`. \n",
    "\n",
    "- [Fonction imbriquée]()\n",
    "- [Scinder les chaînes de caractères dans une colonne pour créer d'autres en utilisant pandas](https://pandas.pydata.org/docs/reference/api/pandas.Series.str.split.html)\n"
   ]
  },
  {
   "cell_type": "code",
   "execution_count": null,
   "id": "cf19c8fc-7293-4f38-8ac3-a23816052845",
   "metadata": {},
   "outputs": [],
   "source": [
    "# Résulats de la fonction wrangle\n",
    "# Attention d'utiliser une version non transformée de df_key\n",
    "df_wrangle = ...\n",
    "df_wrangle.info()"
   ]
  },
  {
   "cell_type": "markdown",
   "id": "0c8d1f92-7b94-49d9-b3a0-c04094f150f0",
   "metadata": {},
   "source": [
    "**Tâche 1.5:** Utiliser la boucle `for` et la méthode `split` pour créer `country` et `state` de la `tâche 1.4.\n",
    "- [Boucle for](https://docs.python.org/3/tutorial/controlflow.html#for-statements)\n",
    "- [Créer un dataframe en utilisant le dictionnaire](https://docs.python.org/3/tutorial/datastructures.html#dictionaries)\n"
   ]
  },
  {
   "cell_type": "code",
   "execution_count": null,
   "id": "d58bb47f-dfcf-46f2-b1c6-8324092f12cb",
   "metadata": {},
   "outputs": [],
   "source": [
    "# Résulats de la fonction wrangle\n",
    "# Attention d'utiliser une version non transformée de df_key\n",
    "df_for = ...\n",
    "df_for.info()"
   ]
  },
  {
   "cell_type": "markdown",
   "id": "70f18a19-657f-4f77-8061-5a32114841a4",
   "metadata": {},
   "source": [
    "**Tâche 1.6:** Supprimer la colonne `location` table de données à l'aide de la méthode `drop`.\n",
    "- [Supprimer une ou plusieurs colonnes](https://pandas.pydata.org/docs/reference/api/pandas.DataFrame.drop.html)\n"
   ]
  },
  {
   "cell_type": "code",
   "execution_count": null,
   "id": "3c118f75-a626-452f-b8b3-9ec17858d5cf",
   "metadata": {},
   "outputs": [],
   "source": [
    "# Quels sont les pays existant dans la base des données et leurs effectifs?\n",
    "country = ...\n",
    "country"
   ]
  },
  {
   "cell_type": "code",
   "execution_count": null,
   "id": "e5e2a207-9ec1-4f31-aa1c-ae8df2d7d583",
   "metadata": {},
   "outputs": [],
   "source": [
    "# Déterminer les effectifs des états\n",
    "effectif = ...\n",
    "effectif"
   ]
  },
  {
   "cell_type": "code",
   "execution_count": 1,
   "id": "f09be66a-6ffc-4ea0-b878-163e1fb5051a",
   "metadata": {},
   "outputs": [],
   "source": [
    "# Tracer l'histogramme et la boite à moustache horizontale des prix avec matplotlib. \n",
    "# Quelles conclusions tirez-vous? \n"
   ]
  },
  {
   "cell_type": "markdown",
   "id": "049b33a0-f8bd-4a70-afd1-19ae559a129d",
   "metadata": {},
   "source": [
    "**Tâche 1.7:** Selectionner à l'aide des masques les propriétes 1) se trouvant en `Argentine` 2) dans l'état de `Capital Federal` 3) coûtant au maximum 400 milles USD 4) avec exlusion des prix n'ont compris entre le 10ème et le 90ème percentiles (pour exclure les valeurs extrèmes). Utiliser une fonction pour faire cette manipulation. La base obtenue sera nommée df_final.\n",
    "- [Filter les colonnes et lignes selon certaines conditions]()"
   ]
  },
  {
   "cell_type": "markdown",
   "id": "667e84e2-29d9-4b7e-a591-e4916cbfb744",
   "metadata": {},
   "source": [
    "### 2. Visualisation des données"
   ]
  },
  {
   "cell_type": "markdown",
   "id": "14462f45-4024-453c-a455-cdbd5d9e6900",
   "metadata": {},
   "source": [
    "**Task 2.1:** Create a scatter plot showing price vs. surface_covered  in `Capital federal` that has the largest number of properties. Be sure to label the x-axis `\"Area [sq meters]\"` and the y-axis `\"Price [USD]\"`; and use the title `Price vs. Area`. Use Matplotlib (`plt`)."
   ]
  },
  {
   "cell_type": "markdown",
   "id": "583aa265-e5b1-4fef-8200-7bf8f1fbfe05",
   "metadata": {},
   "source": [
    "**Task 2.2:** calculate the correlation coefficient between price and surface_covered"
   ]
  },
  {
   "cell_type": "code",
   "execution_count": null,
   "id": "36d9dcd1-215a-409c-9aab-b06167bdd725",
   "metadata": {},
   "outputs": [],
   "source": [
    "corr = ..."
   ]
  },
  {
   "cell_type": "code",
   "execution_count": 217,
   "id": "620a7043-b7e4-4066-bb84-417fc36956c1",
   "metadata": {},
   "outputs": [
    {
     "name": "stdout",
     "output_type": "stream",
     "text": [
      "0.3452071033861359\n"
     ]
    }
   ],
   "source": [
    "p_correlation = df_final.surface_covered.corr(df_final.price)\n",
    "print(p_correlation)"
   ]
  },
  {
   "cell_type": "markdown",
   "id": "78b7a03d-62fb-443b-a7f4-c293923c8a04",
   "metadata": {},
   "source": [
    "**Task 2.3:** Develop and evaluate regression model to predict price according to surface_covered, using SKlean package"
   ]
  },
  {
   "cell_type": "code",
   "execution_count": null,
   "id": "4ac5f98c-908c-46c7-a6c6-b1e0c80b7b8a",
   "metadata": {},
   "outputs": [],
   "source": []
  },
  {
   "cell_type": "markdown",
   "id": "85d31b13-0b60-42f8-98d7-73c678bcfa67",
   "metadata": {},
   "source": [
    "**Task 2.4:** Rewrite the price as p = ax + b"
   ]
  },
  {
   "cell_type": "code",
   "execution_count": null,
   "id": "9f4c8c74-2393-4192-8477-0072198b7f7a",
   "metadata": {},
   "outputs": [],
   "source": []
  }
 ],
 "metadata": {
  "kernelspec": {
   "display_name": "Python 3 (ipykernel)",
   "language": "python",
   "name": "python3"
  },
  "language_info": {
   "codemirror_mode": {
    "name": "ipython",
    "version": 3
   },
   "file_extension": ".py",
   "mimetype": "text/x-python",
   "name": "python",
   "nbconvert_exporter": "python",
   "pygments_lexer": "ipython3",
   "version": "3.11.3"
  }
 },
 "nbformat": 4,
 "nbformat_minor": 5
}
