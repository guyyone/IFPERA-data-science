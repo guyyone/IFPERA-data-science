{
 "cells": [
  {
   "attachments": {
    "image.png": {
     "image/png": "[encoded data removed]"
    }
   },
   "cell_type": "markdown",
   "id": "682fd6cc",
   "metadata": {},
   "source": [
    "- Exercice  semaine 7 - data science\n",
    "- Date limite de soumission des réponses: jeudi  04 mai 2023 à 12h\n",
    "- Discussion en ligne/présentiel : Vendredi  05 mai 2023 de 16h à 18h\n",
    "- Thématiques abordées : Scikit-learn et modèles de régression de machine learning\n",
    "\n",
    "- Instructions : Utilisez Python ou R pour traiter les questions. Aucune autre application logicielle n’est acceptée pour l’analyse des données. Il est souhaitable de fournir votre éditeur de codes annoté avec votre devoir. \n",
    "- Le travail de cette semaine porte sur la base des données nommée «Cameroon_lung_function » et disponible à l’adresse URL : \n",
    "https://raw.githubusercontent.com/pefura/IFPERA/main/Cameroon_lung_function.csv\n",
    "![image.png](attachment:image.png)\n"
   ]
  },
  {
   "cell_type": "code",
   "execution_count": 2,
   "id": "6512c8ec",
   "metadata": {},
   "outputs": [],
   "source": [
    "import pandas as pd\n",
    "import numpy as np"
   ]
  },
  {
   "cell_type": "code",
   "execution_count": 3,
   "id": "167a78cd",
   "metadata": {},
   "outputs": [],
   "source": [
    "url = \"C:/Users/DDD/Documents/Cameroon_lung_function/Cameroon_lung_function.csv\"\n",
    "dataset = pd.read_csv(url)"
   ]
  },
  {
   "cell_type": "code",
   "execution_count": 5,
   "id": "dffb5dc4",
   "metadata": {},
   "outputs": [
    {
     "data": {
      "text/html": [
       "<div><div id=4aaaf23c-7926-4490-a3b6-0300c2c02285 style=\"display:none; background-color:#9D6CFF; color:white; width:200px; height:30px; padding-left:5px; border-radius:4px; flex-direction:row; justify-content:space-around; align-items:center;\" onmouseover=\"this.style.backgroundColor='#BA9BF8'\" onmouseout=\"this.style.backgroundColor='#9D6CFF'\" onclick=\"window.commands?.execute('create-mitosheet-from-dataframe-output');\">See Full Dataframe in Mito</div> <script> if (window.commands.hasCommand('create-mitosheet-from-dataframe-output')) document.getElementById('4aaaf23c-7926-4490-a3b6-0300c2c02285').style.display = 'flex' </script> <table border=\"1\" class=\"dataframe\">\n",
       "  <thead>\n",
       "    <tr style=\"text-align: right;\">\n",
       "      <th></th>\n",
       "      <th>ID</th>\n",
       "      <th>sex</th>\n",
       "      <th>age</th>\n",
       "      <th>ethnicity</th>\n",
       "      <th>height</th>\n",
       "      <th>fvc</th>\n",
       "      <th>fev</th>\n",
       "      <th>fef2575</th>\n",
       "      <th>fevfvc</th>\n",
       "    </tr>\n",
       "  </thead>\n",
       "  <tbody>\n",
       "    <tr>\n",
       "      <th>1</th>\n",
       "      <td>1000948</td>\n",
       "      <td>1</td>\n",
       "      <td>4.95</td>\n",
       "      <td>1</td>\n",
       "      <td>109</td>\n",
       "      <td>1.23</td>\n",
       "      <td>1.12</td>\n",
       "      <td>1.39</td>\n",
       "      <td>0.91</td>\n",
       "    </tr>\n",
       "    <tr>\n",
       "      <th>2</th>\n",
       "      <td>500921</td>\n",
       "      <td>1</td>\n",
       "      <td>5.00</td>\n",
       "      <td>1</td>\n",
       "      <td>119</td>\n",
       "      <td>1.10</td>\n",
       "      <td>1.10</td>\n",
       "      <td>1.81</td>\n",
       "      <td>1.00</td>\n",
       "    </tr>\n",
       "    <tr>\n",
       "      <th>3</th>\n",
       "      <td>1000157</td>\n",
       "      <td>1</td>\n",
       "      <td>5.40</td>\n",
       "      <td>1</td>\n",
       "      <td>107</td>\n",
       "      <td>0.97</td>\n",
       "      <td>0.91</td>\n",
       "      <td>1.70</td>\n",
       "      <td>0.94</td>\n",
       "    </tr>\n",
       "  </tbody>\n",
       "</table></div>"
      ],
      "text/plain": [
       "        ID  sex   age  ethnicity  height   fvc   fev  fef2575  fevfvc\n",
       "1  1000948    1  4.95          1     109  1.23  1.12     1.39    0.91\n",
       "2   500921    1  5.00          1     119  1.10  1.10     1.81    1.00\n",
       "3  1000157    1  5.40          1     107  0.97  0.91     1.70    0.94"
      ]
     },
     "execution_count": 5,
     "metadata": {},
     "output_type": "execute_result"
    }
   ],
   "source": [
    "dataset.head(3)"
   ]
  },
  {
   "cell_type": "markdown",
   "id": "b7e924b7",
   "metadata": {},
   "source": [
    "## I. Partie 1"
   ]
  },
  {
   "cell_type": "markdown",
   "id": "54d853dc",
   "metadata": {},
   "source": [
    "### 1.\tImporter la base de données « Cameroon_lung_function »  dans votre environnement de travail et nommer cette base « data » après importation. Montrer la preuve de la réussite de l’importation. "
   ]
  },
  {
   "cell_type": "code",
   "execution_count": 6,
   "id": "2ad2810e",
   "metadata": {},
   "outputs": [
    {
     "data": {
      "text/html": [
       "<div><div id=66cf85df-8fe0-4fe2-886d-6c995d09747a style=\"display:none; background-color:#9D6CFF; color:white; width:200px; height:30px; padding-left:5px; border-radius:4px; flex-direction:row; justify-content:space-around; align-items:center;\" onmouseover=\"this.style.backgroundColor='#BA9BF8'\" onmouseout=\"this.style.backgroundColor='#9D6CFF'\" onclick=\"window.commands?.execute('create-mitosheet-from-dataframe-output');\">See Full Dataframe in Mito</div> <script> if (window.commands.hasCommand('create-mitosheet-from-dataframe-output')) document.getElementById('66cf85df-8fe0-4fe2-886d-6c995d09747a').style.display = 'flex' </script> <table border=\"1\" class=\"dataframe\">\n",
       "  <thead>\n",
       "    <tr style=\"text-align: right;\">\n",
       "      <th></th>\n",
       "      <th>ID</th>\n",
       "      <th>sex</th>\n",
       "      <th>age</th>\n",
       "      <th>ethnicity</th>\n",
       "      <th>height</th>\n",
       "      <th>fvc</th>\n",
       "      <th>fev</th>\n",
       "      <th>fef2575</th>\n",
       "      <th>fevfvc</th>\n",
       "    </tr>\n",
       "  </thead>\n",
       "  <tbody>\n",
       "    <tr>\n",
       "      <th>1775</th>\n",
       "      <td>1995</td>\n",
       "      <td>2</td>\n",
       "      <td>81.160849</td>\n",
       "      <td>1</td>\n",
       "      <td>160</td>\n",
       "      <td>1.70</td>\n",
       "      <td>1.26</td>\n",
       "      <td>2.96</td>\n",
       "      <td>0.74</td>\n",
       "    </tr>\n",
       "    <tr>\n",
       "      <th>1776</th>\n",
       "      <td>1722</td>\n",
       "      <td>2</td>\n",
       "      <td>85.232033</td>\n",
       "      <td>1</td>\n",
       "      <td>170</td>\n",
       "      <td>2.31</td>\n",
       "      <td>2.04</td>\n",
       "      <td>4.35</td>\n",
       "      <td>0.88</td>\n",
       "    </tr>\n",
       "    <tr>\n",
       "      <th>1777</th>\n",
       "      <td>1469</td>\n",
       "      <td>2</td>\n",
       "      <td>88.131417</td>\n",
       "      <td>1</td>\n",
       "      <td>160</td>\n",
       "      <td>2.27</td>\n",
       "      <td>1.65</td>\n",
       "      <td>3.92</td>\n",
       "      <td>0.73</td>\n",
       "    </tr>\n",
       "  </tbody>\n",
       "</table></div>"
      ],
      "text/plain": [
       "        ID  sex        age  ethnicity  height   fvc   fev  fef2575  fevfvc\n",
       "1775  1995    2  81.160849          1     160  1.70  1.26     2.96    0.74\n",
       "1776  1722    2  85.232033          1     170  2.31  2.04     4.35    0.88\n",
       "1777  1469    2  88.131417          1     160  2.27  1.65     3.92    0.73"
      ]
     },
     "execution_count": 6,
     "metadata": {},
     "output_type": "execute_result"
    }
   ],
   "source": [
    "data = dataset.copy()\n",
    "data.tail(3)"
   ]
  },
  {
   "cell_type": "code",
   "execution_count": 7,
   "id": "ecc9ae88",
   "metadata": {},
   "outputs": [
    {
     "name": "stdout",
     "output_type": "stream",
     "text": [
      "<class 'pandas.core.frame.DataFrame'>\n",
      "Int64Index: 1777 entries, 1 to 1777\n",
      "Data columns (total 9 columns):\n",
      " #   Column     Non-Null Count  Dtype  \n",
      "---  ------     --------------  -----  \n",
      " 0   ID         1777 non-null   int64  \n",
      " 1   sex        1777 non-null   int64  \n",
      " 2   age        1777 non-null   float64\n",
      " 3   ethnicity  1777 non-null   int64  \n",
      " 4   height     1777 non-null   int64  \n",
      " 5   fvc        1777 non-null   float64\n",
      " 6   fev        1777 non-null   float64\n",
      " 7   fef2575    1777 non-null   float64\n",
      " 8   fevfvc     1777 non-null   float64\n",
      "dtypes: float64(5), int64(4)\n",
      "memory usage: 138.8 KB\n"
     ]
    }
   ],
   "source": [
    "data.info()"
   ]
  },
  {
   "cell_type": "code",
   "execution_count": 16,
   "id": "89e46ac0",
   "metadata": {},
   "outputs": [
    {
     "data": {
      "text/plain": [
       "2    935\n",
       "1    842\n",
       "Name: sex, dtype: int64"
      ]
     },
     "execution_count": 16,
     "metadata": {},
     "output_type": "execute_result"
    }
   ],
   "source": [
    "data.sex.value_counts()"
   ]
  },
  {
   "cell_type": "markdown",
   "id": "8138f8e4",
   "metadata": {},
   "source": [
    "### 2.\tSélectionner la sous-base de données (que vous nommerez data_male) contenant uniquement les données des sujets de sexe masculin et les variables age, height et fev."
   ]
  },
  {
   "cell_type": "code",
   "execution_count": 9,
   "id": "1b31f93b",
   "metadata": {},
   "outputs": [
    {
     "data": {
      "text/plain": [
       "(842, 3)"
      ]
     },
     "execution_count": 9,
     "metadata": {},
     "output_type": "execute_result"
    }
   ],
   "source": [
    "df = data.query('sex==1')\n",
    "data_male = df[[\"age\", \"height\", \"fev\"]]\n",
    "data_male.shape"
   ]
  },
  {
   "cell_type": "code",
   "execution_count": 17,
   "id": "a2925129",
   "metadata": {},
   "outputs": [
    {
     "name": "stdout",
     "output_type": "stream",
     "text": [
      "<class 'pandas.core.frame.DataFrame'>\n",
      "Int64Index: 842 entries, 1 to 842\n",
      "Data columns (total 3 columns):\n",
      " #   Column  Non-Null Count  Dtype  \n",
      "---  ------  --------------  -----  \n",
      " 0   age     842 non-null    float64\n",
      " 1   height  842 non-null    int64  \n",
      " 2   fev     842 non-null    float64\n",
      "dtypes: float64(2), int64(1)\n",
      "memory usage: 26.3 KB\n"
     ]
    }
   ],
   "source": [
    "data_male.info()"
   ]
  },
  {
   "cell_type": "markdown",
   "id": "ed67b8bd",
   "metadata": {},
   "source": [
    "### 3.\tDécrire numériquement et graphiquement les 3 variables de la base « data_male »."
   ]
  },
  {
   "cell_type": "code",
   "execution_count": 10,
   "id": "7b392acb",
   "metadata": {},
   "outputs": [
    {
     "data": {
      "text/html": [
       "<div><div id=f2a40bb9-9b3a-459c-ac16-c89d27053e55 style=\"display:none; background-color:#9D6CFF; color:white; width:200px; height:30px; padding-left:5px; border-radius:4px; flex-direction:row; justify-content:space-around; align-items:center;\" onmouseover=\"this.style.backgroundColor='#BA9BF8'\" onmouseout=\"this.style.backgroundColor='#9D6CFF'\" onclick=\"window.commands?.execute('create-mitosheet-from-dataframe-output');\">See Full Dataframe in Mito</div> <script> if (window.commands.hasCommand('create-mitosheet-from-dataframe-output')) document.getElementById('f2a40bb9-9b3a-459c-ac16-c89d27053e55').style.display = 'flex' </script> <table border=\"1\" class=\"dataframe\">\n",
       "  <thead>\n",
       "    <tr style=\"text-align: right;\">\n",
       "      <th></th>\n",
       "      <th>age</th>\n",
       "      <th>height</th>\n",
       "      <th>fev</th>\n",
       "    </tr>\n",
       "  </thead>\n",
       "  <tbody>\n",
       "    <tr>\n",
       "      <th>count</th>\n",
       "      <td>842.000000</td>\n",
       "      <td>842.000000</td>\n",
       "      <td>842.000000</td>\n",
       "    </tr>\n",
       "    <tr>\n",
       "      <th>mean</th>\n",
       "      <td>28.243708</td>\n",
       "      <td>161.933492</td>\n",
       "      <td>2.814228</td>\n",
       "    </tr>\n",
       "    <tr>\n",
       "      <th>std</th>\n",
       "      <td>17.739684</td>\n",
       "      <td>18.336733</td>\n",
       "      <td>1.002225</td>\n",
       "    </tr>\n",
       "    <tr>\n",
       "      <th>min</th>\n",
       "      <td>4.950000</td>\n",
       "      <td>103.000000</td>\n",
       "      <td>0.840000</td>\n",
       "    </tr>\n",
       "    <tr>\n",
       "      <th>25%</th>\n",
       "      <td>13.422500</td>\n",
       "      <td>154.000000</td>\n",
       "      <td>1.960000</td>\n",
       "    </tr>\n",
       "    <tr>\n",
       "      <th>50%</th>\n",
       "      <td>24.691307</td>\n",
       "      <td>168.000000</td>\n",
       "      <td>2.930000</td>\n",
       "    </tr>\n",
       "    <tr>\n",
       "      <th>75%</th>\n",
       "      <td>38.247091</td>\n",
       "      <td>175.000000</td>\n",
       "      <td>3.540000</td>\n",
       "    </tr>\n",
       "    <tr>\n",
       "      <th>max</th>\n",
       "      <td>87.159480</td>\n",
       "      <td>196.000000</td>\n",
       "      <td>5.910000</td>\n",
       "    </tr>\n",
       "  </tbody>\n",
       "</table></div>"
      ],
      "text/plain": [
       "              age      height         fev\n",
       "count  842.000000  842.000000  842.000000\n",
       "mean    28.243708  161.933492    2.814228\n",
       "std     17.739684   18.336733    1.002225\n",
       "min      4.950000  103.000000    0.840000\n",
       "25%     13.422500  154.000000    1.960000\n",
       "50%     24.691307  168.000000    2.930000\n",
       "75%     38.247091  175.000000    3.540000\n",
       "max     87.159480  196.000000    5.910000"
      ]
     },
     "execution_count": 10,
     "metadata": {},
     "output_type": "execute_result"
    }
   ],
   "source": [
    "# Description numérique\n",
    "data_male.describe()"
   ]
  },
  {
   "cell_type": "code",
   "execution_count": 11,
   "id": "b0a36ce0",
   "metadata": {},
   "outputs": [
    {
     "data": {
      "application/javascript": [
       "\n",
       "        if (window._pyforest_update_imports_cell) { window._pyforest_update_imports_cell('import matplotlib.pyplot as plt'); }\n",
       "    "
      ],
      "text/plain": [
       "<IPython.core.display.Javascript object>"
      ]
     },
     "metadata": {},
     "output_type": "display_data"
    },
    {
     "name": "stderr",
     "output_type": "stream",
     "text": [
      "<ipython-input-11-41d778a9763a>:4: UserWarning: To output multiple subplots, the figure containing the passed axes is being cleared\n",
      "  hist = data.iloc[:,0:6].hist(ax = ax, bins=bins, grid= False, edgecolor = \"black\", color = \"blue\")\n"
     ]
    },
    {
     "data": {
      "image/png": "[encoded data removed]",
      "text/plain": [
       "<Figure size 432x432 with 4 Axes>"
      ]
     },
     "metadata": {
      "needs_background": "light"
     },
     "output_type": "display_data"
    }
   ],
   "source": [
    "def multi_hist(data, bins):\n",
    "    fig = plt.figure (figsize= (6,6))\n",
    "    ax = fig.gca()\n",
    "    hist = data.iloc[:,0:6].hist(ax = ax, bins=bins, grid= False, edgecolor = \"black\", color = \"blue\")\n",
    "    \n",
    "multi_hist(data= data_male, bins=30)"
   ]
  },
  {
   "cell_type": "markdown",
   "id": "9e18b71f",
   "metadata": {},
   "source": [
    "### 4.\tDécrire graphiquement la relation entre fev (variable expliquée) et l’âge d’une part et entre fev et la taille d’autre part. Quelles conclusions pouvez-vous tirer ?"
   ]
  },
  {
   "cell_type": "code",
   "execution_count": 12,
   "id": "295ca387",
   "metadata": {},
   "outputs": [
    {
     "data": {
      "text/plain": [
       "<seaborn.axisgrid.PairGrid at 0x1c1e25e8b80>"
      ]
     },
     "execution_count": 12,
     "metadata": {},
     "output_type": "execute_result"
    },
    {
     "data": {
      "image/png": "[encoded data removed]",
      "text/plain": [
       "<Figure size 540x540 with 12 Axes>"
      ]
     },
     "metadata": {
      "needs_background": "light"
     },
     "output_type": "display_data"
    }
   ],
   "source": [
    "# Description graphique\n",
    "import seaborn as sns\n",
    "sns.pairplot(data_male)\n",
    "\n",
    "## Conclusion: relation non linéaire, demi-parabole pour realtaionnfev = f(height;  et pour l'âge: agmentation en pete brute\n",
    "# jusqu'à 25 ans puis décroissance progressive. "
   ]
  },
  {
   "cell_type": "markdown",
   "id": "b4b06c18",
   "metadata": {},
   "source": [
    "### 5.Quelles sont les métriques utilisées pour comparer les modèles de régression en machine learning.   "
   ]
  },
  {
   "cell_type": "markdown",
   "id": "a34bff5c",
   "metadata": {},
   "source": [
    "- MAE\n",
    "- MSE\n",
    "- RMSE\n",
    "- MeAE\n",
    "- ME\n",
    "- R2, AIC, BIC..."
   ]
  },
  {
   "cell_type": "markdown",
   "id": "6c0ab9dc",
   "metadata": {},
   "source": [
    "# II. Partie 2\n",
    "Dans cette partie les données de data_male seront utilisées pour développer les modèles de régression permettant de prédire « fev ». "
   ]
  },
  {
   "cell_type": "markdown",
   "id": "791e76f9",
   "metadata": {},
   "source": [
    "### 6.Faire une analyse prédictive de « fev » avec les modèles suivants : K Neighbors Regressor, Gradient Boosting Regressor et Random Forest Regressor. "
   ]
  },
  {
   "cell_type": "code",
   "execution_count": 13,
   "id": "e280f82b",
   "metadata": {},
   "outputs": [
    {
     "name": "stdout",
     "output_type": "stream",
     "text": [
      "X shape: (842, 2)\n",
      "y shape: (842,)\n"
     ]
    }
   ],
   "source": [
    "# Defining target(y) and features (X)\n",
    "y = data_male['fev']\n",
    "X = data_male.drop(columns =['fev'])\n",
    "\n",
    "print(\"X shape:\", X.shape)\n",
    "print(\"y shape:\", y.shape)"
   ]
  },
  {
   "cell_type": "code",
   "execution_count": 86,
   "id": "c26f478e",
   "metadata": {},
   "outputs": [],
   "source": [
    "# UTILISATION PROBLEMATIQUE POUR OBETENIR LES PREPROCESSING\n",
    "def preprocessing (data):\n",
    "    # Defining target(y) and features (X)\n",
    "    y = data['fev']\n",
    "    X = data.drop(columns =['fev'])\n",
    "    # splitting data into trianing and test sets\n",
    "    from sklearn.model_selection import train_test_split\n",
    "    X0_train, X_test, y_train, y_test = train_test_split(X, y,test_size=0.2, random_state=0)\n",
    "    # for split verification\n",
    "    print(\"X0_train shape:\", X_train.shape)\n",
    "    print(\"y_train shape:\", y_train.shape)\n",
    "    print(\"X_test shape:\", X_test.shape)\n",
    "    print(\"y_test shape:\", y_test.shape)\n",
    "    # Normalise data for KNN and other models needed scaling\n",
    "    from sklearn.preprocessing import RobustScaler\n",
    "    scaler= RobustScaler()\n",
    "    X_train_scaled = scaler.fit_transform(X_train)\n",
    "    X_test_scaled = scaler.transform(X_test)\n",
    "    return X0_train, X_test, y_train, y_test, X_train_scaled,  X_test_scaled\n",
    "    "
   ]
  },
  {
   "cell_type": "code",
   "execution_count": 87,
   "id": "f48df814",
   "metadata": {},
   "outputs": [
    {
     "name": "stdout",
     "output_type": "stream",
     "text": [
      "X0_train shape: (673, 2)\n",
      "y_train shape: (673,)\n",
      "X_test shape: (169, 2)\n",
      "y_test shape: (169,)\n"
     ]
    },
    {
     "data": {
      "text/plain": [
       "(           age  height\n",
       " 839  81.108830     176\n",
       " 3     5.400000     107\n",
       " 834  77.163587     168\n",
       " 478  26.863792     170\n",
       " 240  14.670000     160\n",
       " ..         ...     ...\n",
       " 836  78.086242     155\n",
       " 193  12.260000     142\n",
       " 630  37.823409     160\n",
       " 560  31.123888     182\n",
       " 685  44.257358     170\n",
       " \n",
       " [673 rows x 2 columns],\n",
       "            age  height\n",
       " 402  24.202601     172\n",
       " 668  42.039699     167\n",
       " 645  40.142368     169\n",
       " 765  56.057495     170\n",
       " 671  42.488706     166\n",
       " ..         ...     ...\n",
       " 832  76.145106     170\n",
       " 669  42.020534     175\n",
       " 745  52.175222     180\n",
       " 250  15.170000     158\n",
       " 383  23.293634     178\n",
       " \n",
       " [169 rows x 2 columns],\n",
       " 839    1.58\n",
       " 3      0.91\n",
       " 834    2.30\n",
       " 478    3.90\n",
       " 240    2.29\n",
       "        ... \n",
       " 836    1.47\n",
       " 193    2.09\n",
       " 630    2.53\n",
       " 560    3.19\n",
       " 685    2.70\n",
       " Name: fev, Length: 673, dtype: float64,\n",
       " 402    3.01\n",
       " 668    3.03\n",
       " 645    3.48\n",
       " 765    3.18\n",
       " 671    1.81\n",
       "        ... \n",
       " 832    1.35\n",
       " 669    3.62\n",
       " 745    3.31\n",
       " 250    2.88\n",
       " 383    3.42\n",
       " Name: fev, Length: 169, dtype: float64,\n",
       " array([[ 2.2743541 ,  0.36363636],\n",
       "        [-0.7755425 , -2.77272727],\n",
       "        [ 2.11542173,  0.        ],\n",
       "        ...,\n",
       "        [ 0.53062012, -0.36363636],\n",
       "        [ 0.2607329 ,  0.63636364],\n",
       "        [ 0.78980892,  0.09090909]]),\n",
       " array([[-1.80880690e-02,  1.81818182e-01],\n",
       "        [ 7.00471503e-01, -4.54545455e-02],\n",
       "        [ 6.24038382e-01,  4.54545455e-02],\n",
       "        [ 1.26517220e+00,  9.09090909e-02],\n",
       "        [ 7.18559572e-01, -9.09090909e-02],\n",
       "        [-6.17641382e-03,  2.72727273e-01],\n",
       "        [ 3.37055726e-01, -1.36363636e-01],\n",
       "        [-1.69630794e-01,  6.36363636e-01],\n",
       "        [ 1.07535776e-01, -4.09090909e-01],\n",
       "        [ 6.86133400e-01,  1.81818182e-01],\n",
       "        [ 3.31430777e-01, -4.54545455e-02],\n",
       "        [ 9.78299832e-02,  2.27272727e-01],\n",
       "        [-3.23158794e-02,  3.63636364e-01],\n",
       "        [-5.64451430e-01, -9.09090909e-01],\n",
       "        [-1.18123914e-01,  1.36363636e-01],\n",
       "        [ 1.42057518e-01,  2.72727273e-01],\n",
       "        [-7.44926241e-01, -2.00000000e+00],\n",
       "        [ 3.64739295e-01,  1.04545455e+00],\n",
       "        [-1.86615932e-01, -1.36363636e-01],\n",
       "        [ 2.35806656e-01,  3.18181818e-01],\n",
       "        [-4.39569305e-01, -2.72727273e-01],\n",
       "        [ 5.17054071e-01,  4.54545455e-02],\n",
       "        [-8.02933797e-02, -9.09090909e-02],\n",
       "        [ 6.44111727e-02,  5.90909091e-01],\n",
       "        [-7.18338434e-01, -2.13636364e+00],\n",
       "        [ 8.99660849e-01,  1.81818182e-01],\n",
       "        [-5.53977445e-01, -1.36363636e+00],\n",
       "        [-2.79236772e-01,  5.00000000e-01],\n",
       "        [-2.71985552e-01, -1.36363636e-01],\n",
       "        [-6.04406210e-02,  4.09090909e-01],\n",
       "        [-3.74711170e-01, -5.90909091e-01],\n",
       "        [ 8.71315521e-03,  5.00000000e-01],\n",
       "        [-6.73622577e-01, -2.00000000e+00],\n",
       "        [-1.02903466e-01,  6.81818182e-01],\n",
       "        [ 1.18741556e+00, -1.36363636e-01],\n",
       "        [ 6.57346899e-01,  2.72727273e-01],\n",
       "        [-5.56797364e-01, -2.13636364e+00],\n",
       "        [ 2.07185596e+00, -5.45454545e-01],\n",
       "        [ 8.33374693e-01,  9.09090909e-02],\n",
       "        [-6.26086801e-01, -2.09090909e+00],\n",
       "        [ 1.42608983e-01,  5.45454545e-01],\n",
       "        [-7.14712824e-01, -2.40909091e+00],\n",
       "        [ 9.95064384e-01,  4.09090909e-01],\n",
       "        [-4.08550197e-01, -3.63636364e-01],\n",
       "        [-4.79048171e-01, -1.36363636e-01],\n",
       "        [-3.35232305e-01,  2.27272727e-01],\n",
       "        [-3.48929054e-01, -4.54545455e-01],\n",
       "        [ 9.85027711e-01,  6.36363636e-01],\n",
       "        [-7.51371770e-01, -2.95454545e+00],\n",
       "        [ 8.28632090e-01, -3.18181818e-01],\n",
       "        [-1.15697466e-01,  1.00000000e+00],\n",
       "        [ 4.62238399e-01,  1.36363636e-01],\n",
       "        [ 9.99255522e-02, -3.63636364e-01],\n",
       "        [-5.60020128e-01, -1.63636364e+00],\n",
       "        [-3.94047757e-01, -5.00000000e-01],\n",
       "        [-3.64237185e-01, -3.63636364e-01],\n",
       "        [ 1.00256431e-01,  2.27272727e-01],\n",
       "        [-8.07345521e-02,  4.54545455e-02],\n",
       "        [-5.37863623e-01, -1.36363636e+00],\n",
       "        [ 4.93010175e-02,  7.72727273e-01],\n",
       "        [ 4.94333692e-01,  0.00000000e+00],\n",
       "        [ 1.09443847e+00, -1.81818182e-01],\n",
       "        [ 2.36038272e+00, -1.36363636e-01],\n",
       "        [ 6.27567761e-01,  7.72727273e-01],\n",
       "        [ 9.16204814e-01,  3.18181818e-01],\n",
       "        [-4.16607108e-01, -2.27272727e-01],\n",
       "        [ 2.06192958e+00,  9.09090909e-02],\n",
       "        [-6.34143712e-01, -1.68181818e+00],\n",
       "        [-4.97421899e-02,  4.54545455e-01],\n",
       "        [-3.91630684e-01, -4.54545455e-01],\n",
       "        [-3.59000193e-01,  4.54545455e-01],\n",
       "        [ 3.41467450e-01,  1.81818182e-01],\n",
       "        [ 6.69148262e-01, -9.09090909e-02],\n",
       "        [ 1.04524775e+00,  1.36363636e-01],\n",
       "        [-3.39663606e-01,  0.00000000e+00],\n",
       "        [ 8.10102848e-01,  1.81818182e-01],\n",
       "        [ 1.06763725e-01,  1.81818182e-01],\n",
       "        [-6.03930295e-01, -1.72727273e+00],\n",
       "        [ 1.23208426e+00, -3.63636364e-01],\n",
       "        [ 8.64808228e-01, -6.36363636e-01],\n",
       "        [-1.48233932e-01, -5.45454545e-01],\n",
       "        [-5.47934762e-01, -1.40909091e+00],\n",
       "        [ 1.00366725e+00, -1.36363636e-01],\n",
       "        [ 4.32790140e-01,  0.00000000e+00],\n",
       "        [ 1.55402983e-01, -1.36363636e-01],\n",
       "        [-4.87910773e-01, -8.18181818e-01],\n",
       "        [ 1.74263104e-01, -2.72727273e-01],\n",
       "        [-3.74711170e-01,  4.54545455e-02],\n",
       "        [-4.72199796e-01, -6.81818182e-01],\n",
       "        [ 2.03777539e+00, -4.54545455e-02],\n",
       "        [ 1.01469656e+00,  3.18181818e-01],\n",
       "        [-6.95779083e-01, -1.63636364e+00],\n",
       "        [ 6.20288416e-01,  1.81818182e-01],\n",
       "        [-1.42498690e-01,  1.09090909e+00],\n",
       "        [ 4.17679985e-01,  1.36363636e-01],\n",
       "        [ 2.05696639e-01,  3.18181818e-01],\n",
       "        [ 1.63542614e+00, -2.27272727e-01],\n",
       "        [ 1.30256156e-01, -4.09090909e-01],\n",
       "        [ 1.27388535e-01,  3.18181818e-01],\n",
       "        [ 2.74960708e-01, -6.81818182e-01],\n",
       "        [ 8.12088124e-01,  0.00000000e+00],\n",
       "        [-6.10375824e-01, -1.90909091e+00],\n",
       "        [ 1.35109052e+00, -3.63636364e-01],\n",
       "        [-4.87507927e-01, -1.00000000e+00],\n",
       "        [-6.63148592e-01, -1.45454545e+00],\n",
       "        [-6.40186395e-01, -1.68181818e+00],\n",
       "        [ 1.61027932e-02,  4.54545455e-01],\n",
       "        [ 7.79441365e-01,  2.27272727e-01],\n",
       "        [-2.86762070e-03,  9.09090909e-02],\n",
       "        [ 8.26095348e-01,  1.36363636e-01],\n",
       "        [-7.52983153e-01, -2.63636364e+00],\n",
       "        [-5.47129071e-01, -1.27272727e+00],\n",
       "        [ 8.29955607e-01,  5.00000000e-01],\n",
       "        [-2.16284777e-01,  4.09090909e-01],\n",
       "        [-1.00146138e-01,  6.36363636e-01],\n",
       "        [-3.76725398e-01,  4.09090909e-01],\n",
       "        [ 1.79446880e-01,  3.18181818e-01],\n",
       "        [ 1.90807070e-01, -5.45454545e-01],\n",
       "        [-2.27203794e-01,  4.09090909e-01],\n",
       "        [-6.24878264e-01, -1.81818182e+00],\n",
       "        [ 8.87859487e-02,  1.81818182e-01],\n",
       "        [-6.46631924e-01, -1.40909091e+00],\n",
       "        [ 4.15584416e-01,  3.63636364e-01],\n",
       "        [-5.63645739e-01, -1.09090909e+00],\n",
       "        [ 8.41315797e-01,  2.72727273e-01],\n",
       "        [-3.85185155e-01, -2.72727273e-01],\n",
       "        [ 1.26715747e+00,  9.09090909e-02],\n",
       "        [ 2.40549260e-01,  3.63636364e-01],\n",
       "        [-7.91656327e-01, -2.22727273e+00],\n",
       "        [-6.67273279e-02,  2.27272727e-01],\n",
       "        [-5.44711997e-01, -1.00000000e+00],\n",
       "        [ 2.79923898e-01, -2.27272727e-01],\n",
       "        [ 1.34667880e+00,  1.81818182e-01],\n",
       "        [-1.51763311e-01,  1.81818182e-01],\n",
       "        [ 6.17641382e-02,  1.81818182e-01],\n",
       "        [ 1.40623708e-01, -2.27272727e-01],\n",
       "        [ 5.00289519e-01,  1.36363636e-01],\n",
       "        [ 8.81241900e-02,  3.63636364e-01],\n",
       "        [-5.20138418e-01, -1.09090909e+00],\n",
       "        [ 1.71174897e-01,  4.09090909e-01],\n",
       "        [ 2.51810186e+00,  2.27272727e-01],\n",
       "        [ 4.82091157e-01,  4.54545455e-02],\n",
       "        [-3.76322552e-01,  2.27272727e-01],\n",
       "        [-6.71685003e-02, -4.09090909e-01],\n",
       "        [ 7.74257590e-02,  9.09090909e-02],\n",
       "        [-6.87722172e-01, -1.59090909e+00],\n",
       "        [ 9.35506107e-01,  0.00000000e+00],\n",
       "        [-7.09184658e-02, -9.09090909e-02],\n",
       "        [-6.93764855e-01, -2.00000000e+00],\n",
       "        [-7.23172581e-01, -2.09090909e+00],\n",
       "        [ 7.86610417e-01,  7.72727273e-01],\n",
       "        [-1.70954311e-01,  7.27272727e-01],\n",
       "        [ 4.59039899e-01,  3.63636364e-01],\n",
       "        [-6.76039650e-01, -1.95454545e+00],\n",
       "        [ 1.75178537e+00, -4.09090909e-01],\n",
       "        [-5.14095734e-01, -9.54545455e-01],\n",
       "        [ 4.58157554e-01,  4.54545455e-02],\n",
       "        [-5.95470538e-01, -1.59090909e+00],\n",
       "        [-5.27201037e-02,  1.81818182e-01],\n",
       "        [ 5.49811123e-01,  0.00000000e+00],\n",
       "        [-7.50163234e-01, -2.50000000e+00],\n",
       "        [ 1.14043069e-01,  2.72727273e-01],\n",
       "        [-6.57105909e-01, -1.77272727e+00],\n",
       "        [-3.33620923e-01,  4.54545455e-01],\n",
       "        [ 2.07439270e+00,  9.09090909e-02],\n",
       "        [ 6.99699451e-01,  3.18181818e-01],\n",
       "        [ 1.10877657e+00,  5.45454545e-01],\n",
       "        [-3.81962390e-01, -4.54545455e-01],\n",
       "        [-5.47053795e-02,  4.54545455e-01]]))"
      ]
     },
     "execution_count": 87,
     "metadata": {},
     "output_type": "execute_result"
    }
   ],
   "source": [
    "preprocessing(data=data_male)"
   ]
  },
  {
   "cell_type": "code",
   "execution_count": 14,
   "id": "4dca47dd",
   "metadata": {},
   "outputs": [
    {
     "name": "stdout",
     "output_type": "stream",
     "text": [
      "X_train shape: (673, 2)\n",
      "y_train shape: (673,)\n",
      "X_test shape: (169, 2)\n",
      "y_test shape: (169,)\n"
     ]
    }
   ],
   "source": [
    "# Example, import a module to split dataset in train set and test set\n",
    "from sklearn.model_selection import train_test_split\n",
    "X_train, X_test, y_train, y_test = train_test_split(X, y,test_size=0.2, random_state=0)\n",
    "\n",
    "print(\"X_train shape:\", X_train.shape)\n",
    "print(\"y_train shape:\", y_train.shape)\n",
    "print(\"X_test shape:\", X_test.shape)\n",
    "print(\"y_test shape:\", y_test.shape)"
   ]
  },
  {
   "cell_type": "code",
   "execution_count": 15,
   "id": "bd05a666",
   "metadata": {},
   "outputs": [
    {
     "data": {
      "text/plain": [
       "array([[ 2.2743541 ,  0.36363636],\n",
       "       [-0.7755425 , -2.77272727],\n",
       "       [ 2.11542173,  0.        ],\n",
       "       ...,\n",
       "       [ 0.53062012, -0.36363636],\n",
       "       [ 0.2607329 ,  0.63636364],\n",
       "       [ 0.78980892,  0.09090909]])"
      ]
     },
     "execution_count": 15,
     "metadata": {},
     "output_type": "execute_result"
    }
   ],
   "source": [
    "from sklearn.preprocessing import RobustScaler\n",
    "scaler= RobustScaler()\n",
    "X_train_scaled = scaler.fit_transform(X_train)\n",
    "X_train_scaled"
   ]
  },
  {
   "cell_type": "code",
   "execution_count": 16,
   "id": "cb4a6689",
   "metadata": {},
   "outputs": [],
   "source": [
    "# KNN model\n",
    "from sklearn.neighbors import KNeighborsRegressor\n",
    "KNN_reg = KNeighborsRegressor()"
   ]
  },
  {
   "cell_type": "code",
   "execution_count": 21,
   "id": "d4a7d268",
   "metadata": {},
   "outputs": [
    {
     "data": {
      "text/plain": [
       "{'n_neighbors': 56}"
      ]
     },
     "execution_count": 21,
     "metadata": {},
     "output_type": "execute_result"
    }
   ],
   "source": [
    "# Recherche des hyperparamètres optimaux: KNN\n",
    "## Please use : sklearn.metrics.get_scorer_names(), to find right metric\n",
    "from sklearn.model_selection import RandomizedSearchCV\n",
    "# Définir la plage des hyperparamètres\n",
    "distributions = dict(n_neighbors=np.arange(1,100))\n",
    "\n",
    "# Configurer la recherche aléatoire\n",
    "Rand_CV = RandomizedSearchCV(KNN_reg, distributions, random_state=0,  scoring = \"neg_root_mean_squared_error\")\n",
    "search =  Rand_CV.fit(X_train_scaled, y_train)\n",
    " \n",
    "search.best_params_  # Meilleurs paramètres"
   ]
  },
  {
   "cell_type": "code",
   "execution_count": 18,
   "id": "2566c24b",
   "metadata": {},
   "outputs": [
    {
     "data": {
      "application/javascript": [
       "\n",
       "        if (window._pyforest_update_imports_cell) { window._pyforest_update_imports_cell('import matplotlib.pyplot as plt\\nimport sklearn'); }\n",
       "    "
      ],
      "text/plain": [
       "<IPython.core.display.Javascript object>"
      ]
     },
     "metadata": {},
     "output_type": "display_data"
    },
    {
     "data": {
      "text/plain": [
       "['accuracy',\n",
       " 'adjusted_mutual_info_score',\n",
       " 'adjusted_rand_score',\n",
       " 'average_precision',\n",
       " 'balanced_accuracy',\n",
       " 'completeness_score',\n",
       " 'explained_variance',\n",
       " 'f1',\n",
       " 'f1_macro',\n",
       " 'f1_micro',\n",
       " 'f1_samples',\n",
       " 'f1_weighted',\n",
       " 'fowlkes_mallows_score',\n",
       " 'homogeneity_score',\n",
       " 'jaccard',\n",
       " 'jaccard_macro',\n",
       " 'jaccard_micro',\n",
       " 'jaccard_samples',\n",
       " 'jaccard_weighted',\n",
       " 'matthews_corrcoef',\n",
       " 'max_error',\n",
       " 'mutual_info_score',\n",
       " 'neg_brier_score',\n",
       " 'neg_log_loss',\n",
       " 'neg_mean_absolute_error',\n",
       " 'neg_mean_absolute_percentage_error',\n",
       " 'neg_mean_gamma_deviance',\n",
       " 'neg_mean_poisson_deviance',\n",
       " 'neg_mean_squared_error',\n",
       " 'neg_mean_squared_log_error',\n",
       " 'neg_median_absolute_error',\n",
       " 'neg_root_mean_squared_error',\n",
       " 'normalized_mutual_info_score',\n",
       " 'precision',\n",
       " 'precision_macro',\n",
       " 'precision_micro',\n",
       " 'precision_samples',\n",
       " 'precision_weighted',\n",
       " 'r2',\n",
       " 'rand_score',\n",
       " 'recall',\n",
       " 'recall_macro',\n",
       " 'recall_micro',\n",
       " 'recall_samples',\n",
       " 'recall_weighted',\n",
       " 'roc_auc',\n",
       " 'roc_auc_ovo',\n",
       " 'roc_auc_ovo_weighted',\n",
       " 'roc_auc_ovr',\n",
       " 'roc_auc_ovr_weighted',\n",
       " 'top_k_accuracy',\n",
       " 'v_measure_score']"
      ]
     },
     "execution_count": 18,
     "metadata": {},
     "output_type": "execute_result"
    }
   ],
   "source": [
    "sklearn.metrics.get_scorer_names() "
   ]
  },
  {
   "cell_type": "code",
   "execution_count": 24,
   "id": "8a212e7b",
   "metadata": {},
   "outputs": [
    {
     "name": "stdout",
     "output_type": "stream",
     "text": [
      "score folds RSME KNN\n",
      "[-0.58734902 -0.55705861 -0.47564607 -0.5162596  -0.55685336 -0.48419613\n",
      " -0.53119506 -0.47138722 -0.59841746 -0.4414554 ]\n",
      "Mean RSME KNN: -0.522\n"
     ]
    }
   ],
   "source": [
    "KNN_reg_final = KNeighborsRegressor(n_neighbors=56)\n",
    "\n",
    "# Calcul du score obtenu durant la validation croisée pour le modèle de KNN avce les hyperparamètres optimaux\n",
    "from sklearn.model_selection import cross_val_score\n",
    "\n",
    "cross_validation =10\n",
    "score_RSME_KNN = cross_val_score(KNN_reg_final, X_train_scaled, y_train, cv=cross_validation, scoring =\"neg_root_mean_squared_error\")\n",
    "print('score folds RSME KNN')\n",
    "print(score_RSME_KNN)\n",
    "print('Mean RSME KNN:', '{:.3f}'.format(score_RSME_KNN.mean()))"
   ]
  },
  {
   "cell_type": "code",
   "execution_count": 26,
   "id": "76200f70",
   "metadata": {},
   "outputs": [
    {
     "name": "stderr",
     "output_type": "stream",
     "text": [
      "C:\\Users\\DDD\\anaconda3\\lib\\site-packages\\sklearn\\model_selection\\_validation.py:776: UserWarning: Scoring failed. The score on this train-test partition for these parameters will be set to nan. Details: \n",
      "Traceback (most recent call last):\n",
      "  File \"C:\\Users\\DDD\\anaconda3\\lib\\site-packages\\sklearn\\model_selection\\_validation.py\", line 767, in _score\n",
      "    scores = scorer(estimator, X_test, y_test)\n",
      "  File \"C:\\Users\\DDD\\anaconda3\\lib\\site-packages\\sklearn\\metrics\\_scorer.py\", line 219, in __call__\n",
      "    return self._score(\n",
      "  File \"C:\\Users\\DDD\\anaconda3\\lib\\site-packages\\sklearn\\metrics\\_scorer.py\", line 352, in _score\n",
      "    raise ValueError(\"{0} format is not supported\".format(y_type))\n",
      "ValueError: continuous format is not supported\n",
      "\n",
      "  warnings.warn(\n",
      "C:\\Users\\DDD\\anaconda3\\lib\\site-packages\\sklearn\\model_selection\\_validation.py:776: UserWarning: Scoring failed. The score on this train-test partition for these parameters will be set to nan. Details: \n",
      "Traceback (most recent call last):\n",
      "  File \"C:\\Users\\DDD\\anaconda3\\lib\\site-packages\\sklearn\\model_selection\\_validation.py\", line 767, in _score\n",
      "    scores = scorer(estimator, X_test, y_test)\n",
      "  File \"C:\\Users\\DDD\\anaconda3\\lib\\site-packages\\sklearn\\metrics\\_scorer.py\", line 219, in __call__\n",
      "    return self._score(\n",
      "  File \"C:\\Users\\DDD\\anaconda3\\lib\\site-packages\\sklearn\\metrics\\_scorer.py\", line 352, in _score\n",
      "    raise ValueError(\"{0} format is not supported\".format(y_type))\n",
      "ValueError: continuous format is not supported\n",
      "\n",
      "  warnings.warn(\n",
      "C:\\Users\\DDD\\anaconda3\\lib\\site-packages\\sklearn\\model_selection\\_validation.py:776: UserWarning: Scoring failed. The score on this train-test partition for these parameters will be set to nan. Details: \n",
      "Traceback (most recent call last):\n",
      "  File \"C:\\Users\\DDD\\anaconda3\\lib\\site-packages\\sklearn\\model_selection\\_validation.py\", line 767, in _score\n",
      "    scores = scorer(estimator, X_test, y_test)\n",
      "  File \"C:\\Users\\DDD\\anaconda3\\lib\\site-packages\\sklearn\\metrics\\_scorer.py\", line 219, in __call__\n",
      "    return self._score(\n",
      "  File \"C:\\Users\\DDD\\anaconda3\\lib\\site-packages\\sklearn\\metrics\\_scorer.py\", line 352, in _score\n",
      "    raise ValueError(\"{0} format is not supported\".format(y_type))\n",
      "ValueError: continuous format is not supported\n",
      "\n",
      "  warnings.warn(\n",
      "C:\\Users\\DDD\\anaconda3\\lib\\site-packages\\sklearn\\model_selection\\_validation.py:776: UserWarning: Scoring failed. The score on this train-test partition for these parameters will be set to nan. Details: \n",
      "Traceback (most recent call last):\n",
      "  File \"C:\\Users\\DDD\\anaconda3\\lib\\site-packages\\sklearn\\model_selection\\_validation.py\", line 767, in _score\n",
      "    scores = scorer(estimator, X_test, y_test)\n",
      "  File \"C:\\Users\\DDD\\anaconda3\\lib\\site-packages\\sklearn\\metrics\\_scorer.py\", line 219, in __call__\n",
      "    return self._score(\n",
      "  File \"C:\\Users\\DDD\\anaconda3\\lib\\site-packages\\sklearn\\metrics\\_scorer.py\", line 352, in _score\n",
      "    raise ValueError(\"{0} format is not supported\".format(y_type))\n",
      "ValueError: continuous format is not supported\n",
      "\n",
      "  warnings.warn(\n",
      "C:\\Users\\DDD\\anaconda3\\lib\\site-packages\\sklearn\\model_selection\\_validation.py:776: UserWarning: Scoring failed. The score on this train-test partition for these parameters will be set to nan. Details: \n",
      "Traceback (most recent call last):\n",
      "  File \"C:\\Users\\DDD\\anaconda3\\lib\\site-packages\\sklearn\\model_selection\\_validation.py\", line 767, in _score\n",
      "    scores = scorer(estimator, X_test, y_test)\n",
      "  File \"C:\\Users\\DDD\\anaconda3\\lib\\site-packages\\sklearn\\metrics\\_scorer.py\", line 219, in __call__\n",
      "    return self._score(\n",
      "  File \"C:\\Users\\DDD\\anaconda3\\lib\\site-packages\\sklearn\\metrics\\_scorer.py\", line 352, in _score\n",
      "    raise ValueError(\"{0} format is not supported\".format(y_type))\n",
      "ValueError: continuous format is not supported\n",
      "\n",
      "  warnings.warn(\n",
      "C:\\Users\\DDD\\anaconda3\\lib\\site-packages\\sklearn\\model_selection\\_validation.py:776: UserWarning: Scoring failed. The score on this train-test partition for these parameters will be set to nan. Details: \n",
      "Traceback (most recent call last):\n",
      "  File \"C:\\Users\\DDD\\anaconda3\\lib\\site-packages\\sklearn\\model_selection\\_validation.py\", line 767, in _score\n",
      "    scores = scorer(estimator, X_test, y_test)\n",
      "  File \"C:\\Users\\DDD\\anaconda3\\lib\\site-packages\\sklearn\\metrics\\_scorer.py\", line 219, in __call__\n",
      "    return self._score(\n",
      "  File \"C:\\Users\\DDD\\anaconda3\\lib\\site-packages\\sklearn\\metrics\\_scorer.py\", line 352, in _score\n",
      "    raise ValueError(\"{0} format is not supported\".format(y_type))\n",
      "ValueError: continuous format is not supported\n",
      "\n",
      "  warnings.warn(\n",
      "C:\\Users\\DDD\\anaconda3\\lib\\site-packages\\sklearn\\model_selection\\_validation.py:776: UserWarning: Scoring failed. The score on this train-test partition for these parameters will be set to nan. Details: \n",
      "Traceback (most recent call last):\n",
      "  File \"C:\\Users\\DDD\\anaconda3\\lib\\site-packages\\sklearn\\model_selection\\_validation.py\", line 767, in _score\n",
      "    scores = scorer(estimator, X_test, y_test)\n",
      "  File \"C:\\Users\\DDD\\anaconda3\\lib\\site-packages\\sklearn\\metrics\\_scorer.py\", line 219, in __call__\n",
      "    return self._score(\n",
      "  File \"C:\\Users\\DDD\\anaconda3\\lib\\site-packages\\sklearn\\metrics\\_scorer.py\", line 352, in _score\n",
      "    raise ValueError(\"{0} format is not supported\".format(y_type))\n",
      "ValueError: continuous format is not supported\n",
      "\n",
      "  warnings.warn(\n",
      "C:\\Users\\DDD\\anaconda3\\lib\\site-packages\\sklearn\\model_selection\\_validation.py:776: UserWarning: Scoring failed. The score on this train-test partition for these parameters will be set to nan. Details: \n",
      "Traceback (most recent call last):\n",
      "  File \"C:\\Users\\DDD\\anaconda3\\lib\\site-packages\\sklearn\\model_selection\\_validation.py\", line 767, in _score\n",
      "    scores = scorer(estimator, X_test, y_test)\n",
      "  File \"C:\\Users\\DDD\\anaconda3\\lib\\site-packages\\sklearn\\metrics\\_scorer.py\", line 219, in __call__\n",
      "    return self._score(\n",
      "  File \"C:\\Users\\DDD\\anaconda3\\lib\\site-packages\\sklearn\\metrics\\_scorer.py\", line 352, in _score\n",
      "    raise ValueError(\"{0} format is not supported\".format(y_type))\n",
      "ValueError: continuous format is not supported\n",
      "\n",
      "  warnings.warn(\n",
      "C:\\Users\\DDD\\anaconda3\\lib\\site-packages\\sklearn\\model_selection\\_validation.py:776: UserWarning: Scoring failed. The score on this train-test partition for these parameters will be set to nan. Details: \n",
      "Traceback (most recent call last):\n",
      "  File \"C:\\Users\\DDD\\anaconda3\\lib\\site-packages\\sklearn\\model_selection\\_validation.py\", line 767, in _score\n",
      "    scores = scorer(estimator, X_test, y_test)\n",
      "  File \"C:\\Users\\DDD\\anaconda3\\lib\\site-packages\\sklearn\\metrics\\_scorer.py\", line 219, in __call__\n",
      "    return self._score(\n",
      "  File \"C:\\Users\\DDD\\anaconda3\\lib\\site-packages\\sklearn\\metrics\\_scorer.py\", line 352, in _score\n",
      "    raise ValueError(\"{0} format is not supported\".format(y_type))\n",
      "ValueError: continuous format is not supported\n",
      "\n",
      "  warnings.warn(\n",
      "C:\\Users\\DDD\\anaconda3\\lib\\site-packages\\sklearn\\model_selection\\_validation.py:776: UserWarning: Scoring failed. The score on this train-test partition for these parameters will be set to nan. Details: \n",
      "Traceback (most recent call last):\n",
      "  File \"C:\\Users\\DDD\\anaconda3\\lib\\site-packages\\sklearn\\model_selection\\_validation.py\", line 767, in _score\n",
      "    scores = scorer(estimator, X_test, y_test)\n",
      "  File \"C:\\Users\\DDD\\anaconda3\\lib\\site-packages\\sklearn\\metrics\\_scorer.py\", line 219, in __call__\n",
      "    return self._score(\n",
      "  File \"C:\\Users\\DDD\\anaconda3\\lib\\site-packages\\sklearn\\metrics\\_scorer.py\", line 352, in _score\n",
      "    raise ValueError(\"{0} format is not supported\".format(y_type))\n",
      "ValueError: continuous format is not supported\n",
      "\n",
      "  warnings.warn(\n",
      "C:\\Users\\DDD\\anaconda3\\lib\\site-packages\\sklearn\\model_selection\\_validation.py:776: UserWarning: Scoring failed. The score on this train-test partition for these parameters will be set to nan. Details: \n",
      "Traceback (most recent call last):\n",
      "  File \"C:\\Users\\DDD\\anaconda3\\lib\\site-packages\\sklearn\\model_selection\\_validation.py\", line 767, in _score\n",
      "    scores = scorer(estimator, X_test, y_test)\n",
      "  File \"C:\\Users\\DDD\\anaconda3\\lib\\site-packages\\sklearn\\metrics\\_scorer.py\", line 219, in __call__\n",
      "    return self._score(\n",
      "  File \"C:\\Users\\DDD\\anaconda3\\lib\\site-packages\\sklearn\\metrics\\_scorer.py\", line 352, in _score\n",
      "    raise ValueError(\"{0} format is not supported\".format(y_type))\n",
      "ValueError: continuous format is not supported\n",
      "\n",
      "  warnings.warn(\n"
     ]
    },
    {
     "name": "stderr",
     "output_type": "stream",
     "text": [
      "C:\\Users\\DDD\\anaconda3\\lib\\site-packages\\sklearn\\model_selection\\_validation.py:776: UserWarning: Scoring failed. The score on this train-test partition for these parameters will be set to nan. Details: \n",
      "Traceback (most recent call last):\n",
      "  File \"C:\\Users\\DDD\\anaconda3\\lib\\site-packages\\sklearn\\model_selection\\_validation.py\", line 767, in _score\n",
      "    scores = scorer(estimator, X_test, y_test)\n",
      "  File \"C:\\Users\\DDD\\anaconda3\\lib\\site-packages\\sklearn\\metrics\\_scorer.py\", line 219, in __call__\n",
      "    return self._score(\n",
      "  File \"C:\\Users\\DDD\\anaconda3\\lib\\site-packages\\sklearn\\metrics\\_scorer.py\", line 352, in _score\n",
      "    raise ValueError(\"{0} format is not supported\".format(y_type))\n",
      "ValueError: continuous format is not supported\n",
      "\n",
      "  warnings.warn(\n",
      "C:\\Users\\DDD\\anaconda3\\lib\\site-packages\\sklearn\\model_selection\\_validation.py:776: UserWarning: Scoring failed. The score on this train-test partition for these parameters will be set to nan. Details: \n",
      "Traceback (most recent call last):\n",
      "  File \"C:\\Users\\DDD\\anaconda3\\lib\\site-packages\\sklearn\\model_selection\\_validation.py\", line 767, in _score\n",
      "    scores = scorer(estimator, X_test, y_test)\n",
      "  File \"C:\\Users\\DDD\\anaconda3\\lib\\site-packages\\sklearn\\metrics\\_scorer.py\", line 219, in __call__\n",
      "    return self._score(\n",
      "  File \"C:\\Users\\DDD\\anaconda3\\lib\\site-packages\\sklearn\\metrics\\_scorer.py\", line 352, in _score\n",
      "    raise ValueError(\"{0} format is not supported\".format(y_type))\n",
      "ValueError: continuous format is not supported\n",
      "\n",
      "  warnings.warn(\n",
      "C:\\Users\\DDD\\anaconda3\\lib\\site-packages\\sklearn\\model_selection\\_validation.py:776: UserWarning: Scoring failed. The score on this train-test partition for these parameters will be set to nan. Details: \n",
      "Traceback (most recent call last):\n",
      "  File \"C:\\Users\\DDD\\anaconda3\\lib\\site-packages\\sklearn\\model_selection\\_validation.py\", line 767, in _score\n",
      "    scores = scorer(estimator, X_test, y_test)\n",
      "  File \"C:\\Users\\DDD\\anaconda3\\lib\\site-packages\\sklearn\\metrics\\_scorer.py\", line 219, in __call__\n",
      "    return self._score(\n",
      "  File \"C:\\Users\\DDD\\anaconda3\\lib\\site-packages\\sklearn\\metrics\\_scorer.py\", line 352, in _score\n",
      "    raise ValueError(\"{0} format is not supported\".format(y_type))\n",
      "ValueError: continuous format is not supported\n",
      "\n",
      "  warnings.warn(\n",
      "C:\\Users\\DDD\\anaconda3\\lib\\site-packages\\sklearn\\model_selection\\_validation.py:776: UserWarning: Scoring failed. The score on this train-test partition for these parameters will be set to nan. Details: \n",
      "Traceback (most recent call last):\n",
      "  File \"C:\\Users\\DDD\\anaconda3\\lib\\site-packages\\sklearn\\model_selection\\_validation.py\", line 767, in _score\n",
      "    scores = scorer(estimator, X_test, y_test)\n",
      "  File \"C:\\Users\\DDD\\anaconda3\\lib\\site-packages\\sklearn\\metrics\\_scorer.py\", line 219, in __call__\n",
      "    return self._score(\n",
      "  File \"C:\\Users\\DDD\\anaconda3\\lib\\site-packages\\sklearn\\metrics\\_scorer.py\", line 352, in _score\n",
      "    raise ValueError(\"{0} format is not supported\".format(y_type))\n",
      "ValueError: continuous format is not supported\n",
      "\n",
      "  warnings.warn(\n",
      "C:\\Users\\DDD\\anaconda3\\lib\\site-packages\\sklearn\\model_selection\\_validation.py:776: UserWarning: Scoring failed. The score on this train-test partition for these parameters will be set to nan. Details: \n",
      "Traceback (most recent call last):\n",
      "  File \"C:\\Users\\DDD\\anaconda3\\lib\\site-packages\\sklearn\\model_selection\\_validation.py\", line 767, in _score\n",
      "    scores = scorer(estimator, X_test, y_test)\n",
      "  File \"C:\\Users\\DDD\\anaconda3\\lib\\site-packages\\sklearn\\metrics\\_scorer.py\", line 219, in __call__\n",
      "    return self._score(\n",
      "  File \"C:\\Users\\DDD\\anaconda3\\lib\\site-packages\\sklearn\\metrics\\_scorer.py\", line 352, in _score\n",
      "    raise ValueError(\"{0} format is not supported\".format(y_type))\n",
      "ValueError: continuous format is not supported\n",
      "\n",
      "  warnings.warn(\n",
      "C:\\Users\\DDD\\anaconda3\\lib\\site-packages\\sklearn\\model_selection\\_validation.py:776: UserWarning: Scoring failed. The score on this train-test partition for these parameters will be set to nan. Details: \n",
      "Traceback (most recent call last):\n",
      "  File \"C:\\Users\\DDD\\anaconda3\\lib\\site-packages\\sklearn\\model_selection\\_validation.py\", line 767, in _score\n",
      "    scores = scorer(estimator, X_test, y_test)\n",
      "  File \"C:\\Users\\DDD\\anaconda3\\lib\\site-packages\\sklearn\\metrics\\_scorer.py\", line 219, in __call__\n",
      "    return self._score(\n",
      "  File \"C:\\Users\\DDD\\anaconda3\\lib\\site-packages\\sklearn\\metrics\\_scorer.py\", line 352, in _score\n",
      "    raise ValueError(\"{0} format is not supported\".format(y_type))\n",
      "ValueError: continuous format is not supported\n",
      "\n",
      "  warnings.warn(\n",
      "C:\\Users\\DDD\\anaconda3\\lib\\site-packages\\sklearn\\model_selection\\_validation.py:776: UserWarning: Scoring failed. The score on this train-test partition for these parameters will be set to nan. Details: \n",
      "Traceback (most recent call last):\n",
      "  File \"C:\\Users\\DDD\\anaconda3\\lib\\site-packages\\sklearn\\model_selection\\_validation.py\", line 767, in _score\n",
      "    scores = scorer(estimator, X_test, y_test)\n",
      "  File \"C:\\Users\\DDD\\anaconda3\\lib\\site-packages\\sklearn\\metrics\\_scorer.py\", line 219, in __call__\n",
      "    return self._score(\n",
      "  File \"C:\\Users\\DDD\\anaconda3\\lib\\site-packages\\sklearn\\metrics\\_scorer.py\", line 352, in _score\n",
      "    raise ValueError(\"{0} format is not supported\".format(y_type))\n",
      "ValueError: continuous format is not supported\n",
      "\n",
      "  warnings.warn(\n",
      "C:\\Users\\DDD\\anaconda3\\lib\\site-packages\\sklearn\\model_selection\\_validation.py:776: UserWarning: Scoring failed. The score on this train-test partition for these parameters will be set to nan. Details: \n",
      "Traceback (most recent call last):\n",
      "  File \"C:\\Users\\DDD\\anaconda3\\lib\\site-packages\\sklearn\\model_selection\\_validation.py\", line 767, in _score\n",
      "    scores = scorer(estimator, X_test, y_test)\n",
      "  File \"C:\\Users\\DDD\\anaconda3\\lib\\site-packages\\sklearn\\metrics\\_scorer.py\", line 219, in __call__\n",
      "    return self._score(\n",
      "  File \"C:\\Users\\DDD\\anaconda3\\lib\\site-packages\\sklearn\\metrics\\_scorer.py\", line 352, in _score\n",
      "    raise ValueError(\"{0} format is not supported\".format(y_type))\n",
      "ValueError: continuous format is not supported\n",
      "\n",
      "  warnings.warn(\n",
      "C:\\Users\\DDD\\anaconda3\\lib\\site-packages\\sklearn\\model_selection\\_validation.py:776: UserWarning: Scoring failed. The score on this train-test partition for these parameters will be set to nan. Details: \n",
      "Traceback (most recent call last):\n",
      "  File \"C:\\Users\\DDD\\anaconda3\\lib\\site-packages\\sklearn\\model_selection\\_validation.py\", line 767, in _score\n",
      "    scores = scorer(estimator, X_test, y_test)\n",
      "  File \"C:\\Users\\DDD\\anaconda3\\lib\\site-packages\\sklearn\\metrics\\_scorer.py\", line 219, in __call__\n",
      "    return self._score(\n",
      "  File \"C:\\Users\\DDD\\anaconda3\\lib\\site-packages\\sklearn\\metrics\\_scorer.py\", line 352, in _score\n",
      "    raise ValueError(\"{0} format is not supported\".format(y_type))\n",
      "ValueError: continuous format is not supported\n",
      "\n",
      "  warnings.warn(\n",
      "C:\\Users\\DDD\\anaconda3\\lib\\site-packages\\sklearn\\model_selection\\_validation.py:776: UserWarning: Scoring failed. The score on this train-test partition for these parameters will be set to nan. Details: \n",
      "Traceback (most recent call last):\n",
      "  File \"C:\\Users\\DDD\\anaconda3\\lib\\site-packages\\sklearn\\model_selection\\_validation.py\", line 767, in _score\n",
      "    scores = scorer(estimator, X_test, y_test)\n",
      "  File \"C:\\Users\\DDD\\anaconda3\\lib\\site-packages\\sklearn\\metrics\\_scorer.py\", line 219, in __call__\n",
      "    return self._score(\n",
      "  File \"C:\\Users\\DDD\\anaconda3\\lib\\site-packages\\sklearn\\metrics\\_scorer.py\", line 352, in _score\n",
      "    raise ValueError(\"{0} format is not supported\".format(y_type))\n",
      "ValueError: continuous format is not supported\n",
      "\n",
      "  warnings.warn(\n",
      "C:\\Users\\DDD\\anaconda3\\lib\\site-packages\\sklearn\\model_selection\\_validation.py:776: UserWarning: Scoring failed. The score on this train-test partition for these parameters will be set to nan. Details: \n",
      "Traceback (most recent call last):\n",
      "  File \"C:\\Users\\DDD\\anaconda3\\lib\\site-packages\\sklearn\\model_selection\\_validation.py\", line 767, in _score\n",
      "    scores = scorer(estimator, X_test, y_test)\n",
      "  File \"C:\\Users\\DDD\\anaconda3\\lib\\site-packages\\sklearn\\metrics\\_scorer.py\", line 219, in __call__\n",
      "    return self._score(\n",
      "  File \"C:\\Users\\DDD\\anaconda3\\lib\\site-packages\\sklearn\\metrics\\_scorer.py\", line 352, in _score\n",
      "    raise ValueError(\"{0} format is not supported\".format(y_type))\n",
      "ValueError: continuous format is not supported\n",
      "\n",
      "  warnings.warn(\n"
     ]
    },
    {
     "name": "stderr",
     "output_type": "stream",
     "text": [
      "C:\\Users\\DDD\\anaconda3\\lib\\site-packages\\sklearn\\model_selection\\_validation.py:776: UserWarning: Scoring failed. The score on this train-test partition for these parameters will be set to nan. Details: \n",
      "Traceback (most recent call last):\n",
      "  File \"C:\\Users\\DDD\\anaconda3\\lib\\site-packages\\sklearn\\model_selection\\_validation.py\", line 767, in _score\n",
      "    scores = scorer(estimator, X_test, y_test)\n",
      "  File \"C:\\Users\\DDD\\anaconda3\\lib\\site-packages\\sklearn\\metrics\\_scorer.py\", line 219, in __call__\n",
      "    return self._score(\n",
      "  File \"C:\\Users\\DDD\\anaconda3\\lib\\site-packages\\sklearn\\metrics\\_scorer.py\", line 352, in _score\n",
      "    raise ValueError(\"{0} format is not supported\".format(y_type))\n",
      "ValueError: continuous format is not supported\n",
      "\n",
      "  warnings.warn(\n",
      "C:\\Users\\DDD\\anaconda3\\lib\\site-packages\\sklearn\\model_selection\\_validation.py:776: UserWarning: Scoring failed. The score on this train-test partition for these parameters will be set to nan. Details: \n",
      "Traceback (most recent call last):\n",
      "  File \"C:\\Users\\DDD\\anaconda3\\lib\\site-packages\\sklearn\\model_selection\\_validation.py\", line 767, in _score\n",
      "    scores = scorer(estimator, X_test, y_test)\n",
      "  File \"C:\\Users\\DDD\\anaconda3\\lib\\site-packages\\sklearn\\metrics\\_scorer.py\", line 219, in __call__\n",
      "    return self._score(\n",
      "  File \"C:\\Users\\DDD\\anaconda3\\lib\\site-packages\\sklearn\\metrics\\_scorer.py\", line 352, in _score\n",
      "    raise ValueError(\"{0} format is not supported\".format(y_type))\n",
      "ValueError: continuous format is not supported\n",
      "\n",
      "  warnings.warn(\n",
      "C:\\Users\\DDD\\anaconda3\\lib\\site-packages\\sklearn\\model_selection\\_validation.py:776: UserWarning: Scoring failed. The score on this train-test partition for these parameters will be set to nan. Details: \n",
      "Traceback (most recent call last):\n",
      "  File \"C:\\Users\\DDD\\anaconda3\\lib\\site-packages\\sklearn\\model_selection\\_validation.py\", line 767, in _score\n",
      "    scores = scorer(estimator, X_test, y_test)\n",
      "  File \"C:\\Users\\DDD\\anaconda3\\lib\\site-packages\\sklearn\\metrics\\_scorer.py\", line 219, in __call__\n",
      "    return self._score(\n",
      "  File \"C:\\Users\\DDD\\anaconda3\\lib\\site-packages\\sklearn\\metrics\\_scorer.py\", line 352, in _score\n",
      "    raise ValueError(\"{0} format is not supported\".format(y_type))\n",
      "ValueError: continuous format is not supported\n",
      "\n",
      "  warnings.warn(\n",
      "C:\\Users\\DDD\\anaconda3\\lib\\site-packages\\sklearn\\model_selection\\_validation.py:776: UserWarning: Scoring failed. The score on this train-test partition for these parameters will be set to nan. Details: \n",
      "Traceback (most recent call last):\n",
      "  File \"C:\\Users\\DDD\\anaconda3\\lib\\site-packages\\sklearn\\model_selection\\_validation.py\", line 767, in _score\n",
      "    scores = scorer(estimator, X_test, y_test)\n",
      "  File \"C:\\Users\\DDD\\anaconda3\\lib\\site-packages\\sklearn\\metrics\\_scorer.py\", line 219, in __call__\n",
      "    return self._score(\n",
      "  File \"C:\\Users\\DDD\\anaconda3\\lib\\site-packages\\sklearn\\metrics\\_scorer.py\", line 352, in _score\n",
      "    raise ValueError(\"{0} format is not supported\".format(y_type))\n",
      "ValueError: continuous format is not supported\n",
      "\n",
      "  warnings.warn(\n",
      "C:\\Users\\DDD\\anaconda3\\lib\\site-packages\\sklearn\\model_selection\\_validation.py:776: UserWarning: Scoring failed. The score on this train-test partition for these parameters will be set to nan. Details: \n",
      "Traceback (most recent call last):\n",
      "  File \"C:\\Users\\DDD\\anaconda3\\lib\\site-packages\\sklearn\\model_selection\\_validation.py\", line 767, in _score\n",
      "    scores = scorer(estimator, X_test, y_test)\n",
      "  File \"C:\\Users\\DDD\\anaconda3\\lib\\site-packages\\sklearn\\metrics\\_scorer.py\", line 219, in __call__\n",
      "    return self._score(\n",
      "  File \"C:\\Users\\DDD\\anaconda3\\lib\\site-packages\\sklearn\\metrics\\_scorer.py\", line 352, in _score\n",
      "    raise ValueError(\"{0} format is not supported\".format(y_type))\n",
      "ValueError: continuous format is not supported\n",
      "\n",
      "  warnings.warn(\n",
      "C:\\Users\\DDD\\anaconda3\\lib\\site-packages\\sklearn\\model_selection\\_validation.py:776: UserWarning: Scoring failed. The score on this train-test partition for these parameters will be set to nan. Details: \n",
      "Traceback (most recent call last):\n",
      "  File \"C:\\Users\\DDD\\anaconda3\\lib\\site-packages\\sklearn\\model_selection\\_validation.py\", line 767, in _score\n",
      "    scores = scorer(estimator, X_test, y_test)\n",
      "  File \"C:\\Users\\DDD\\anaconda3\\lib\\site-packages\\sklearn\\metrics\\_scorer.py\", line 219, in __call__\n",
      "    return self._score(\n",
      "  File \"C:\\Users\\DDD\\anaconda3\\lib\\site-packages\\sklearn\\metrics\\_scorer.py\", line 352, in _score\n",
      "    raise ValueError(\"{0} format is not supported\".format(y_type))\n",
      "ValueError: continuous format is not supported\n",
      "\n",
      "  warnings.warn(\n",
      "C:\\Users\\DDD\\anaconda3\\lib\\site-packages\\sklearn\\model_selection\\_validation.py:776: UserWarning: Scoring failed. The score on this train-test partition for these parameters will be set to nan. Details: \n",
      "Traceback (most recent call last):\n",
      "  File \"C:\\Users\\DDD\\anaconda3\\lib\\site-packages\\sklearn\\model_selection\\_validation.py\", line 767, in _score\n",
      "    scores = scorer(estimator, X_test, y_test)\n",
      "  File \"C:\\Users\\DDD\\anaconda3\\lib\\site-packages\\sklearn\\metrics\\_scorer.py\", line 219, in __call__\n",
      "    return self._score(\n",
      "  File \"C:\\Users\\DDD\\anaconda3\\lib\\site-packages\\sklearn\\metrics\\_scorer.py\", line 352, in _score\n",
      "    raise ValueError(\"{0} format is not supported\".format(y_type))\n",
      "ValueError: continuous format is not supported\n",
      "\n",
      "  warnings.warn(\n",
      "C:\\Users\\DDD\\anaconda3\\lib\\site-packages\\sklearn\\model_selection\\_validation.py:776: UserWarning: Scoring failed. The score on this train-test partition for these parameters will be set to nan. Details: \n",
      "Traceback (most recent call last):\n",
      "  File \"C:\\Users\\DDD\\anaconda3\\lib\\site-packages\\sklearn\\model_selection\\_validation.py\", line 767, in _score\n",
      "    scores = scorer(estimator, X_test, y_test)\n",
      "  File \"C:\\Users\\DDD\\anaconda3\\lib\\site-packages\\sklearn\\metrics\\_scorer.py\", line 219, in __call__\n",
      "    return self._score(\n",
      "  File \"C:\\Users\\DDD\\anaconda3\\lib\\site-packages\\sklearn\\metrics\\_scorer.py\", line 352, in _score\n",
      "    raise ValueError(\"{0} format is not supported\".format(y_type))\n",
      "ValueError: continuous format is not supported\n",
      "\n",
      "  warnings.warn(\n",
      "C:\\Users\\DDD\\anaconda3\\lib\\site-packages\\sklearn\\model_selection\\_validation.py:776: UserWarning: Scoring failed. The score on this train-test partition for these parameters will be set to nan. Details: \n",
      "Traceback (most recent call last):\n",
      "  File \"C:\\Users\\DDD\\anaconda3\\lib\\site-packages\\sklearn\\model_selection\\_validation.py\", line 767, in _score\n",
      "    scores = scorer(estimator, X_test, y_test)\n",
      "  File \"C:\\Users\\DDD\\anaconda3\\lib\\site-packages\\sklearn\\metrics\\_scorer.py\", line 219, in __call__\n",
      "    return self._score(\n",
      "  File \"C:\\Users\\DDD\\anaconda3\\lib\\site-packages\\sklearn\\metrics\\_scorer.py\", line 352, in _score\n",
      "    raise ValueError(\"{0} format is not supported\".format(y_type))\n",
      "ValueError: continuous format is not supported\n",
      "\n",
      "  warnings.warn(\n",
      "C:\\Users\\DDD\\anaconda3\\lib\\site-packages\\sklearn\\model_selection\\_validation.py:776: UserWarning: Scoring failed. The score on this train-test partition for these parameters will be set to nan. Details: \n",
      "Traceback (most recent call last):\n",
      "  File \"C:\\Users\\DDD\\anaconda3\\lib\\site-packages\\sklearn\\model_selection\\_validation.py\", line 767, in _score\n",
      "    scores = scorer(estimator, X_test, y_test)\n",
      "  File \"C:\\Users\\DDD\\anaconda3\\lib\\site-packages\\sklearn\\metrics\\_scorer.py\", line 219, in __call__\n",
      "    return self._score(\n",
      "  File \"C:\\Users\\DDD\\anaconda3\\lib\\site-packages\\sklearn\\metrics\\_scorer.py\", line 352, in _score\n",
      "    raise ValueError(\"{0} format is not supported\".format(y_type))\n",
      "ValueError: continuous format is not supported\n",
      "\n",
      "  warnings.warn(\n",
      "C:\\Users\\DDD\\anaconda3\\lib\\site-packages\\sklearn\\model_selection\\_validation.py:776: UserWarning: Scoring failed. The score on this train-test partition for these parameters will be set to nan. Details: \n",
      "Traceback (most recent call last):\n",
      "  File \"C:\\Users\\DDD\\anaconda3\\lib\\site-packages\\sklearn\\model_selection\\_validation.py\", line 767, in _score\n",
      "    scores = scorer(estimator, X_test, y_test)\n",
      "  File \"C:\\Users\\DDD\\anaconda3\\lib\\site-packages\\sklearn\\metrics\\_scorer.py\", line 219, in __call__\n",
      "    return self._score(\n",
      "  File \"C:\\Users\\DDD\\anaconda3\\lib\\site-packages\\sklearn\\metrics\\_scorer.py\", line 352, in _score\n",
      "    raise ValueError(\"{0} format is not supported\".format(y_type))\n",
      "ValueError: continuous format is not supported\n",
      "\n",
      "  warnings.warn(\n"
     ]
    },
    {
     "name": "stderr",
     "output_type": "stream",
     "text": [
      "C:\\Users\\DDD\\anaconda3\\lib\\site-packages\\sklearn\\model_selection\\_validation.py:776: UserWarning: Scoring failed. The score on this train-test partition for these parameters will be set to nan. Details: \n",
      "Traceback (most recent call last):\n",
      "  File \"C:\\Users\\DDD\\anaconda3\\lib\\site-packages\\sklearn\\model_selection\\_validation.py\", line 767, in _score\n",
      "    scores = scorer(estimator, X_test, y_test)\n",
      "  File \"C:\\Users\\DDD\\anaconda3\\lib\\site-packages\\sklearn\\metrics\\_scorer.py\", line 219, in __call__\n",
      "    return self._score(\n",
      "  File \"C:\\Users\\DDD\\anaconda3\\lib\\site-packages\\sklearn\\metrics\\_scorer.py\", line 352, in _score\n",
      "    raise ValueError(\"{0} format is not supported\".format(y_type))\n",
      "ValueError: continuous format is not supported\n",
      "\n",
      "  warnings.warn(\n",
      "C:\\Users\\DDD\\anaconda3\\lib\\site-packages\\sklearn\\model_selection\\_validation.py:776: UserWarning: Scoring failed. The score on this train-test partition for these parameters will be set to nan. Details: \n",
      "Traceback (most recent call last):\n",
      "  File \"C:\\Users\\DDD\\anaconda3\\lib\\site-packages\\sklearn\\model_selection\\_validation.py\", line 767, in _score\n",
      "    scores = scorer(estimator, X_test, y_test)\n",
      "  File \"C:\\Users\\DDD\\anaconda3\\lib\\site-packages\\sklearn\\metrics\\_scorer.py\", line 219, in __call__\n",
      "    return self._score(\n",
      "  File \"C:\\Users\\DDD\\anaconda3\\lib\\site-packages\\sklearn\\metrics\\_scorer.py\", line 352, in _score\n",
      "    raise ValueError(\"{0} format is not supported\".format(y_type))\n",
      "ValueError: continuous format is not supported\n",
      "\n",
      "  warnings.warn(\n",
      "C:\\Users\\DDD\\anaconda3\\lib\\site-packages\\sklearn\\model_selection\\_validation.py:776: UserWarning: Scoring failed. The score on this train-test partition for these parameters will be set to nan. Details: \n",
      "Traceback (most recent call last):\n",
      "  File \"C:\\Users\\DDD\\anaconda3\\lib\\site-packages\\sklearn\\model_selection\\_validation.py\", line 767, in _score\n",
      "    scores = scorer(estimator, X_test, y_test)\n",
      "  File \"C:\\Users\\DDD\\anaconda3\\lib\\site-packages\\sklearn\\metrics\\_scorer.py\", line 219, in __call__\n",
      "    return self._score(\n",
      "  File \"C:\\Users\\DDD\\anaconda3\\lib\\site-packages\\sklearn\\metrics\\_scorer.py\", line 352, in _score\n",
      "    raise ValueError(\"{0} format is not supported\".format(y_type))\n",
      "ValueError: continuous format is not supported\n",
      "\n",
      "  warnings.warn(\n",
      "C:\\Users\\DDD\\anaconda3\\lib\\site-packages\\sklearn\\model_selection\\_validation.py:776: UserWarning: Scoring failed. The score on this train-test partition for these parameters will be set to nan. Details: \n",
      "Traceback (most recent call last):\n",
      "  File \"C:\\Users\\DDD\\anaconda3\\lib\\site-packages\\sklearn\\model_selection\\_validation.py\", line 767, in _score\n",
      "    scores = scorer(estimator, X_test, y_test)\n",
      "  File \"C:\\Users\\DDD\\anaconda3\\lib\\site-packages\\sklearn\\metrics\\_scorer.py\", line 219, in __call__\n",
      "    return self._score(\n",
      "  File \"C:\\Users\\DDD\\anaconda3\\lib\\site-packages\\sklearn\\metrics\\_scorer.py\", line 352, in _score\n",
      "    raise ValueError(\"{0} format is not supported\".format(y_type))\n",
      "ValueError: continuous format is not supported\n",
      "\n",
      "  warnings.warn(\n",
      "C:\\Users\\DDD\\anaconda3\\lib\\site-packages\\sklearn\\model_selection\\_validation.py:776: UserWarning: Scoring failed. The score on this train-test partition for these parameters will be set to nan. Details: \n",
      "Traceback (most recent call last):\n",
      "  File \"C:\\Users\\DDD\\anaconda3\\lib\\site-packages\\sklearn\\model_selection\\_validation.py\", line 767, in _score\n",
      "    scores = scorer(estimator, X_test, y_test)\n",
      "  File \"C:\\Users\\DDD\\anaconda3\\lib\\site-packages\\sklearn\\metrics\\_scorer.py\", line 219, in __call__\n",
      "    return self._score(\n",
      "  File \"C:\\Users\\DDD\\anaconda3\\lib\\site-packages\\sklearn\\metrics\\_scorer.py\", line 352, in _score\n",
      "    raise ValueError(\"{0} format is not supported\".format(y_type))\n",
      "ValueError: continuous format is not supported\n",
      "\n",
      "  warnings.warn(\n",
      "C:\\Users\\DDD\\anaconda3\\lib\\site-packages\\sklearn\\model_selection\\_validation.py:776: UserWarning: Scoring failed. The score on this train-test partition for these parameters will be set to nan. Details: \n",
      "Traceback (most recent call last):\n",
      "  File \"C:\\Users\\DDD\\anaconda3\\lib\\site-packages\\sklearn\\model_selection\\_validation.py\", line 767, in _score\n",
      "    scores = scorer(estimator, X_test, y_test)\n",
      "  File \"C:\\Users\\DDD\\anaconda3\\lib\\site-packages\\sklearn\\metrics\\_scorer.py\", line 219, in __call__\n",
      "    return self._score(\n",
      "  File \"C:\\Users\\DDD\\anaconda3\\lib\\site-packages\\sklearn\\metrics\\_scorer.py\", line 352, in _score\n",
      "    raise ValueError(\"{0} format is not supported\".format(y_type))\n",
      "ValueError: continuous format is not supported\n",
      "\n",
      "  warnings.warn(\n",
      "C:\\Users\\DDD\\anaconda3\\lib\\site-packages\\sklearn\\model_selection\\_validation.py:776: UserWarning: Scoring failed. The score on this train-test partition for these parameters will be set to nan. Details: \n",
      "Traceback (most recent call last):\n",
      "  File \"C:\\Users\\DDD\\anaconda3\\lib\\site-packages\\sklearn\\model_selection\\_validation.py\", line 767, in _score\n",
      "    scores = scorer(estimator, X_test, y_test)\n",
      "  File \"C:\\Users\\DDD\\anaconda3\\lib\\site-packages\\sklearn\\metrics\\_scorer.py\", line 219, in __call__\n",
      "    return self._score(\n",
      "  File \"C:\\Users\\DDD\\anaconda3\\lib\\site-packages\\sklearn\\metrics\\_scorer.py\", line 352, in _score\n",
      "    raise ValueError(\"{0} format is not supported\".format(y_type))\n",
      "ValueError: continuous format is not supported\n",
      "\n",
      "  warnings.warn(\n",
      "C:\\Users\\DDD\\anaconda3\\lib\\site-packages\\sklearn\\model_selection\\_validation.py:776: UserWarning: Scoring failed. The score on this train-test partition for these parameters will be set to nan. Details: \n",
      "Traceback (most recent call last):\n",
      "  File \"C:\\Users\\DDD\\anaconda3\\lib\\site-packages\\sklearn\\model_selection\\_validation.py\", line 767, in _score\n",
      "    scores = scorer(estimator, X_test, y_test)\n",
      "  File \"C:\\Users\\DDD\\anaconda3\\lib\\site-packages\\sklearn\\metrics\\_scorer.py\", line 219, in __call__\n",
      "    return self._score(\n",
      "  File \"C:\\Users\\DDD\\anaconda3\\lib\\site-packages\\sklearn\\metrics\\_scorer.py\", line 352, in _score\n",
      "    raise ValueError(\"{0} format is not supported\".format(y_type))\n",
      "ValueError: continuous format is not supported\n",
      "\n",
      "  warnings.warn(\n",
      "C:\\Users\\DDD\\anaconda3\\lib\\site-packages\\sklearn\\model_selection\\_validation.py:776: UserWarning: Scoring failed. The score on this train-test partition for these parameters will be set to nan. Details: \n",
      "Traceback (most recent call last):\n",
      "  File \"C:\\Users\\DDD\\anaconda3\\lib\\site-packages\\sklearn\\model_selection\\_validation.py\", line 767, in _score\n",
      "    scores = scorer(estimator, X_test, y_test)\n",
      "  File \"C:\\Users\\DDD\\anaconda3\\lib\\site-packages\\sklearn\\metrics\\_scorer.py\", line 219, in __call__\n",
      "    return self._score(\n",
      "  File \"C:\\Users\\DDD\\anaconda3\\lib\\site-packages\\sklearn\\metrics\\_scorer.py\", line 352, in _score\n",
      "    raise ValueError(\"{0} format is not supported\".format(y_type))\n",
      "ValueError: continuous format is not supported\n",
      "\n",
      "  warnings.warn(\n",
      "C:\\Users\\DDD\\anaconda3\\lib\\site-packages\\sklearn\\model_selection\\_validation.py:776: UserWarning: Scoring failed. The score on this train-test partition for these parameters will be set to nan. Details: \n",
      "Traceback (most recent call last):\n",
      "  File \"C:\\Users\\DDD\\anaconda3\\lib\\site-packages\\sklearn\\model_selection\\_validation.py\", line 767, in _score\n",
      "    scores = scorer(estimator, X_test, y_test)\n",
      "  File \"C:\\Users\\DDD\\anaconda3\\lib\\site-packages\\sklearn\\metrics\\_scorer.py\", line 219, in __call__\n",
      "    return self._score(\n",
      "  File \"C:\\Users\\DDD\\anaconda3\\lib\\site-packages\\sklearn\\metrics\\_scorer.py\", line 352, in _score\n",
      "    raise ValueError(\"{0} format is not supported\".format(y_type))\n",
      "ValueError: continuous format is not supported\n",
      "\n",
      "  warnings.warn(\n",
      "C:\\Users\\DDD\\anaconda3\\lib\\site-packages\\sklearn\\model_selection\\_validation.py:776: UserWarning: Scoring failed. The score on this train-test partition for these parameters will be set to nan. Details: \n",
      "Traceback (most recent call last):\n",
      "  File \"C:\\Users\\DDD\\anaconda3\\lib\\site-packages\\sklearn\\model_selection\\_validation.py\", line 767, in _score\n",
      "    scores = scorer(estimator, X_test, y_test)\n",
      "  File \"C:\\Users\\DDD\\anaconda3\\lib\\site-packages\\sklearn\\metrics\\_scorer.py\", line 219, in __call__\n",
      "    return self._score(\n",
      "  File \"C:\\Users\\DDD\\anaconda3\\lib\\site-packages\\sklearn\\metrics\\_scorer.py\", line 352, in _score\n",
      "    raise ValueError(\"{0} format is not supported\".format(y_type))\n",
      "ValueError: continuous format is not supported\n",
      "\n",
      "  warnings.warn(\n"
     ]
    },
    {
     "name": "stderr",
     "output_type": "stream",
     "text": [
      "C:\\Users\\DDD\\anaconda3\\lib\\site-packages\\sklearn\\model_selection\\_validation.py:776: UserWarning: Scoring failed. The score on this train-test partition for these parameters will be set to nan. Details: \n",
      "Traceback (most recent call last):\n",
      "  File \"C:\\Users\\DDD\\anaconda3\\lib\\site-packages\\sklearn\\model_selection\\_validation.py\", line 767, in _score\n",
      "    scores = scorer(estimator, X_test, y_test)\n",
      "  File \"C:\\Users\\DDD\\anaconda3\\lib\\site-packages\\sklearn\\metrics\\_scorer.py\", line 219, in __call__\n",
      "    return self._score(\n",
      "  File \"C:\\Users\\DDD\\anaconda3\\lib\\site-packages\\sklearn\\metrics\\_scorer.py\", line 352, in _score\n",
      "    raise ValueError(\"{0} format is not supported\".format(y_type))\n",
      "ValueError: continuous format is not supported\n",
      "\n",
      "  warnings.warn(\n",
      "C:\\Users\\DDD\\anaconda3\\lib\\site-packages\\sklearn\\model_selection\\_validation.py:776: UserWarning: Scoring failed. The score on this train-test partition for these parameters will be set to nan. Details: \n",
      "Traceback (most recent call last):\n",
      "  File \"C:\\Users\\DDD\\anaconda3\\lib\\site-packages\\sklearn\\model_selection\\_validation.py\", line 767, in _score\n",
      "    scores = scorer(estimator, X_test, y_test)\n",
      "  File \"C:\\Users\\DDD\\anaconda3\\lib\\site-packages\\sklearn\\metrics\\_scorer.py\", line 219, in __call__\n",
      "    return self._score(\n",
      "  File \"C:\\Users\\DDD\\anaconda3\\lib\\site-packages\\sklearn\\metrics\\_scorer.py\", line 352, in _score\n",
      "    raise ValueError(\"{0} format is not supported\".format(y_type))\n",
      "ValueError: continuous format is not supported\n",
      "\n",
      "  warnings.warn(\n",
      "C:\\Users\\DDD\\anaconda3\\lib\\site-packages\\sklearn\\model_selection\\_validation.py:776: UserWarning: Scoring failed. The score on this train-test partition for these parameters will be set to nan. Details: \n",
      "Traceback (most recent call last):\n",
      "  File \"C:\\Users\\DDD\\anaconda3\\lib\\site-packages\\sklearn\\model_selection\\_validation.py\", line 767, in _score\n",
      "    scores = scorer(estimator, X_test, y_test)\n",
      "  File \"C:\\Users\\DDD\\anaconda3\\lib\\site-packages\\sklearn\\metrics\\_scorer.py\", line 219, in __call__\n",
      "    return self._score(\n",
      "  File \"C:\\Users\\DDD\\anaconda3\\lib\\site-packages\\sklearn\\metrics\\_scorer.py\", line 352, in _score\n",
      "    raise ValueError(\"{0} format is not supported\".format(y_type))\n",
      "ValueError: continuous format is not supported\n",
      "\n",
      "  warnings.warn(\n",
      "C:\\Users\\DDD\\anaconda3\\lib\\site-packages\\sklearn\\model_selection\\_validation.py:776: UserWarning: Scoring failed. The score on this train-test partition for these parameters will be set to nan. Details: \n",
      "Traceback (most recent call last):\n",
      "  File \"C:\\Users\\DDD\\anaconda3\\lib\\site-packages\\sklearn\\model_selection\\_validation.py\", line 767, in _score\n",
      "    scores = scorer(estimator, X_test, y_test)\n",
      "  File \"C:\\Users\\DDD\\anaconda3\\lib\\site-packages\\sklearn\\metrics\\_scorer.py\", line 219, in __call__\n",
      "    return self._score(\n",
      "  File \"C:\\Users\\DDD\\anaconda3\\lib\\site-packages\\sklearn\\metrics\\_scorer.py\", line 352, in _score\n",
      "    raise ValueError(\"{0} format is not supported\".format(y_type))\n",
      "ValueError: continuous format is not supported\n",
      "\n",
      "  warnings.warn(\n",
      "C:\\Users\\DDD\\anaconda3\\lib\\site-packages\\sklearn\\model_selection\\_validation.py:776: UserWarning: Scoring failed. The score on this train-test partition for these parameters will be set to nan. Details: \n",
      "Traceback (most recent call last):\n",
      "  File \"C:\\Users\\DDD\\anaconda3\\lib\\site-packages\\sklearn\\model_selection\\_validation.py\", line 767, in _score\n",
      "    scores = scorer(estimator, X_test, y_test)\n",
      "  File \"C:\\Users\\DDD\\anaconda3\\lib\\site-packages\\sklearn\\metrics\\_scorer.py\", line 219, in __call__\n",
      "    return self._score(\n",
      "  File \"C:\\Users\\DDD\\anaconda3\\lib\\site-packages\\sklearn\\metrics\\_scorer.py\", line 352, in _score\n",
      "    raise ValueError(\"{0} format is not supported\".format(y_type))\n",
      "ValueError: continuous format is not supported\n",
      "\n",
      "  warnings.warn(\n",
      "C:\\Users\\DDD\\anaconda3\\lib\\site-packages\\sklearn\\model_selection\\_validation.py:776: UserWarning: Scoring failed. The score on this train-test partition for these parameters will be set to nan. Details: \n",
      "Traceback (most recent call last):\n",
      "  File \"C:\\Users\\DDD\\anaconda3\\lib\\site-packages\\sklearn\\model_selection\\_validation.py\", line 767, in _score\n",
      "    scores = scorer(estimator, X_test, y_test)\n",
      "  File \"C:\\Users\\DDD\\anaconda3\\lib\\site-packages\\sklearn\\metrics\\_scorer.py\", line 219, in __call__\n",
      "    return self._score(\n",
      "  File \"C:\\Users\\DDD\\anaconda3\\lib\\site-packages\\sklearn\\metrics\\_scorer.py\", line 352, in _score\n",
      "    raise ValueError(\"{0} format is not supported\".format(y_type))\n",
      "ValueError: continuous format is not supported\n",
      "\n",
      "  warnings.warn(\n",
      "C:\\Users\\DDD\\anaconda3\\lib\\site-packages\\sklearn\\model_selection\\_search.py:953: UserWarning: One or more of the test scores are non-finite: [nan nan nan nan nan nan nan nan nan nan]\n",
      "  warnings.warn(\n"
     ]
    },
    {
     "data": {
      "text/plain": [
       "{'n_estimators': 92, 'max_depth': 6}"
      ]
     },
     "execution_count": 26,
     "metadata": {},
     "output_type": "execute_result"
    }
   ],
   "source": [
    "# RF model\n",
    "from sklearn.ensemble import RandomForestRegressor\n",
    "RF_reg = RandomForestRegressor (random_state=0)\n",
    "\n",
    "# Recherche des hyperparamètres optimaux: random Forest\n",
    "from sklearn.model_selection import RandomizedSearchCV\n",
    "# Définir la plage des hyperparamètres\n",
    "distributions = dict(max_depth=np.arange(1,10),\n",
    "                     n_estimators=np.arange(60,600))\n",
    "\n",
    "# Configurer la recherche aléatoire\n",
    "Rand_CV = RandomizedSearchCV(RF_reg, distributions, random_state=0, scoring = 'roc_auc')\n",
    "search =  Rand_CV.fit(X_train, y_train)\n",
    " \n",
    "search.best_params_  # Meilleurs paramètres"
   ]
  },
  {
   "cell_type": "code",
   "execution_count": 51,
   "id": "00269bbb",
   "metadata": {},
   "outputs": [
    {
     "name": "stdout",
     "output_type": "stream",
     "text": [
      "score folds RSME RF\n",
      "[-0.55572338 -0.537406   -0.48336422 -0.49718128 -0.59938651 -0.4744824\n",
      " -0.52803338 -0.47850271 -0.59932688 -0.48342669]\n",
      "Mean RSME KNN: -0.524\n"
     ]
    }
   ],
   "source": [
    "RF_reg_final= RandomForestRegressor(max_depth=6, n_estimators=92, random_state=0)\n",
    "cross_validation =10\n",
    "score_RSME_RF = cross_val_score(RF_reg_final, X_train, y_train, cv=cross_validation, scoring =\"neg_root_mean_squared_error\")\n",
    "print('score folds RSME RF')\n",
    "print(score_RSME_RF)\n",
    "print('Mean RSME KNN:', '{:.3f}'.format(score_RSME_RF.mean()))"
   ]
  },
  {
   "cell_type": "code",
   "execution_count": 28,
   "id": "cb273902",
   "metadata": {},
   "outputs": [
    {
     "data": {
      "text/plain": [
       "{'n_estimators': 225, 'max_depth': 2}"
      ]
     },
     "execution_count": 28,
     "metadata": {},
     "output_type": "execute_result"
    }
   ],
   "source": [
    "# Gradient boosting model\n",
    "from sklearn.ensemble import GradientBoostingRegressor\n",
    "GB_reg = GradientBoostingRegressor (random_state=0)\n",
    "\n",
    "distributions = dict(max_depth=np.arange(1,10),\n",
    "                     n_estimators=np.arange(60,600))\n",
    "\n",
    "# Configurer la recherche aléatoire\n",
    "Rand_CV = RandomizedSearchCV(GB_reg, distributions, random_state=0, scoring = \"neg_root_mean_squared_error\")\n",
    "search =  Rand_CV.fit(X_train, y_train)\n",
    " \n",
    "search.best_params_  # Meilleurs paramètres"
   ]
  },
  {
   "cell_type": "code",
   "execution_count": 52,
   "id": "730b1cfd",
   "metadata": {},
   "outputs": [
    {
     "name": "stdout",
     "output_type": "stream",
     "text": [
      "score folds RSME GB\n",
      "[-0.55572338 -0.537406   -0.48336422 -0.49718128 -0.59938651 -0.4744824\n",
      " -0.52803338 -0.47850271 -0.59932688 -0.48342669]\n",
      "Mean RSME GB: -0.538\n"
     ]
    }
   ],
   "source": [
    "GB_reg_final= GradientBoostingRegressor(max_depth=2, n_estimators=225, random_state=0)\n",
    "cross_validation =10\n",
    "score_RSME_GB = cross_val_score(GB_reg_final, X_train, y_train, cv=cross_validation, scoring =\"neg_root_mean_squared_error\")\n",
    "print('score folds RSME GB')\n",
    "print(score_RSME_RF)\n",
    "print('Mean RSME GB:', '{:.3f}'.format(score_RSME_GB.mean()))"
   ]
  },
  {
   "cell_type": "code",
   "execution_count": 30,
   "id": "434797fc",
   "metadata": {},
   "outputs": [
    {
     "data": {
      "text/plain": [
       "numpy.float64"
      ]
     },
     "execution_count": 30,
     "metadata": {},
     "output_type": "execute_result"
    }
   ],
   "source": [
    "RSME_KNN = score_RSME_KNN.mean()\n",
    "RSME_RF = score_RSME_RF.mean()\n",
    "RSME_GB = score_RSME_GB.mean()\n",
    "type(RSME_GB)"
   ]
  },
  {
   "cell_type": "code",
   "execution_count": 53,
   "id": "3d89e997",
   "metadata": {},
   "outputs": [
    {
     "data": {
      "text/html": [
       "<div><div id=40211e7d-61a7-4deb-aca6-a2c3713ebf36 style=\"display:none; background-color:#9D6CFF; color:white; width:200px; height:30px; padding-left:5px; border-radius:4px; flex-direction:row; justify-content:space-around; align-items:center;\" onmouseover=\"this.style.backgroundColor='#BA9BF8'\" onmouseout=\"this.style.backgroundColor='#9D6CFF'\" onclick=\"window.commands?.execute('create-mitosheet-from-dataframe-output');\">See Full Dataframe in Mito</div> <script> if (window.commands.hasCommand('create-mitosheet-from-dataframe-output')) document.getElementById('40211e7d-61a7-4deb-aca6-a2c3713ebf36').style.display = 'flex' </script> <table border=\"1\" class=\"dataframe\">\n",
       "  <thead>\n",
       "    <tr style=\"text-align: right;\">\n",
       "      <th></th>\n",
       "      <th>Cross validation negative RSME</th>\n",
       "    </tr>\n",
       "  </thead>\n",
       "  <tbody>\n",
       "    <tr>\n",
       "      <th>KNN</th>\n",
       "      <td>-0.521982</td>\n",
       "    </tr>\n",
       "    <tr>\n",
       "      <th>Random Forest</th>\n",
       "      <td>-0.524666</td>\n",
       "    </tr>\n",
       "    <tr>\n",
       "      <th>Gradient boosting</th>\n",
       "      <td>-0.538420</td>\n",
       "    </tr>\n",
       "  </tbody>\n",
       "</table></div>"
      ],
      "text/plain": [
       "                   Cross validation negative RSME\n",
       "KNN                                     -0.521982\n",
       "Random Forest                           -0.524666\n",
       "Gradient boosting                       -0.538420"
      ]
     },
     "execution_count": 53,
     "metadata": {},
     "output_type": "execute_result"
    }
   ],
   "source": [
    "RSME = pd.DataFrame([RSME_KNN, RSME_RF, RSME_GB]).T\n",
    "RSME.columns = [\"KNN\", \"Random Forest\", \"Gradient boosting\"]\n",
    "RSME_t = RSME.T\n",
    "\n",
    "RSME_t.columns = [\"Cross validation negative RSME\"]\n",
    "RSME_t"
   ]
  },
  {
   "cell_type": "code",
   "execution_count": 82,
   "id": "bd4c6122",
   "metadata": {},
   "outputs": [],
   "source": [
    "import matplotlib.pyplot as plt\n",
    "from sklearn.model_selection import learning_curve\n",
    "# Courbe d'apprentissage du KNN\n",
    "N, train_score_RF, val_score_RF = learning_curve(RF_reg_final, X_train, y_train,  scoring='neg_root_mean_squared_error',\n",
    "                                           train_sizes=np.linspace(0.1, 1, 10), cv=10)"
   ]
  },
  {
   "cell_type": "code",
   "execution_count": 84,
   "id": "d2760b0f",
   "metadata": {},
   "outputs": [
    {
     "data": {
      "image/png": "[encoded data removed]",
      "text/plain": [
       "<Figure size 720x360 with 1 Axes>"
      ]
     },
     "metadata": {
      "needs_background": "light"
     },
     "output_type": "display_data"
    }
   ],
   "source": [
    "# Representation graphique des differentes courbes\n",
    "figure, axis = plt.subplots(figsize=(10, 5))\n",
    "\n",
    "# For Random Forest\n",
    "axis.plot(N, train_score_RF.mean(axis=1), color = \"red\")    \n",
    "axis.plot(N, val_score_RF.mean(axis=1))\n",
    "axis.set_title(\"Random Forest\")\n",
    "axis.legend(['Train score', 'Validation score'])\n",
    "axis.grid(visible = None)"
   ]
  },
  {
   "cell_type": "markdown",
   "id": "cddc01fe",
   "metadata": {},
   "source": [
    "### 7.\tQuel est le modèle le plus performant des 3 modèles étudiés à la question 6. "
   ]
  },
  {
   "cell_type": "code",
   "execution_count": 54,
   "id": "306195b8",
   "metadata": {},
   "outputs": [],
   "source": [
    "from sklearn.metrics import mean_squared_error, r2_score, median_absolute_error\n",
    "from RegscorePy import *\n",
    "\n",
    "def evaluation(model, X_train = X_train, y_train=y_train, X_test=X_test, y_test=y_test):\n",
    "    model.fit(X_train, y_train)\n",
    "    y_pred= model.predict(X_test)\n",
    "    R2 = r2_score(y_test, y_pred)\n",
    "    MSE = mean_squared_error(y_test, y_pred)\n",
    "    MeAE = median_absolute_error(y_test, y_pred)\n",
    "    AIC= aic.aic(y_test, y_pred, 2)\n",
    "    BIC = bic.bic(y_test, y_pred, 2)\n",
    "    print('R2:', round(R2, 3))\n",
    "    print('MSE:', round(MSE, 3))\n",
    "    print('MeAE:', round(MeAE, 3))\n",
    "    print('RMSE:', round(np.sqrt(MSE),3))\n",
    "    print('AIC:', round(AIC,3))\n",
    "    print('BIC:', round(BIC,3))"
   ]
  },
  {
   "cell_type": "code",
   "execution_count": 55,
   "id": "515574c4",
   "metadata": {},
   "outputs": [
    {
     "name": "stdout",
     "output_type": "stream",
     "text": [
      "KNN regression metrics\n",
      "R2: 0.775\n",
      "MSE: 0.222\n",
      "MeAE: 0.265\n",
      "RMSE: 0.471\n",
      "AIC: -250.432\n",
      "BIC: -244.172\n"
     ]
    }
   ],
   "source": [
    "X_test_scaled = scaler.transform(X_test)\n",
    "print(\"KNN regression metrics\")\n",
    "evaluation(model=KNN_reg_final, X_train = X_train_scaled, y_train=y_train, X_test=X_test_scaled, y_test=y_test)"
   ]
  },
  {
   "cell_type": "code",
   "execution_count": 61,
   "id": "237d0eed",
   "metadata": {},
   "outputs": [
    {
     "name": "stdout",
     "output_type": "stream",
     "text": [
      "RF regression metrics\n",
      "R2: 0.769\n",
      "MSE: 0.228\n",
      "MeAE: 0.283\n",
      "RMSE: 0.477\n",
      "AIC: -245.871\n",
      "BIC: -239.612\n"
     ]
    }
   ],
   "source": [
    "print(\"RF regression metrics\")\n",
    "evaluation(model=RF_reg_final, X_train = X_train, y_train=y_train, X_test=X_test, y_test=y_test)"
   ]
  },
  {
   "cell_type": "code",
   "execution_count": 65,
   "id": "a7ce937d",
   "metadata": {},
   "outputs": [
    {
     "name": "stdout",
     "output_type": "stream",
     "text": [
      "GB regression metrics\n",
      "R2: 0.772\n",
      "MSE: 0.225\n",
      "MeAE: 0.26\n",
      "RMSE: 0.474\n",
      "AIC: -248.082\n",
      "BIC: -241.822\n"
     ]
    }
   ],
   "source": [
    "print(\"GB regression metrics\")\n",
    "evaluation(model=GB_reg_final, X_train = X_train, y_train=y_train, X_test=X_test, y_test=y_test)"
   ]
  },
  {
   "cell_type": "code",
   "execution_count": null,
   "id": "e70afe8c",
   "metadata": {},
   "outputs": [],
   "source": [
    "# Meilleur modèle: KNN puis GB puis RF"
   ]
  },
  {
   "cell_type": "markdown",
   "id": "a47ea799",
   "metadata": {},
   "source": [
    "### 8.\tConstruire une application permettant de prédire fev médian ainsi que les limites inférieures et supérieures de fev (le modèle Gradient Boosting Regressor permet de calculer les limites supérieures et inférieures). "
   ]
  },
  {
   "cell_type": "code",
   "execution_count": 66,
   "id": "e7c54952",
   "metadata": {},
   "outputs": [],
   "source": [
    "from sklearn.metrics import mean_pinball_loss, mean_squared_error\n",
    "\n",
    "all_models = {}\n",
    "common_params = dict(\n",
    "    n_estimators=225,\n",
    "    max_depth=2,\n",
    ")\n",
    "for alpha in [0.05, 0.5, 0.95]:\n",
    "    gbr = GradientBoostingRegressor(loss=\"quantile\", alpha=alpha, **common_params)\n",
    "    all_models[\"q %1.2f\" % alpha] = gbr.fit(X_train, y_train)"
   ]
  },
  {
   "cell_type": "code",
   "execution_count": 67,
   "id": "d97a40a7",
   "metadata": {},
   "outputs": [
    {
     "data": {
      "text/html": [
       "<style type=\"text/css\">\n",
       "#T_893f4_row0_col0, #T_893f4_row1_col1, #T_893f4_row1_col3, #T_893f4_row2_col2 {\n",
       "  font-weight: bold;\n",
       "}\n",
       "</style>\n",
       "<table id=\"T_893f4_\">\n",
       "  <thead>\n",
       "    <tr>\n",
       "      <th class=\"blank level0\" >&nbsp;</th>\n",
       "      <th class=\"col_heading level0 col0\" >pbl=0.05</th>\n",
       "      <th class=\"col_heading level0 col1\" >pbl=0.50</th>\n",
       "      <th class=\"col_heading level0 col2\" >pbl=0.95</th>\n",
       "      <th class=\"col_heading level0 col3\" >MSE</th>\n",
       "    </tr>\n",
       "    <tr>\n",
       "      <th class=\"index_name level0\" >model</th>\n",
       "      <th class=\"blank col0\" >&nbsp;</th>\n",
       "      <th class=\"blank col1\" >&nbsp;</th>\n",
       "      <th class=\"blank col2\" >&nbsp;</th>\n",
       "      <th class=\"blank col3\" >&nbsp;</th>\n",
       "    </tr>\n",
       "  </thead>\n",
       "  <tbody>\n",
       "    <tr>\n",
       "      <th id=\"T_893f4_level0_row0\" class=\"row_heading level0 row0\" >q 0.05</th>\n",
       "      <td id=\"T_893f4_row0_col0\" class=\"data row0 col0\" >0.044039</td>\n",
       "      <td id=\"T_893f4_row0_col1\" class=\"data row0 col1\" >0.367194</td>\n",
       "      <td id=\"T_893f4_row0_col2\" class=\"data row0 col2\" >0.690350</td>\n",
       "      <td id=\"T_893f4_row0_col3\" class=\"data row0 col3\" >0.861206</td>\n",
       "    </tr>\n",
       "    <tr>\n",
       "      <th id=\"T_893f4_level0_row1\" class=\"row_heading level0 row1\" >q 0.50</th>\n",
       "      <td id=\"T_893f4_row1_col0\" class=\"data row1 col0\" >0.169869</td>\n",
       "      <td id=\"T_893f4_row1_col1\" class=\"data row1 col1\" >0.171326</td>\n",
       "      <td id=\"T_893f4_row1_col2\" class=\"data row1 col2\" >0.172782</td>\n",
       "      <td id=\"T_893f4_row1_col3\" class=\"data row1 col3\" >0.236304</td>\n",
       "    </tr>\n",
       "    <tr>\n",
       "      <th id=\"T_893f4_level0_row2\" class=\"row_heading level0 row2\" >q 0.95</th>\n",
       "      <td id=\"T_893f4_row2_col0\" class=\"data row2 col0\" >0.660490</td>\n",
       "      <td id=\"T_893f4_row2_col1\" class=\"data row2 col1\" >0.352821</td>\n",
       "      <td id=\"T_893f4_row2_col2\" class=\"data row2 col2\" >0.045152</td>\n",
       "      <td id=\"T_893f4_row2_col3\" class=\"data row2 col3\" >0.760958</td>\n",
       "    </tr>\n",
       "  </tbody>\n",
       "</table>\n"
      ],
      "text/plain": [
       "<pandas.io.formats.style.Styler at 0x1c1dd546af0>"
      ]
     },
     "execution_count": 67,
     "metadata": {},
     "output_type": "execute_result"
    }
   ],
   "source": [
    "def highlight_min(x):\n",
    "    x_min = x.min()\n",
    "    return [\"font-weight: bold\" if v == x_min else \"\" for v in x]\n",
    "\n",
    "\n",
    "results = []\n",
    "for name, gbr in sorted(all_models.items()):\n",
    "    metrics = {\"model\": name}\n",
    "    y_pred = gbr.predict(X_train)\n",
    "    for alpha in [0.05, 0.5, 0.95]:\n",
    "        metrics[\"pbl=%1.2f\" % alpha] = mean_pinball_loss(y_train, y_pred, alpha=alpha)\n",
    "    metrics[\"MSE\"] = mean_squared_error(y_train, y_pred)\n",
    "    results.append(metrics)\n",
    "\n",
    "pd.DataFrame(results).set_index(\"model\").style.apply(highlight_min)"
   ]
  },
  {
   "cell_type": "code",
   "execution_count": 68,
   "id": "6b457501",
   "metadata": {},
   "outputs": [],
   "source": [
    "pred_median = GradientBoostingRegressor(loss=\"quantile\", alpha=0.50).fit(X_train, y_train)\n",
    "pred_LLN = GradientBoostingRegressor(loss=\"quantile\", alpha=0.05).fit(X_train, y_train)\n",
    "pred_ULN = GradientBoostingRegressor(loss=\"quantile\", alpha=0.95).fit(X_train, y_train)"
   ]
  },
  {
   "cell_type": "code",
   "execution_count": 78,
   "id": "b99d2468",
   "metadata": {},
   "outputs": [],
   "source": [
    "## Fonction de calcul\n",
    "def prediction_FEV (age, height):\n",
    "    fit_median = GradientBoostingRegressor(loss=\"quantile\", alpha=0.50, random_state=0)\n",
    "    fit_median.fit(X_train, y_train)\n",
    "    fit_LLN= GradientBoostingRegressor(loss=\"quantile\", alpha=0.05, random_state=0)\n",
    "    fit_LLN.fit(X_train, y_train)\n",
    "    fit_ULN= GradientBoostingRegressor(loss=\"quantile\", alpha=0.95, random_state=0)\n",
    "    fit_ULN.fit(X_train, y_train)\n",
    "    var = {'age':[age],\n",
    "        'height':[height]}\n",
    "    X1 = pd.DataFrame (var)\n",
    "    pred_median = fit_median.predict(X1)\n",
    "    LLN = fit_LLN.predict(X1)\n",
    "    ULN = fit_ULN.predict(X1)\n",
    "    table = pd.DataFrame([LLN [0],pred_median[0], ULN[0]]).T\n",
    "    table.columns = [\"LLN\", \"median\", \"ULN\"]\n",
    "    return table"
   ]
  },
  {
   "cell_type": "code",
   "execution_count": 80,
   "id": "9196fd32",
   "metadata": {},
   "outputs": [
    {
     "data": {
      "text/html": [
       "<div><div id=05933ace-a834-46d7-8646-079514a5a798 style=\"display:none; background-color:#9D6CFF; color:white; width:200px; height:30px; padding-left:5px; border-radius:4px; flex-direction:row; justify-content:space-around; align-items:center;\" onmouseover=\"this.style.backgroundColor='#BA9BF8'\" onmouseout=\"this.style.backgroundColor='#9D6CFF'\" onclick=\"window.commands?.execute('create-mitosheet-from-dataframe-output');\">See Full Dataframe in Mito</div> <script> if (window.commands.hasCommand('create-mitosheet-from-dataframe-output')) document.getElementById('05933ace-a834-46d7-8646-079514a5a798').style.display = 'flex' </script> <table border=\"1\" class=\"dataframe\">\n",
       "  <thead>\n",
       "    <tr style=\"text-align: right;\">\n",
       "      <th></th>\n",
       "      <th>LLN</th>\n",
       "      <th>median</th>\n",
       "      <th>ULN</th>\n",
       "    </tr>\n",
       "  </thead>\n",
       "  <tbody>\n",
       "    <tr>\n",
       "      <th>0</th>\n",
       "      <td>1.519172</td>\n",
       "      <td>2.145457</td>\n",
       "      <td>3.196846</td>\n",
       "    </tr>\n",
       "  </tbody>\n",
       "</table></div>"
      ],
      "text/plain": [
       "        LLN    median       ULN\n",
       "0  1.519172  2.145457  3.196846"
      ]
     },
     "execution_count": 80,
     "metadata": {},
     "output_type": "execute_result"
    }
   ],
   "source": [
    "# Exemple de prédiction pour un sujet de 40 ans mesurant 170 cm de taille\n",
    "prediction_FEV (age=80, height=170)"
   ]
  },
  {
   "cell_type": "code",
   "execution_count": null,
   "id": "50627b86",
   "metadata": {},
   "outputs": [],
   "source": []
  }
 ],
 "metadata": {
  "kernelspec": {
   "display_name": "Python 3",
   "language": "python",
   "name": "python3"
  },
  "language_info": {
   "codemirror_mode": {
    "name": "ipython",
    "version": 3
   },
   "file_extension": ".py",
   "mimetype": "text/x-python",
   "name": "python",
   "nbconvert_exporter": "python",
   "pygments_lexer": "ipython3",
   "version": "3.8.8"
  }
 },
 "nbformat": 4,
 "nbformat_minor": 5
}
