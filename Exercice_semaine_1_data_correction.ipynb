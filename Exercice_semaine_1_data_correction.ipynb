{
 "cells": [
  {
   "cell_type": "markdown",
   "id": "30b7720f",
   "metadata": {},
   "source": [
    "# Exercice  semaine 1- data science\n",
    "- Date limite de soumission des réponses: Jeudi 23 mars 2023 à 12h\n",
    "\n",
    "- Discussion en ligne : Vendredi  24 mars 2023 de 16h à 18h\n",
    "\n",
    "- Thématiques abordées : Bases de python, numpy, pandas\n",
    "\n",
    "- NB : Vous êtes priés d’utiliser Jupyter notebook comme environnement de développement intégré (IDE).Vous pouvez soumettre votre travail en Jupyter notebook ou en htlm. \n"
   ]
  },
  {
   "cell_type": "markdown",
   "id": "180ba053",
   "metadata": {},
   "source": [
    "# Partie 1 : Bases de python (chaque question est notée sur 5pts)"
   ]
  },
  {
   "cell_type": "code",
   "execution_count": 2,
   "id": "6a36fcee",
   "metadata": {},
   "outputs": [],
   "source": [
    "# 1.Déclarer les variables x, y et z respectives suivantes dans votre IDE : 2, 4.3 et https://raw.githubusercontent.com/pefura/IFPERA/main/Base%20_pleuresie_ML_2.csv\n",
    "x= 2\n",
    "y = 4.3\n",
    "z = \"https://raw.githubusercontent.com/pefura/IFPERA/main/Base%20_pleuresie_ML_2.csv\""
   ]
  },
  {
   "cell_type": "code",
   "execution_count": 3,
   "id": "7e9cedf2",
   "metadata": {},
   "outputs": [
    {
     "data": {
      "text/plain": [
       "0.46511627906976744"
      ]
     },
     "execution_count": 3,
     "metadata": {},
     "output_type": "execute_result"
    }
   ],
   "source": [
    "x/y"
   ]
  },
  {
   "cell_type": "code",
   "execution_count": 5,
   "id": "8514a9a7",
   "metadata": {},
   "outputs": [
    {
     "name": "stdout",
     "output_type": "stream",
     "text": [
      "x/y = 0.46511627906976744\n",
      "x-2y = -6.6\n"
     ]
    }
   ],
   "source": [
    "# 2.Calculer x/y, x-2y.\n",
    "print(\"x/y =\", x/y)\n",
    "print(\"x-2y =\", x-2*y)"
   ]
  },
  {
   "cell_type": "code",
   "execution_count": 3,
   "id": "cde136d4",
   "metadata": {},
   "outputs": [
    {
     "name": "stdout",
     "output_type": "stream",
     "text": [
      "Déterminer la partie entière de la division de y par x: 2.0\n"
     ]
    }
   ],
   "source": [
    "# 3.Déterminer la partie entière de la division de y par x.\n",
    "print(\"Déterminer la partie entière de la division de y par x:\", y//x)"
   ]
  },
  {
   "cell_type": "code",
   "execution_count": 4,
   "id": "207684b8",
   "metadata": {},
   "outputs": [
    {
     "name": "stdout",
     "output_type": "stream",
     "text": [
      "Déterminer le reste de la division de y par x: 0.2999999999999998\n"
     ]
    }
   ],
   "source": [
    "# 4. Déterminer le reste de la division de y par x.\n",
    "print(\"Déterminer le reste de la division de y par x:\", y%x)"
   ]
  },
  {
   "cell_type": "code",
   "execution_count": 7,
   "id": "116a814c",
   "metadata": {
    "scrolled": true
   },
   "outputs": [
    {
     "data": {
      "text/plain": [
       "['https:',\n",
       " '',\n",
       " 'raw.githubusercontent.com',\n",
       " 'pefura',\n",
       " 'IFPERA',\n",
       " 'main',\n",
       " 'Base%20_pleuresie_ML_2.csv']"
      ]
     },
     "execution_count": 7,
     "metadata": {},
     "output_type": "execute_result"
    }
   ],
   "source": [
    "# 5.En utilisant une fonction native précise de python, créer la liste nommée « List » de tous les éléments de z séparés par « / ».\n",
    "List = z.split(\"/\")\n",
    "List"
   ]
  },
  {
   "cell_type": "code",
   "execution_count": 8,
   "id": "a48255f5",
   "metadata": {},
   "outputs": [
    {
     "data": {
      "text/plain": [
       "7"
      ]
     },
     "execution_count": 8,
     "metadata": {},
     "output_type": "execute_result"
    }
   ],
   "source": [
    "len(List)"
   ]
  },
  {
   "cell_type": "code",
   "execution_count": 9,
   "id": "51833ccc",
   "metadata": {},
   "outputs": [
    {
     "data": {
      "text/plain": [
       "''"
      ]
     },
     "execution_count": 9,
     "metadata": {},
     "output_type": "execute_result"
    }
   ],
   "source": [
    "# 6.Extraire l’élément en deuxième position de « List ».\n",
    "List[1]"
   ]
  },
  {
   "cell_type": "code",
   "execution_count": 10,
   "id": "b4087ce9",
   "metadata": {
    "scrolled": true
   },
   "outputs": [
    {
     "data": {
      "text/plain": [
       "['https:',\n",
       " 'raw.githubusercontent.com',\n",
       " 'pefura',\n",
       " 'IFPERA',\n",
       " 'main',\n",
       " 'Base%20_pleuresie_ML_2.csv']"
      ]
     },
     "execution_count": 10,
     "metadata": {},
     "output_type": "execute_result"
    }
   ],
   "source": [
    "# 7.Supprimer l’élément « ' ' » de la liste « List ».\n",
    "List.remove('')\n",
    "List"
   ]
  },
  {
   "cell_type": "code",
   "execution_count": 11,
   "id": "f4b6aa82",
   "metadata": {},
   "outputs": [
    {
     "data": {
      "text/plain": [
       "'Base%20_pleuresie_ML_2.csv'"
      ]
     },
     "execution_count": 11,
     "metadata": {},
     "output_type": "execute_result"
    }
   ],
   "source": [
    "# 8. Extraire le dernier élément de « List ».\n",
    "List[-1]"
   ]
  },
  {
   "cell_type": "code",
   "execution_count": 12,
   "id": "ffa52ff1",
   "metadata": {},
   "outputs": [
    {
     "data": {
      "text/plain": [
       "'main'"
      ]
     },
     "execution_count": 12,
     "metadata": {},
     "output_type": "execute_result"
    }
   ],
   "source": [
    "# Avant dernier élement de la liste\n",
    "List[-2]"
   ]
  },
  {
   "cell_type": "code",
   "execution_count": 13,
   "id": "39f62357",
   "metadata": {},
   "outputs": [
    {
     "data": {
      "text/plain": [
       "['https:', 'raw.githubusercontent.com']"
      ]
     },
     "execution_count": 13,
     "metadata": {},
     "output_type": "execute_result"
    }
   ],
   "source": [
    "# Choisir les éléments situés entre l'index 0 et 2(exclu)\n",
    "List[0:2]"
   ]
  },
  {
   "cell_type": "code",
   "execution_count": 17,
   "id": "284df083",
   "metadata": {},
   "outputs": [
    {
     "data": {
      "text/plain": [
       "{'oiseau': 'bird', 'chat': 'cat', 'chien': 'dog'}"
      ]
     },
     "execution_count": 17,
     "metadata": {},
     "output_type": "execute_result"
    }
   ],
   "source": [
    "# 9.Construire un dictionnaire nommé « dict » avec les clés suivantes : oiseau, chat, chien. \n",
    "# Les valeurs de ces clés étant la traduction anglaise des clés. \n",
    "\n",
    "dictionnaire = {\"oiseau\":\"bird\",\n",
    "                \"chat\":\"cat\", \n",
    "               \"chien\":\"dog\" \n",
    "              }\n",
    "dictionnaire"
   ]
  },
  {
   "cell_type": "code",
   "execution_count": 81,
   "id": "ee2f90bb",
   "metadata": {},
   "outputs": [
    {
     "data": {
      "text/plain": [
       "3"
      ]
     },
     "execution_count": 81,
     "metadata": {},
     "output_type": "execute_result"
    }
   ],
   "source": [
    "len(dictionnaire)"
   ]
  },
  {
   "cell_type": "markdown",
   "id": "3a512566",
   "metadata": {},
   "source": [
    "# Partie 2 : Numpy (chaque question est notée sur 5pts)\n",
    "Déclarer les objets suivants (poids en kg, taille en cm et sexe [1= sexe masculin, 2 = sexe féminin]):\n",
    "\n",
    "poids= [50, 55, 80, 70, 86, 64]\n",
    "\n",
    "taille = [157, 170, 170, 162, 171, 148]\n",
    "\n",
    "sexe  = (1, 2, 2, 2, 1, 1)\n"
   ]
  },
  {
   "cell_type": "code",
   "execution_count": null,
   "id": "f220638e",
   "metadata": {},
   "outputs": [],
   "source": [
    "poids= [50, 55, 80, 70, 86, 64]\n",
    "taille = [170, 170, 170, 162, 171, 148]\n",
    "sexe  = (1, 2, 2, 2, 1, 1)"
   ]
  },
  {
   "cell_type": "code",
   "execution_count": 24,
   "id": "12059e6e",
   "metadata": {},
   "outputs": [
    {
     "data": {
      "text/html": [
       "<div><div id=34399a3e-578a-4aa2-9ee8-5ac1da7b3039 style=\"display:none; background-color:#9D6CFF; color:white; width:200px; height:30px; padding-left:5px; border-radius:4px; flex-direction:row; justify-content:space-around; align-items:center;\" onmouseover=\"this.style.backgroundColor='#BA9BF8'\" onmouseout=\"this.style.backgroundColor='#9D6CFF'\" onclick=\"window.commands?.execute('create-mitosheet-from-dataframe-output');\">See Full Dataframe in Mito</div> <script> if (window.commands.hasCommand('create-mitosheet-from-dataframe-output')) document.getElementById('34399a3e-578a-4aa2-9ee8-5ac1da7b3039').style.display = 'flex' </script> <table border=\"1\" class=\"dataframe\">\n",
       "  <thead>\n",
       "    <tr style=\"text-align: right;\">\n",
       "      <th></th>\n",
       "      <th>Séquences</th>\n",
       "    </tr>\n",
       "  </thead>\n",
       "  <tbody>\n",
       "    <tr>\n",
       "      <th>poids</th>\n",
       "      <td>list</td>\n",
       "    </tr>\n",
       "    <tr>\n",
       "      <th>taille</th>\n",
       "      <td>list</td>\n",
       "    </tr>\n",
       "    <tr>\n",
       "      <th>sexe</th>\n",
       "      <td>tuple</td>\n",
       "    </tr>\n",
       "  </tbody>\n",
       "</table></div>"
      ],
      "text/plain": [
       "       Séquences\n",
       "poids       list\n",
       "taille      list\n",
       "sexe       tuple"
      ]
     },
     "execution_count": 24,
     "metadata": {},
     "output_type": "execute_result"
    }
   ],
   "source": [
    "# 10.Comment appelle-t-on les structures de données utilisées pour chacun des objets poids, taille et sexe définis dans la vignette de la partie 2 dans python\n",
    "# (dresser dans votre IDE simplement un tableau contenant les réponses)?  \n",
    "import pandas as pd\n",
    "pd.DataFrame([{\"poids\": \"list\", \"taille\": 'list', \"sexe\": \"tuple\"}], index = ['Séquences']).T"
   ]
  },
  {
   "cell_type": "code",
   "execution_count": 1,
   "id": "c5c13a1b",
   "metadata": {},
   "outputs": [],
   "source": [
    "import numpy as np"
   ]
  },
  {
   "cell_type": "code",
   "execution_count": 25,
   "id": "286be8ab",
   "metadata": {},
   "outputs": [
    {
     "data": {
      "application/javascript": [
       "\n",
       "        if (window._pyforest_update_imports_cell) { window._pyforest_update_imports_cell('import numpy as np'); }\n",
       "    "
      ],
      "text/plain": [
       "<IPython.core.display.Javascript object>"
      ]
     },
     "metadata": {},
     "output_type": "display_data"
    },
    {
     "data": {
      "application/javascript": [
       "\n",
       "        if (window._pyforest_update_imports_cell) { window._pyforest_update_imports_cell('import numpy as np'); }\n",
       "    "
      ],
      "text/plain": [
       "<IPython.core.display.Javascript object>"
      ]
     },
     "metadata": {},
     "output_type": "display_data"
    },
    {
     "data": {
      "application/javascript": [
       "\n",
       "        if (window._pyforest_update_imports_cell) { window._pyforest_update_imports_cell('import numpy as np'); }\n",
       "    "
      ],
      "text/plain": [
       "<IPython.core.display.Javascript object>"
      ]
     },
     "metadata": {},
     "output_type": "display_data"
    },
    {
     "data": {
      "text/plain": [
       "(array([50, 55, 80, 70, 86, 64]),\n",
       " array([170, 170, 170, 162, 171, 148]),\n",
       " array([1, 2, 2, 2, 1, 1]))"
      ]
     },
     "execution_count": 25,
     "metadata": {},
     "output_type": "execute_result"
    }
   ],
   "source": [
    "# 11.En utilisant la librarie numpy [Numerical Python], \n",
    "# transformer les objets poids, taille, sexe en  tableaux numpy de dimension 1 (1 D array).\n",
    "poids_np = np.array(poids)\n",
    "taille_np = np.array(taille)\n",
    "sexe_np = np.array(sexe)\n",
    "poids_np,taille_np,sexe_np"
   ]
  },
  {
   "cell_type": "code",
   "execution_count": 26,
   "id": "bdbcbdfd",
   "metadata": {},
   "outputs": [
    {
     "data": {
      "text/plain": [
       "1"
      ]
     },
     "execution_count": 26,
     "metadata": {},
     "output_type": "execute_result"
    }
   ],
   "source": [
    "poids_np.ndim # dimension des tables crées"
   ]
  },
  {
   "cell_type": "code",
   "execution_count": 35,
   "id": "887d5a95",
   "metadata": {},
   "outputs": [
    {
     "data": {
      "application/javascript": [
       "\n",
       "        if (window._pyforest_update_imports_cell) { window._pyforest_update_imports_cell('import numpy as np'); }\n",
       "    "
      ],
      "text/plain": [
       "<IPython.core.display.Javascript object>"
      ]
     },
     "metadata": {},
     "output_type": "display_data"
    },
    {
     "data": {
      "text/plain": [
       "array([[ 50, 170,   1],\n",
       "       [ 55, 170,   2],\n",
       "       [ 80, 170,   2],\n",
       "       [ 70, 162,   2],\n",
       "       [ 86, 171,   1],\n",
       "       [ 64, 148,   1]])"
      ]
     },
     "execution_count": 35,
     "metadata": {},
     "output_type": "execute_result"
    }
   ],
   "source": [
    "# 12.Créer une matrice (mat) numpy dont les objets poids, taille et sexe sont des colonnes. \n",
    "mat = np.array([poids, taille, sexe]).T # noter l'utilsisation de la= méthode transpose (T)\n",
    "mat"
   ]
  },
  {
   "cell_type": "code",
   "execution_count": 36,
   "id": "34b06b1d",
   "metadata": {},
   "outputs": [
    {
     "data": {
      "application/javascript": [
       "\n",
       "        if (window._pyforest_update_imports_cell) { window._pyforest_update_imports_cell('import numpy as np'); }\n",
       "    "
      ],
      "text/plain": [
       "<IPython.core.display.Javascript object>"
      ]
     },
     "metadata": {},
     "output_type": "display_data"
    },
    {
     "data": {
      "text/plain": [
       "(6, 3)"
      ]
     },
     "execution_count": 36,
     "metadata": {},
     "output_type": "execute_result"
    }
   ],
   "source": [
    "# 13. Quelle est la  forme de « mat » ?\n",
    "np.shape(mat)# 6 lignes et 3 colonnes"
   ]
  },
  {
   "cell_type": "code",
   "execution_count": 37,
   "id": "93f8b22d",
   "metadata": {},
   "outputs": [
    {
     "data": {
      "text/plain": [
       "(6, 3)"
      ]
     },
     "execution_count": 37,
     "metadata": {},
     "output_type": "execute_result"
    }
   ],
   "source": [
    "mat.shape"
   ]
  },
  {
   "cell_type": "markdown",
   "id": "e26cfa46",
   "metadata": {},
   "source": [
    "# Partie 3 : Pandas (chaque question est notée sur 5pts)"
   ]
  },
  {
   "cell_type": "code",
   "execution_count": 33,
   "id": "a97009a4",
   "metadata": {},
   "outputs": [],
   "source": [
    "import pandas as pd"
   ]
  },
  {
   "cell_type": "code",
   "execution_count": 38,
   "id": "097b0bae",
   "metadata": {
    "scrolled": true
   },
   "outputs": [
    {
     "data": {
      "text/html": [
       "<div><div id=f97d3b64-0d52-4a7c-936d-283f6a788192 style=\"display:none; background-color:#9D6CFF; color:white; width:200px; height:30px; padding-left:5px; border-radius:4px; flex-direction:row; justify-content:space-around; align-items:center;\" onmouseover=\"this.style.backgroundColor='#BA9BF8'\" onmouseout=\"this.style.backgroundColor='#9D6CFF'\" onclick=\"window.commands?.execute('create-mitosheet-from-dataframe-output');\">See Full Dataframe in Mito</div> <script> if (window.commands.hasCommand('create-mitosheet-from-dataframe-output')) document.getElementById('f97d3b64-0d52-4a7c-936d-283f6a788192').style.display = 'flex' </script> <table border=\"1\" class=\"dataframe\">\n",
       "  <thead>\n",
       "    <tr style=\"text-align: right;\">\n",
       "      <th></th>\n",
       "      <th>poids</th>\n",
       "      <th>taille</th>\n",
       "      <th>sexe</th>\n",
       "    </tr>\n",
       "  </thead>\n",
       "  <tbody>\n",
       "    <tr>\n",
       "      <th>0</th>\n",
       "      <td>50</td>\n",
       "      <td>170</td>\n",
       "      <td>1</td>\n",
       "    </tr>\n",
       "    <tr>\n",
       "      <th>1</th>\n",
       "      <td>55</td>\n",
       "      <td>170</td>\n",
       "      <td>2</td>\n",
       "    </tr>\n",
       "    <tr>\n",
       "      <th>2</th>\n",
       "      <td>80</td>\n",
       "      <td>170</td>\n",
       "      <td>2</td>\n",
       "    </tr>\n",
       "    <tr>\n",
       "      <th>3</th>\n",
       "      <td>70</td>\n",
       "      <td>162</td>\n",
       "      <td>2</td>\n",
       "    </tr>\n",
       "    <tr>\n",
       "      <th>4</th>\n",
       "      <td>86</td>\n",
       "      <td>171</td>\n",
       "      <td>1</td>\n",
       "    </tr>\n",
       "    <tr>\n",
       "      <th>5</th>\n",
       "      <td>64</td>\n",
       "      <td>148</td>\n",
       "      <td>1</td>\n",
       "    </tr>\n",
       "  </tbody>\n",
       "</table></div>"
      ],
      "text/plain": [
       "   poids  taille  sexe\n",
       "0     50     170     1\n",
       "1     55     170     2\n",
       "2     80     170     2\n",
       "3     70     162     2\n",
       "4     86     171     1\n",
       "5     64     148     1"
      ]
     },
     "execution_count": 38,
     "metadata": {},
     "output_type": "execute_result"
    }
   ],
   "source": [
    "# 14.Transformer mat en un dataframe de pandas nommé « dataset » \n",
    "# en indiquant clairement le nom des colonnes. \n",
    "dataset = pd.DataFrame(mat, columns = (\"poids\", \"taille\", \"sexe\"))\n",
    "dataset "
   ]
  },
  {
   "cell_type": "code",
   "execution_count": 112,
   "id": "4163196d",
   "metadata": {},
   "outputs": [
    {
     "data": {
      "text/html": [
       "<div><div id=5f529ba1-b094-43da-a273-c5bab0cc7589 style=\"display:none; background-color:#9D6CFF; color:white; width:200px; height:30px; padding-left:5px; border-radius:4px; flex-direction:row; justify-content:space-around; align-items:center;\" onmouseover=\"this.style.backgroundColor='#BA9BF8'\" onmouseout=\"this.style.backgroundColor='#9D6CFF'\" onclick=\"window.commands?.execute('create-mitosheet-from-dataframe-output');\">See Full Dataframe in Mito</div> <script> if (window.commands.hasCommand('create-mitosheet-from-dataframe-output')) document.getElementById('5f529ba1-b094-43da-a273-c5bab0cc7589').style.display = 'flex' </script> <table border=\"1\" class=\"dataframe\">\n",
       "  <thead>\n",
       "    <tr style=\"text-align: right;\">\n",
       "      <th></th>\n",
       "      <th>poids</th>\n",
       "      <th>taille</th>\n",
       "      <th>sexe</th>\n",
       "    </tr>\n",
       "  </thead>\n",
       "  <tbody>\n",
       "    <tr>\n",
       "      <th>1</th>\n",
       "      <td>55</td>\n",
       "      <td>170</td>\n",
       "      <td>2</td>\n",
       "    </tr>\n",
       "    <tr>\n",
       "      <th>2</th>\n",
       "      <td>80</td>\n",
       "      <td>170</td>\n",
       "      <td>2</td>\n",
       "    </tr>\n",
       "    <tr>\n",
       "      <th>3</th>\n",
       "      <td>70</td>\n",
       "      <td>162</td>\n",
       "      <td>2</td>\n",
       "    </tr>\n",
       "  </tbody>\n",
       "</table></div>"
      ],
      "text/plain": [
       "   poids  taille  sexe\n",
       "1     55     170     2\n",
       "2     80     170     2\n",
       "3     70     162     2"
      ]
     },
     "execution_count": 112,
     "metadata": {},
     "output_type": "execute_result"
    }
   ],
   "source": [
    "# 15.Sélectionner la sous-base « dataset_female » de dataset ne contenant que les sujets de sexe féminin. \n",
    "\n",
    "dataset_female = dataset[dataset[\"sexe\"]==2]\n",
    "dataset_female "
   ]
  },
  {
   "cell_type": "code",
   "execution_count": 49,
   "id": "38cd5a7b",
   "metadata": {},
   "outputs": [
    {
     "data": {
      "text/html": [
       "<div><div id=763e09f8-f314-4218-afc0-9b9810ac495f style=\"display:none; background-color:#9D6CFF; color:white; width:200px; height:30px; padding-left:5px; border-radius:4px; flex-direction:row; justify-content:space-around; align-items:center;\" onmouseover=\"this.style.backgroundColor='#BA9BF8'\" onmouseout=\"this.style.backgroundColor='#9D6CFF'\" onclick=\"window.commands?.execute('create-mitosheet-from-dataframe-output');\">See Full Dataframe in Mito</div> <script> if (window.commands.hasCommand('create-mitosheet-from-dataframe-output')) document.getElementById('763e09f8-f314-4218-afc0-9b9810ac495f').style.display = 'flex' </script> <table border=\"1\" class=\"dataframe\">\n",
       "  <thead>\n",
       "    <tr style=\"text-align: right;\">\n",
       "      <th></th>\n",
       "      <th>poids</th>\n",
       "      <th>taille</th>\n",
       "    </tr>\n",
       "  </thead>\n",
       "  <tbody>\n",
       "    <tr>\n",
       "      <th>0</th>\n",
       "      <td>50</td>\n",
       "      <td>170</td>\n",
       "    </tr>\n",
       "    <tr>\n",
       "      <th>1</th>\n",
       "      <td>55</td>\n",
       "      <td>170</td>\n",
       "    </tr>\n",
       "    <tr>\n",
       "      <th>2</th>\n",
       "      <td>80</td>\n",
       "      <td>170</td>\n",
       "    </tr>\n",
       "    <tr>\n",
       "      <th>3</th>\n",
       "      <td>70</td>\n",
       "      <td>162</td>\n",
       "    </tr>\n",
       "    <tr>\n",
       "      <th>4</th>\n",
       "      <td>86</td>\n",
       "      <td>171</td>\n",
       "    </tr>\n",
       "    <tr>\n",
       "      <th>5</th>\n",
       "      <td>64</td>\n",
       "      <td>148</td>\n",
       "    </tr>\n",
       "  </tbody>\n",
       "</table></div>"
      ],
      "text/plain": [
       "   poids  taille\n",
       "0     50     170\n",
       "1     55     170\n",
       "2     80     170\n",
       "3     70     162\n",
       "4     86     171\n",
       "5     64     148"
      ]
     },
     "execution_count": 49,
     "metadata": {},
     "output_type": "execute_result"
    }
   ],
   "source": [
    "data = dataset[[\"poids\", \"taille\"]]\n",
    "data"
   ]
  },
  {
   "cell_type": "markdown",
   "id": "02e934b8",
   "metadata": {},
   "source": [
    "# Partie 4 : Fonctions "
   ]
  },
  {
   "cell_type": "code",
   "execution_count": 40,
   "id": "eaf9d1d5",
   "metadata": {},
   "outputs": [
    {
     "data": {
      "application/javascript": [
       "\n",
       "        if (window._pyforest_update_imports_cell) { window._pyforest_update_imports_cell('import numpy as np'); }\n",
       "    "
      ],
      "text/plain": [
       "<IPython.core.display.Javascript object>"
      ]
     },
     "metadata": {},
     "output_type": "display_data"
    },
    {
     "data": {
      "application/javascript": [
       "\n",
       "        if (window._pyforest_update_imports_cell) { window._pyforest_update_imports_cell('import numpy as np'); }\n",
       "    "
      ],
      "text/plain": [
       "<IPython.core.display.Javascript object>"
      ]
     },
     "metadata": {},
     "output_type": "display_data"
    },
    {
     "data": {
      "application/javascript": [
       "\n",
       "        if (window._pyforest_update_imports_cell) { window._pyforest_update_imports_cell('import numpy as np'); }\n",
       "    "
      ],
      "text/plain": [
       "<IPython.core.display.Javascript object>"
      ]
     },
     "metadata": {},
     "output_type": "display_data"
    },
    {
     "data": {
      "application/javascript": [
       "\n",
       "        if (window._pyforest_update_imports_cell) { window._pyforest_update_imports_cell('import numpy as np'); }\n",
       "    "
      ],
      "text/plain": [
       "<IPython.core.display.Javascript object>"
      ]
     },
     "metadata": {},
     "output_type": "display_data"
    },
    {
     "data": {
      "application/javascript": [
       "\n",
       "        if (window._pyforest_update_imports_cell) { window._pyforest_update_imports_cell('import numpy as np'); }\n",
       "    "
      ],
      "text/plain": [
       "<IPython.core.display.Javascript object>"
      ]
     },
     "metadata": {},
     "output_type": "display_data"
    },
    {
     "data": {
      "application/javascript": [
       "\n",
       "        if (window._pyforest_update_imports_cell) { window._pyforest_update_imports_cell('import numpy as np'); }\n",
       "    "
      ],
      "text/plain": [
       "<IPython.core.display.Javascript object>"
      ]
     },
     "metadata": {},
     "output_type": "display_data"
    },
    {
     "name": "stdout",
     "output_type": "stream",
     "text": [
      "[3.912023005428146, 4.007333185232471, 4.382026634673881, 4.248495242049359, 4.454347296253507, 4.1588830833596715]\n"
     ]
    }
   ],
   "source": [
    "# 16.En utilisant la boucle for, créer une liste contenant \n",
    "# les logarithmes naturels des éléments de la liste « poids » définie à la partie 2 (10 pts). \n",
    "log_poids = [] # Créer d'abord une liste vide\n",
    "for i in poids:\n",
    "    log_i=np.log(i) # calcul du log des différents poids\n",
    "    log_poids.append(log_i)# Attacher chaque log de poids à la liste vide\n",
    "print(log_poids)# imprimer les résulats"
   ]
  },
  {
   "cell_type": "code",
   "execution_count": 46,
   "id": "4d54833a",
   "metadata": {},
   "outputs": [],
   "source": [
    "# 17.Définissez une fonction générique nommée « obesity_classification » qui permet à partir \n",
    "# du poids et de la taille d’un individu de déterminer s’il est maigre, de poids normal, \n",
    "# en surpoids ou obèse. Il est nécessaire d’utiliser l’indice de masse corporelle (IMC) \n",
    "# avec les cut-off suivants 18.5 kg/m2, 26 kg/m2 et 30 kg/m2 pour définir respectivement \n",
    "# les classes d’IMC. Il est également conseiller d’afficher la classe correspondante \n",
    "# avec l’IMC correspondant (10 pts). \n",
    "\n",
    "def obesity_classification (poids,taille):\n",
    "    # poids en kg et taille en m\n",
    "    IMC = poids/(taille*taille)\n",
    "    print(\"Indice de masse corporelle (kg/m2):\",IMC) # imprimer à l'écran l'IMC en kg/m2\n",
    "    # Utiliser les instructions conditionnelles pour classer l'IMC\n",
    "    if IMC < 18.5:\n",
    "        print(\"obesity_classification:\", \"maigreur\")\n",
    "    elif IMC >= 18.5 and IMC < 26:\n",
    "        print(\"obesity_classification:\", \"poids normal\")\n",
    "    elif IMC >= 26 and IMC < 30:\n",
    "        print(\"obesity_classification:\", \"surpoids\")\n",
    "    else:\n",
    "        print(\"obesity_classification:\", \"obèse\")\n",
    "        "
   ]
  },
  {
   "cell_type": "code",
   "execution_count": 47,
   "id": "12b6d143",
   "metadata": {},
   "outputs": [
    {
     "name": "stdout",
     "output_type": "stream",
     "text": [
      "observation 1:\n",
      "Indice de masse corporelle (kg/m2): 17.301038062283737\n",
      "obesity_classification: maigreur\n",
      "observation 2:\n",
      "Indice de masse corporelle (kg/m2): 19.031141868512112\n",
      "obesity_classification: poids normal\n"
     ]
    }
   ],
   "source": [
    "# 18.Exécuter la fonction « obesity_classification » pour les deux premières observations de dataset (question 14), 5 pts. \n",
    "\n",
    "print(\"observation 1:\")\n",
    "obesity_classification (poids=50,taille=1.70)\n",
    "\n",
    "print(\"observation 2:\")\n",
    "obesity_classification (poids=55,taille=1.70)"
   ]
  }
 ],
 "metadata": {
  "kernelspec": {
   "display_name": "Python 3",
   "language": "python",
   "name": "python3"
  },
  "language_info": {
   "codemirror_mode": {
    "name": "ipython",
    "version": 3
   },
   "file_extension": ".py",
   "mimetype": "text/x-python",
   "name": "python",
   "nbconvert_exporter": "python",
   "pygments_lexer": "ipython3",
   "version": "3.8.8"
  }
 },
 "nbformat": 4,
 "nbformat_minor": 5
}
