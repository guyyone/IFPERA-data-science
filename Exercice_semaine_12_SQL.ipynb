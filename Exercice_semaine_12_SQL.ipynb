{
 "cells": [
  {
   "cell_type": "markdown",
   "id": "7873641f-8734-49fb-a636-a0b68e341359",
   "metadata": {},
   "source": [
    "## **[Objectif: Maîtriser SQL]()** \n",
    "#### Le projet de cette semaine porte sur le SQL et la manipulation des bases des données relationnelles\n",
    "#### Date de soumission: jeudi 15 juin 2023 à 22 H\n"
   ]
  },
  {
   "cell_type": "markdown",
   "id": "db4b8ab3-1e50-4356-9f5e-d8d9713f4455",
   "metadata": {},
   "source": [
    "##### Nous travaillerons dans cette partie avec une base des données du championnat de baskett ball américain (NBA)\n",
    "##### Cette base est au format compressé et disponible publiquement dans kaggle et  accessible à l'adresse:\n",
    "- [baskettball_data (url)](https://drive.google.com/file/d/17T1SQdChPn6JTpdLnd8VGWSOVGeWCL6W/view?usp=sharing)\n",
    "- Vous devez obtenir une version décompresser directement dans votre environement de travail ou dans votre disque local"
   ]
  },
  {
   "cell_type": "markdown",
   "id": "f622d7c5-d832-4d5c-a906-97dccd3fc2ce",
   "metadata": {},
   "source": [
    "##### `Importer les librairies necéssaires pour travailler avec une application de gestion SQL avec python (sqlite3)`"
   ]
  },
  {
   "cell_type": "code",
   "execution_count": 81,
   "id": "4783c747-0d3c-4d81-88ff-b2b60659e085",
   "metadata": {},
   "outputs": [],
   "source": [
    "import sqlite3\n",
    "import pandas as pd"
   ]
  },
  {
   "cell_type": "markdown",
   "id": "8ab74290-3852-4aa0-9b4b-05f623510ed4",
   "metadata": {},
   "source": [
    "**Tâche 1.1:** Initialiser sqlite3 et accéder à la base des données"
   ]
  },
  {
   "cell_type": "code",
   "execution_count": 5,
   "id": "a6c23e49-9a9d-45ad-859a-bdb9f88559f3",
   "metadata": {},
   "outputs": [
    {
     "name": "stdout",
     "output_type": "stream",
     "text": [
      "The sql extension is already loaded. To reload it, use:\n",
      "  %reload_ext sql\n"
     ]
    }
   ],
   "source": [
    "## Vous devez modifier la séquence suivante (Users/DDD/Downloads/basketball.sqlite/basketball.sqlite) \n",
    "# en fonction de la localisation du fichier dans votre ordinateur\n",
    "%load_ext sql\n",
    "%sql sqlite:////Users/DDD/Downloads/basketball.sqlite/basketball.sqlite "
   ]
  },
  {
   "cell_type": "markdown",
   "id": "fb1911d8-bb1c-4d96-afb2-d4c63d7cc6ea",
   "metadata": {},
   "source": [
    "**Tâche 1.2:** Faire votre première réquête dans la base en affichant son contenu\n",
    "- [SQL: exposé de compréhension](https://www.i3s.unice.fr/~edemaria/cours/c4.pdf)\n",
    "- [SQL: bases et fonctions](https://fxjollois.github.io/cours-sql/)\n",
    "- Pour communiquer avec sqlite, chaque cellule de codes de jupyter doit commencer par '%%sql'"
   ]
  },
  {
   "cell_type": "markdown",
   "id": "c6a44194-f57f-40c9-99a0-9a31fb7f976f",
   "metadata": {},
   "source": [
    "##### Utiliser la fonction SELECT  pour avoir accés aux informations et tables de la base"
   ]
  },
  {
   "cell_type": "code",
   "execution_count": 12,
   "id": "ac964fef-81e5-4bf3-8033-b6469481b5c6",
   "metadata": {},
   "outputs": [
    {
     "name": "stdout",
     "output_type": "stream",
     "text": [
      " * sqlite:////Users/DDD/Downloads/basketball.sqlite/basketball.sqlite\n",
      "Done.\n"
     ]
    },
    {
     "data": {
      "text/html": [
       "<table>\n",
       "    <thead>\n",
       "        <tr>\n",
       "            <th>type</th>\n",
       "            <th>name</th>\n",
       "            <th>tbl_name</th>\n",
       "            <th>rootpage</th>\n",
       "            <th>sql</th>\n",
       "        </tr>\n",
       "    </thead>\n",
       "    <tbody>\n",
       "        <tr>\n",
       "            <td>table</td>\n",
       "            <td>Player</td>\n",
       "            <td>Player</td>\n",
       "            <td>2</td>\n",
       "            <td>CREATE TABLE &quot;Player&quot; (<br>&quot;id&quot; TEXT,<br>  &quot;full_name&quot; TEXT,<br>  &quot;first_name&quot; TEXT,<br>  &quot;last_name&quot; TEXT,<br>  &quot;is_active&quot; INTEGER<br>)</td>\n",
       "        </tr>\n",
       "        <tr>\n",
       "            <td>table</td>\n",
       "            <td>Team</td>\n",
       "            <td>Team</td>\n",
       "            <td>4</td>\n",
       "            <td>CREATE TABLE &quot;Team&quot; (<br>&quot;id&quot; TEXT,<br>  &quot;full_name&quot; TEXT,<br>  &quot;abbreviation&quot; TEXT,<br>  &quot;nickname&quot; TEXT,<br>  &quot;city&quot; TEXT,<br>  &quot;state&quot; TEXT,<br>  &quot;year_founded&quot; INTEGER<br>)</td>\n",
       "        </tr>\n",
       "        <tr>\n",
       "            <td>table</td>\n",
       "            <td>Team_Attributes</td>\n",
       "            <td>Team_Attributes</td>\n",
       "            <td>5</td>\n",
       "            <td>CREATE TABLE &quot;Team_Attributes&quot; (<br>&quot;ID&quot; TEXT,<br>  &quot;ABBREVIATION&quot; TEXT,<br>  &quot;NICKNAME&quot; TEXT,<br>  &quot;YEARFOUNDED&quot; TEXT,<br>  &quot;CITY&quot; TEXT,<br>  &quot;ARENA&quot; TEXT,<br>  &quot;ARENACAPACITY&quot; REAL,<br>  &quot;OWNER&quot; TEXT,<br>  &quot;GENERALMANAGER&quot; TEXT,<br>  &quot;HEADCOACH&quot; TEXT,<br>  &quot;DLEAGUEAFFILIATION&quot; TEXT,<br>  &quot;FACEBOOK_WEBSITE_LINK&quot; TEXT,<br>  &quot;INSTAGRAM_WEBSITE_LINK&quot; TEXT,<br>  &quot;TWITTER_WEBSITE_LINK&quot; TEXT<br>)</td>\n",
       "        </tr>\n",
       "        <tr>\n",
       "            <td>table</td>\n",
       "            <td>Team_History</td>\n",
       "            <td>Team_History</td>\n",
       "            <td>6</td>\n",
       "            <td>CREATE TABLE &quot;Team_History&quot; (<br>&quot;ID&quot; TEXT,<br>  &quot;CITY&quot; TEXT,<br>  &quot;NICKNAME&quot; TEXT,<br>  &quot;YEARFOUNDED&quot; TEXT,<br>  &quot;YEARACTIVETILL&quot; TEXT<br>)</td>\n",
       "        </tr>\n",
       "        <tr>\n",
       "            <td>table</td>\n",
       "            <td>Player_Attributes</td>\n",
       "            <td>Player_Attributes</td>\n",
       "            <td>15</td>\n",
       "            <td>CREATE TABLE &quot;Player_Attributes&quot; (<br>&quot;ID&quot; TEXT,<br>  &quot;FIRST_NAME&quot; TEXT,<br>  &quot;LAST_NAME&quot; TEXT,<br>  &quot;DISPLAY_FIRST_LAST&quot; TEXT,<br>  &quot;DISPLAY_LAST_COMMA_FIRST&quot; TEXT,<br>  &quot;DISPLAY_FI_LAST&quot; TEXT,<br>  &quot;PLAYER_SLUG&quot; TEXT,<br>  &quot;BIRTHDATE&quot; TEXT,<br>  &quot;SCHOOL&quot; TEXT,<br>  &quot;COUNTRY&quot; TEXT,<br>  &quot;LAST_AFFILIATION&quot; TEXT,<br>  &quot;HEIGHT&quot; REAL,<br>  &quot;WEIGHT&quot; REAL,<br>  &quot;SEASON_EXP&quot; INTEGER,<br>  &quot;JERSEY&quot; TEXT,<br>  &quot;POSITION&quot; TEXT,<br>  &quot;ROSTERSTATUS&quot; TEXT,<br>  &quot;GAMES_PLAYED_CURRENT_SEASON_FLAG&quot; TEXT,<br>  &quot;TEAM_ID&quot; TEXT,<br>  &quot;TEAM_NAME&quot; TEXT,<br>  &quot;TEAM_ABBREVIATION&quot; TEXT,<br>  &quot;TEAM_CODE&quot; TEXT,<br>  &quot;TEAM_CITY&quot; TEXT,<br>  &quot;PLAYERCODE&quot; TEXT,<br>  &quot;FROM_YEAR&quot; TEXT,<br>  &quot;TO_YEAR&quot; TEXT,<br>  &quot;DLEAGUE_FLAG&quot; TEXT,<br>  &quot;NBA_FLAG&quot; TEXT,<br>  &quot;GAMES_PLAYED_FLAG&quot; TEXT,<br>  &quot;DRAFT_YEAR&quot; TEXT,<br>  &quot;DRAFT_ROUND&quot; TEXT,<br>  &quot;DRAFT_NUMBER&quot; TEXT,<br>  &quot;PTS&quot; REAL,<br>  &quot;AST&quot; REAL,<br>  &quot;REB&quot; REAL,<br>  &quot;ALL_STAR_APPEARANCES&quot; REAL,<br>  &quot;PIE&quot; REAL<br>)</td>\n",
       "        </tr>\n",
       "        <tr>\n",
       "            <td>table</td>\n",
       "            <td>Game_Officials</td>\n",
       "            <td>Game_Officials</td>\n",
       "            <td>8375</td>\n",
       "            <td>CREATE TABLE &quot;Game_Officials&quot; (<br>&quot;OFFICIAL_ID&quot; TEXT,<br>  &quot;FIRST_NAME&quot; TEXT,<br>  &quot;LAST_NAME&quot; TEXT,<br>  &quot;JERSEY_NUM&quot; TEXT,<br>  &quot;GAME_ID&quot; TEXT<br>)</td>\n",
       "        </tr>\n",
       "        <tr>\n",
       "            <td>table</td>\n",
       "            <td>Game_Inactive_Players</td>\n",
       "            <td>Game_Inactive_Players</td>\n",
       "            <td>8997</td>\n",
       "            <td>CREATE TABLE &quot;Game_Inactive_Players&quot; (<br>&quot;PLAYER_ID&quot; TEXT,<br>  &quot;FIRST_NAME&quot; TEXT,<br>  &quot;LAST_NAME&quot; TEXT,<br>  &quot;JERSEY_NUM&quot; TEXT,<br>  &quot;TEAM_ID&quot; TEXT,<br>  &quot;TEAM_CITY&quot; TEXT,<br>  &quot;TEAM_NAME&quot; TEXT,<br>  &quot;TEAM_ABBREVIATION&quot; TEXT,<br>  &quot;GAME_ID&quot; TEXT<br>)</td>\n",
       "        </tr>\n",
       "        <tr>\n",
       "            <td>table</td>\n",
       "            <td>Team_Salary</td>\n",
       "            <td>Team_Salary</td>\n",
       "            <td>13415</td>\n",
       "            <td>CREATE TABLE `Team_Salary` (<br>  `nameTeam` TEXT,<br>  `slugTeam` TEXT,<br>  `urlTeamSalaryHoopsHype` TEXT,<br>  `X2020-21` REAL,<br>  `X2021-22` REAL,<br>  `X2022-23` REAL,<br>  `X2023-24` REAL,<br>  `X2024-25` REAL,<br>  `X2025-26` REAL<br>)</td>\n",
       "        </tr>\n",
       "        <tr>\n",
       "            <td>table</td>\n",
       "            <td>Player_Salary</td>\n",
       "            <td>Player_Salary</td>\n",
       "            <td>23558</td>\n",
       "            <td>CREATE TABLE `Player_Salary` (<br>  `slugSeason` TEXT,<br>  `nameTeam` TEXT,<br>  `namePlayer` TEXT,<br>  `statusPlayer` TEXT,<br>  `isFinalSeason` INTEGER,<br>  `isWaived` INTEGER,<br>  `isOnRoster` INTEGER,<br>  `isNonGuaranteed` INTEGER,<br>  `isTeamOption` INTEGER,<br>  `isPlayerOption` INTEGER,<br>  `typeContractDetail` TEXT,<br>  `value` REAL<br>)</td>\n",
       "        </tr>\n",
       "        <tr>\n",
       "            <td>table</td>\n",
       "            <td>Draft</td>\n",
       "            <td>Draft</td>\n",
       "            <td>23559</td>\n",
       "            <td>CREATE TABLE `Draft` (<br>  `yearDraft` REAL,<br>  `numberPickOverall` REAL,<br>  `numberRound` REAL,<br>  `numberRoundPick` REAL,<br>  `namePlayer` TEXT,<br>  `slugTeam` TEXT,<br>  `nameOrganizationFrom` TEXT,<br>  `typeOrganizationFrom` TEXT,<br>  `idPlayer` REAL,<br>  `idTeam` REAL,<br>  `nameTeam` TEXT,<br>  `cityTeam` TEXT,<br>  `teamName` TEXT,<br>  `PLAYER_PROFILE_FLAG` REAL,<br>  `slugOrganizationTypeFrom` TEXT,<br>  `locationOrganizationFrom` TEXT<br>)</td>\n",
       "        </tr>\n",
       "        <tr>\n",
       "            <td>table</td>\n",
       "            <td>Draft_Combine</td>\n",
       "            <td>Draft_Combine</td>\n",
       "            <td>23562</td>\n",
       "            <td>CREATE TABLE `Draft_Combine` (<br>  `yearCombine` INTEGER,<br>  `idPlayer` REAL,<br>  `nameFirst` TEXT,<br>  `nameLast` TEXT,<br>  `namePlayer` TEXT,<br>  `slugPosition` TEXT,<br>  `heightWOShoesInches` REAL,<br>  `heightWOShoes` TEXT,<br>  `weightLBS` REAL,<br>  `wingspanInches` REAL,<br>  `wingspan` TEXT,<br>  `reachStandingInches` REAL,<br>  `reachStandingO` TEXT,<br>  `verticalLeapStandingInches` REAL,<br>  `verticalLeapMaxInches` REAL,<br>  `timeLaneAgility` REAL,<br>  `timeThreeQuarterCourtSprint` REAL,<br>  `repsBenchPress135` REAL,<br>  `pctBodyFat` REAL,<br>  `heightWShoesInches` REAL,<br>  `heightWShoes` TEXT,<br>  `lengthHandInches` REAL,<br>  `widthHandInches` REAL,<br>  `timeModifiedLaneAgility` REAL,<br>  `setSpot15CornerLeft` TEXT,<br>  `setSpot15BreakLeft` TEXT,<br>  `setSpot15TopKey` TEXT,<br>  `setSpot15BreakRight` TEXT,<br>  `setSpot15CornerRight` TEXT,<br>  `setSpot15CornerLeftCollege` TEXT,<br>  `setSpot15BreakLeftCollege` TEXT,<br>  `setSpot15TopKeyCollege` TEXT,<br>  `setSpot15BreakRightCollege` TEXT,<br>  `setSpot15CornerRightCollege` TEXT,<br>  `setSpot15CornerLeftNBA` TEXT,<br>  `setSpot15BreakLeftNBA` TEXT,<br>  `setSpot15TopKeyNBA` TEXT,<br>  `setSpotBreakRightNBA` TEXT,<br>  `setSpotCornerRightNBA` TEXT,<br>  `setSpot15CornerLeftMade` REAL,<br>  `setSpot15CornerLeftAttempted` REAL,<br>  `setSpot15CornerLeftPct` REAL,<br>  `setSpot15BreakLeftMade` REAL,<br>  `setSpot15BreakLeftAttempted` REAL,<br>  `setSpot15BreakLeftPct` REAL,<br>  `setSpot15TopKeyMade` REAL,<br>  `setSpot15TopKeyAttempted` REAL,<br>  `setSpot15TopKeyPct` REAL,<br>  `setSpot15BreakRightMade` REAL,<br>  `setSpot15BreakRightAttempted` REAL,<br>  `setSpot15BreakRightPct` REAL,<br>  `setSpot15CornerRightMade` REAL,<br>  `setSpot15CornerRightAttempted` REAL,<br>  `setSpot15CornerRightPct` REAL,<br>  `setSpot15CornerLeftCollegeMade` REAL,<br>  `setSpot15CornerLeftCollegeAttempted` REAL,<br>  `setSpot15CornerLeftCollegePct` REAL,<br>  `setSpot15BreakLeftCollegeMade` REAL,<br>  `setSpot15BreakLeftCollegeAttempted` REAL,<br>  `setSpot15BreakLeftCollegePct` REAL,<br>  `setSpot15TopKeyCollegeMade` REAL,<br>  `setSpot15TopKeyCollegeAttempted` REAL,<br>  `setSpot15TopKeyCollegePct` REAL,<br>  `setSpot15BreakRightCollegeMade` REAL,<br>  `setSpot15BreakRightCollegeAttempted` REAL,<br>  `setSpot15BreakRightCollegePct` REAL,<br>  `setSpot15CornerRightCollegeMade` REAL,<br>  `setSpot15CornerRightCollegeAttempted` REAL,<br>  `setSpot15CornerRightCollegePct` REAL,<br>  `setSpot15CornerLeftNBAMade` REAL,<br>  `setSpot15CornerLeftNBAAttempted` REAL,<br>  `setSpot15CornerLeftNBAPct` REAL,<br>  `setSpot15BreakLeftNBAMade` REAL,<br>  `setSpot15BreakLeftNBAAttempted` REAL,<br>  `setSpot15BreakLeftNBAPct` REAL,<br>  `setSpot15TopKeyNBAMade` REAL,<br>  `setSpot15TopKeyNBAAttempted` REAL,<br>  `setSpot15TopKeyNBAPct` REAL,<br>  `setSpotBreakRightNBAMade` REAL,<br>  `setSpotBreakRightNBAAttempted` REAL,<br>  `setSpotBreakRightNBAPct` REAL,<br>  `setSpotCornerRightNBAMade` REAL,<br>  `setSpotCornerRightNBAAttempted` REAL,<br>  `setSpotCornerRightNBAPct` REAL,<br>  `setOffDrib15BreakLeft` TEXT,<br>  `setSpotOffDrib15TopKey` TEXT,<br>  `setOffDrib15BreakRight` TEXT,<br>  `setOnMove15` TEXT,<br>  `setOnMoveCollege` TEXT,<br>  `setOffDrib15BreakLeftMade` REAL,<br>  `setOffDrib15BreakLeftAttempted` REAL,<br>  `setOffDrib15BreakLeftPct` REAL,<br>  `setSpotOffDrib15TopKeyMade` REAL,<br>  `setSpotOffDrib15TopKeyAttempted` REAL,<br>  `setSpotOffDrib15TopKeyPct` REAL,<br>  `setOffDrib15BreakRightMade` REAL,<br>  `setOffDrib15BreakRightAttempted` REAL,<br>  `setOffDrib15BreakRightPct` REAL,<br>  `setOnMove15Made` REAL,<br>  `setOnMove15Attempted` REAL,<br>  `setOnMove15Pct` REAL,<br>  `setOnMoveCollegeMade` REAL,<br>  `setOnMoveCollegeAttempted` REAL,<br>  `setOnMoveCollegePct` REAL,<br>  `setOffDribBreakLeftCollege` TEXT,<br>  `setOffDribTopKeyCollege` TEXT,<br>  `setOffDribBreakRightCollege` TEXT,<br>  `setOffDribBreakLeftCollegeMade` REAL,<br>  `setOffDribBreakLeftCollegeAttempted` REAL,<br>  `setOffDribBreakLeftCollegePct` REAL,<br>  `setOffDribTopKeyCollegeMade` REAL,<br>  `setOffDribTopKeyCollegeAttempted` REAL,<br>  `setOffDribTopKeyCollegePct` REAL,<br>  `setOffDribBreakRightCollegeMade` REAL,<br>  `setOffDribBreakRightCollegeAttempted` REAL,<br>  `setOffDribBreakRightCollegePct` REAL<br>)</td>\n",
       "        </tr>\n",
       "        <tr>\n",
       "            <td>table</td>\n",
       "            <td>Player_Photos</td>\n",
       "            <td>Player_Photos</td>\n",
       "            <td>23565</td>\n",
       "            <td>CREATE TABLE `Player_Photos` (<br>  `isActive` INTEGER,<br>  `isRookie` INTEGER,<br>  `namePlayer` TEXT,<br>  `idPlayer` REAL,<br>  `countSeasons` REAL,<br>  `yearSeasonFirst` REAL,<br>  `yearSeasonLast` REAL,<br>  `idTeam` REAL,<br>  `hasGamesPlayedFlag` INTEGER,<br>  `urlPlayerStats` TEXT,<br>  `urlPlayerThumbnail` TEXT,<br>  `urlPlayerHeadshot` TEXT,<br>  `urlPlayerActionPhoto` TEXT,<br>  `hasHeadShot` INTEGER,<br>  `hasThumbnail` INTEGER,<br>  `hasAction` INTEGER,<br>  `urlPlayerPhoto` TEXT<br>)</td>\n",
       "        </tr>\n",
       "        <tr>\n",
       "            <td>table</td>\n",
       "            <td>Player_Bios</td>\n",
       "            <td>Player_Bios</td>\n",
       "            <td>22541</td>\n",
       "            <td>CREATE TABLE `Player_Bios` (<br>  `namePlayerBREF` TEXT,<br>  `urlPlayerBioBREF` TEXT,<br>  `nameTable` TEXT,<br>  `urlPlayerImageBREF` TEXT,<br>  `slugPlayerBREF` TEXT,<br>  `numberTransactionPlayer` INTEGER,<br>  `dateTransaction` REAL,<br>  `descriptionTransaction` TEXT,<br>  `isGLeagueMovement` INTEGER,<br>  `isDraft` INTEGER,<br>  `isSigned` INTEGER,<br>  `isWaived` INTEGER,<br>  `isTraded` INTEGER,<br>  `slugSeason` TEXT,<br>  `nameTeam` TEXT,<br>  `slugLeague` TEXT,<br>  `amountSalary` REAL,<br>  `detailsContract` TEXT,<br>  `namePronunciation` TEXT,<br>  `namePosition` TEXT,<br>  `heightInches` REAL,<br>  `weightLBS` REAL,<br>  `dateBirth` REAL,<br>  `locationBirthplace` TEXT,<br>  `cityBirthplace` TEXT,<br>  `stateBirthplace` TEXT,<br>  `nameCollege` TEXT,<br>  `nameHighSchool` TEXT,<br>  `dateNBADebut` REAL,<br>  `career length` TEXT,<br>  `yearsExperience` REAL,<br>  `nameTwitter` TEXT,<br>  `yearHighSchool` REAL,<br>  `rankHighSchool` REAL,<br>  `dateDeath` REAL,<br>  `high schools` TEXT,<br>  `descriptionRelatives` TEXT,<br>  `descriptionHOF` TEXT,<br>  `playerNicknames` TEXT,<br>  `colleges` TEXT<br>)</td>\n",
       "        </tr>\n",
       "        <tr>\n",
       "            <td>table</td>\n",
       "            <td>Game</td>\n",
       "            <td>Game</td>\n",
       "            <td>25</td>\n",
       "            <td>CREATE TABLE &quot;Game&quot; (<br>&quot;GAME_ID&quot; TEXT,<br>  &quot;SEASON_ID&quot; TEXT,<br>  &quot;TEAM_ID_HOME&quot; TEXT,<br>  &quot;TEAM_ABBREVIATION_HOME&quot; TEXT,<br>  &quot;TEAM_NAME_HOME&quot; TEXT,<br>  &quot;GAME_DATE&quot; TEXT,<br>  &quot;MATCHUP_HOME&quot; TEXT,<br>  &quot;WL_HOME&quot; TEXT,<br>  &quot;MIN_HOME&quot; INTEGER,<br>  &quot;FGM_HOME&quot; REAL,<br>  &quot;FGA_HOME&quot; TEXT,<br>  &quot;FG_PCT_HOME&quot; REAL,<br>  &quot;FG3M_HOME&quot; TEXT,<br>  &quot;FG3A_HOME&quot; TEXT,<br>  &quot;FG3_PCT_HOME&quot; REAL,<br>  &quot;FTM_HOME&quot; REAL,<br>  &quot;FTA_HOME&quot; REAL,<br>  &quot;FT_PCT_HOME&quot; REAL,<br>  &quot;OREB_HOME&quot; TEXT,<br>  &quot;DREB_HOME&quot; TEXT,<br>  &quot;REB_HOME&quot; TEXT,<br>  &quot;AST_HOME&quot; TEXT,<br>  &quot;STL_HOME&quot; TEXT,<br>  &quot;BLK_HOME&quot; TEXT,<br>  &quot;TOV_HOME&quot; TEXT,<br>  &quot;PF_HOME&quot; REAL,<br>  &quot;PTS_HOME&quot; INTEGER,<br>  &quot;PLUS_MINUS_HOME&quot; INTEGER,<br>  &quot;VIDEO_AVAILABLE_HOME&quot; INTEGER,<br>  &quot;TEAM_ID_AWAY&quot; TEXT,<br>  &quot;TEAM_ABBREVIATION_AWAY&quot; TEXT,<br>  &quot;TEAM_NAME_AWAY&quot; TEXT,<br>  &quot;MATCHUP_AWAY&quot; TEXT,<br>  &quot;WL_AWAY&quot; TEXT,<br>  &quot;MIN_AWAY&quot; INTEGER,<br>  &quot;FGM_AWAY&quot; REAL,<br>  &quot;FGA_AWAY&quot; TEXT,<br>  &quot;FG_PCT_AWAY&quot; REAL,<br>  &quot;FG3M_AWAY&quot; TEXT,<br>  &quot;FG3A_AWAY&quot; TEXT,<br>  &quot;FG3_PCT_AWAY&quot; REAL,<br>  &quot;FTM_AWAY&quot; REAL,<br>  &quot;FTA_AWAY&quot; REAL,<br>  &quot;FT_PCT_AWAY&quot; REAL,<br>  &quot;OREB_AWAY&quot; TEXT,<br>  &quot;DREB_AWAY&quot; TEXT,<br>  &quot;REB_AWAY&quot; TEXT,<br>  &quot;AST_AWAY&quot; TEXT,<br>  &quot;STL_AWAY&quot; TEXT,<br>  &quot;BLK_AWAY&quot; TEXT,<br>  &quot;TOV_AWAY&quot; TEXT,<br>  &quot;PF_AWAY&quot; REAL,<br>  &quot;PTS_AWAY&quot; INTEGER,<br>  &quot;PLUS_MINUS_AWAY&quot; INTEGER,<br>  &quot;VIDEO_AVAILABLE_AWAY&quot; INTEGER,<br>  &quot;GAME_DATE_EST&quot; TEXT,<br>  &quot;GAME_SEQUENCE&quot; TEXT,<br>  &quot;GAME_STATUS_ID&quot; TEXT,<br>  &quot;GAME_STATUS_TEXT&quot; TEXT,<br>  &quot;GAMECODE&quot; TEXT,<br>  &quot;HOME_TEAM_ID&quot; TEXT,<br>  &quot;VISITOR_TEAM_ID&quot; TEXT,<br>  &quot;SEASON&quot; TEXT,<br>  &quot;LIVE_PERIOD&quot; REAL,<br>  &quot;LIVE_PC_TIME&quot; TEXT,<br>  &quot;NATL_TV_BROADCASTER_ABBREVIATION&quot; TEXT,<br>  &quot;LIVE_PERIOD_TIME_BCAST&quot; TEXT,<br>  &quot;WH_STATUS&quot; REAL,<br>  &quot;TEAM_CITY_HOME&quot; TEXT,<br>  &quot;PTS_PAINT_HOME&quot; TEXT,<br>  &quot;PTS_2ND_CHANCE_HOME&quot; TEXT,<br>  &quot;PTS_FB_HOME&quot; TEXT,<br>  &quot;LARGEST_LEAD_HOME&quot; TEXT,<br>  &quot;LEAD_CHANGES_HOME&quot; TEXT,<br>  &quot;TIMES_TIED_HOME&quot; TEXT,<br>  &quot;TEAM_TURNOVERS_HOME&quot; TEXT,<br>  &quot;TOTAL_TURNOVERS_HOME&quot; TEXT,<br>  &quot;TEAM_REBOUNDS_HOME&quot; TEXT,<br>  &quot;PTS_OFF_TO_HOME&quot; TEXT,<br>  &quot;TEAM_CITY_AWAY&quot; TEXT,<br>  &quot;PTS_PAINT_AWAY&quot; TEXT,<br>  &quot;PTS_2ND_CHANCE_AWAY&quot; TEXT,<br>  &quot;PTS_FB_AWAY&quot; TEXT,<br>  &quot;LARGEST_LEAD_AWAY&quot; TEXT,<br>  &quot;LEAD_CHANGES_AWAY&quot; TEXT,<br>  &quot;TIMES_TIED_AWAY&quot; TEXT,<br>  &quot;TEAM_TURNOVERS_AWAY&quot; TEXT,<br>  &quot;TOTAL_TURNOVERS_AWAY&quot; TEXT,<br>  &quot;TEAM_REBOUNDS_AWAY&quot; TEXT,<br>  &quot;PTS_OFF_TO_AWAY&quot; TEXT,<br>  &quot;LEAGUE_ID&quot; TEXT,<br>  &quot;GAME_DATE_DAY&quot; TEXT,<br>  &quot;ATTENDANCE&quot; TEXT,<br>  &quot;GAME_TIME&quot; TEXT,<br>  &quot;TEAM_CITY_NAME_HOME&quot; TEXT,<br>  &quot;TEAM_NICKNAME_HOME&quot; TEXT,<br>  &quot;TEAM_WINS_LOSSES_HOME&quot; TEXT,<br>  &quot;PTS_QTR1_HOME&quot; TEXT,<br>  &quot;PTS_QTR2_HOME&quot; TEXT,<br>  &quot;PTS_QTR3_HOME&quot; TEXT,<br>  &quot;PTS_QTR4_HOME&quot; TEXT,<br>  &quot;PTS_OT1_HOME&quot; TEXT,<br>  &quot;PTS_OT2_HOME&quot; TEXT,<br>  &quot;PTS_OT3_HOME&quot; TEXT,<br>  &quot;PTS_OT4_HOME&quot; TEXT,<br>  &quot;PTS_OT5_HOME&quot; TEXT,<br>  &quot;PTS_OT6_HOME&quot; TEXT,<br>  &quot;PTS_OT7_HOME&quot; TEXT,<br>  &quot;PTS_OT8_HOME&quot; TEXT,<br>  &quot;PTS_OT9_HOME&quot; TEXT,<br>  &quot;PTS_OT10_HOME&quot; TEXT,<br>  &quot;PTS_HOME_y&quot; REAL,<br>  &quot;TEAM_CITY_NAME_AWAY&quot; TEXT,<br>  &quot;TEAM_NICKNAME_AWAY&quot; TEXT,<br>  &quot;TEAM_WINS_LOSSES_AWAY&quot; TEXT,<br>  &quot;PTS_QTR1_AWAY&quot; TEXT,<br>  &quot;PTS_QTR2_AWAY&quot; TEXT,<br>  &quot;PTS_QTR3_AWAY&quot; TEXT,<br>  &quot;PTS_QTR4_AWAY&quot; TEXT,<br>  &quot;PTS_OT1_AWAY&quot; TEXT,<br>  &quot;PTS_OT2_AWAY&quot; TEXT,<br>  &quot;PTS_OT3_AWAY&quot; TEXT,<br>  &quot;PTS_OT4_AWAY&quot; TEXT,<br>  &quot;PTS_OT5_AWAY&quot; TEXT,<br>  &quot;PTS_OT6_AWAY&quot; TEXT,<br>  &quot;PTS_OT7_AWAY&quot; TEXT,<br>  &quot;PTS_OT8_AWAY&quot; TEXT,<br>  &quot;PTS_OT9_AWAY&quot; TEXT,<br>  &quot;PTS_OT10_AWAY&quot; TEXT,<br>  &quot;LAST_GAME_ID&quot; TEXT,<br>  &quot;LAST_GAME_DATE_EST&quot; TEXT,<br>  &quot;LAST_GAME_HOME_TEAM_ID&quot; TEXT,<br>  &quot;LAST_GAME_HOME_TEAM_CITY&quot; TEXT,<br>  &quot;LAST_GAME_HOME_TEAM_NAME&quot; TEXT,<br>  &quot;LAST_GAME_HOME_TEAM_ABBREVIATION&quot; TEXT,<br>  &quot;LAST_GAME_HOME_TEAM_POINTS&quot; TEXT,<br>  &quot;LAST_GAME_VISITOR_TEAM_ID&quot; TEXT,<br>  &quot;LAST_GAME_VISITOR_TEAM_CITY&quot; TEXT,<br>  &quot;LAST_GAME_VISITOR_TEAM_NAME&quot; TEXT,<br>  &quot;LAST_GAME_VISITOR_TEAM_CITY1&quot; TEXT,<br>  &quot;LAST_GAME_VISITOR_TEAM_POINTS&quot; TEXT,<br>  &quot;HOME_TEAM_WINS&quot; REAL,<br>  &quot;HOME_TEAM_LOSSES&quot; REAL,<br>  &quot;SERIES_LEADER&quot; TEXT,<br>  &quot;VIDEO_AVAILABLE_FLAG&quot; REAL,<br>  &quot;PT_AVAILABLE&quot; REAL,<br>  &quot;PT_XYZ_AVAILABLE&quot; REAL,<br>  &quot;HUSTLE_STATUS&quot; REAL,<br>  &quot;HISTORICAL_STATUS&quot; REAL<br>)</td>\n",
       "        </tr>\n",
       "        <tr>\n",
       "            <td>table</td>\n",
       "            <td>News</td>\n",
       "            <td>News</td>\n",
       "            <td>13142</td>\n",
       "            <td>CREATE TABLE &quot;News&quot; (<br>&quot;title&quot; TEXT,<br>  &quot;author&quot; TEXT,<br>  &quot;published_date&quot; TEXT,<br>  &quot;published_date_precision&quot; TEXT,<br>  &quot;link&quot; TEXT,<br>  &quot;clean_url&quot; TEXT,<br>  &quot;summary&quot; TEXT,<br>  &quot;rights&quot; TEXT,<br>  &quot;rank&quot; INTEGER,<br>  &quot;topic&quot; TEXT,<br>  &quot;country&quot; TEXT,<br>  &quot;language&quot; TEXT,<br>  &quot;authors&quot; TEXT,<br>  &quot;media&quot; TEXT,<br>  &quot;is_opinion&quot; INTEGER,<br>  &quot;twitter_account&quot; TEXT,<br>  &quot;_score&quot; REAL,<br>  &quot;_id&quot; TEXT,<br>  &quot;page_number&quot; INTEGER,<br>  &quot;query&quot; TEXT,<br>  &quot;text&quot; TEXT,<br>  &quot;top_image&quot; TEXT,<br>  &quot;images&quot; TEXT,<br>  &quot;movies&quot; TEXT,<br>  &quot;html&quot; TEXT,<br>  &quot;article_html&quot; TEXT,<br>  &quot;querystring_q&quot; TEXT,<br>  &quot;querystring_lang&quot; TEXT,<br>  &quot;querystring_page_size&quot; REAL,<br>  &quot;querystring_from&quot; TEXT,<br>  &quot;querystring_to&quot; TEXT,<br>  &quot;querystring_page&quot; REAL,<br>  &quot;scrape_date&quot; TEXT<br>)</td>\n",
       "        </tr>\n",
       "        <tr>\n",
       "            <td>table</td>\n",
       "            <td>News_Missing</td>\n",
       "            <td>News_Missing</td>\n",
       "            <td>198017</td>\n",
       "            <td>CREATE TABLE &quot;News_Missing&quot; (<br>&quot;link&quot; TEXT,<br>  &quot;exception&quot; TEXT,<br>  &quot;extraction_date&quot; DATE<br>)</td>\n",
       "        </tr>\n",
       "    </tbody>\n",
       "</table>"
      ],
      "text/plain": [
       "[('table', 'Player', 'Player', 2, 'CREATE TABLE \"Player\" (\\n\"id\" TEXT,\\n  \"full_name\" TEXT,\\n  \"first_name\" TEXT,\\n  \"last_name\" TEXT,\\n  \"is_active\" INTEGER\\n)'),\n",
       " ('table', 'Team', 'Team', 4, 'CREATE TABLE \"Team\" (\\n\"id\" TEXT,\\n  \"full_name\" TEXT,\\n  \"abbreviation\" TEXT,\\n  \"nickname\" TEXT,\\n  \"city\" TEXT,\\n  \"state\" TEXT,\\n  \"year_founded\" INTEGER\\n)'),\n",
       " ('table', 'Team_Attributes', 'Team_Attributes', 5, 'CREATE TABLE \"Team_Attributes\" (\\n\"ID\" TEXT,\\n  \"ABBREVIATION\" TEXT,\\n  \"NICKNAME\" TEXT,\\n  \"YEARFOUNDED\" TEXT,\\n  \"CITY\" TEXT,\\n  \"ARENA\" TEXT,\\n  \" ... (66 characters truncated) ...  \"HEADCOACH\" TEXT,\\n  \"DLEAGUEAFFILIATION\" TEXT,\\n  \"FACEBOOK_WEBSITE_LINK\" TEXT,\\n  \"INSTAGRAM_WEBSITE_LINK\" TEXT,\\n  \"TWITTER_WEBSITE_LINK\" TEXT\\n)'),\n",
       " ('table', 'Team_History', 'Team_History', 6, 'CREATE TABLE \"Team_History\" (\\n\"ID\" TEXT,\\n  \"CITY\" TEXT,\\n  \"NICKNAME\" TEXT,\\n  \"YEARFOUNDED\" TEXT,\\n  \"YEARACTIVETILL\" TEXT\\n)'),\n",
       " ('table', 'Player_Attributes', 'Player_Attributes', 15, 'CREATE TABLE \"Player_Attributes\" (\\n\"ID\" TEXT,\\n  \"FIRST_NAME\" TEXT,\\n  \"LAST_NAME\" TEXT,\\n  \"DISPLAY_FIRST_LAST\" TEXT,\\n  \"DISPLAY_LAST_COMMA_FIRST\" ... (569 characters truncated) ... R\" TEXT,\\n  \"DRAFT_ROUND\" TEXT,\\n  \"DRAFT_NUMBER\" TEXT,\\n  \"PTS\" REAL,\\n  \"AST\" REAL,\\n  \"REB\" REAL,\\n  \"ALL_STAR_APPEARANCES\" REAL,\\n  \"PIE\" REAL\\n)'),\n",
       " ('table', 'Game_Officials', 'Game_Officials', 8375, 'CREATE TABLE \"Game_Officials\" (\\n\"OFFICIAL_ID\" TEXT,\\n  \"FIRST_NAME\" TEXT,\\n  \"LAST_NAME\" TEXT,\\n  \"JERSEY_NUM\" TEXT,\\n  \"GAME_ID\" TEXT\\n)'),\n",
       " ('table', 'Game_Inactive_Players', 'Game_Inactive_Players', 8997, 'CREATE TABLE \"Game_Inactive_Players\" (\\n\"PLAYER_ID\" TEXT,\\n  \"FIRST_NAME\" TEXT,\\n  \"LAST_NAME\" TEXT,\\n  \"JERSEY_NUM\" TEXT,\\n  \"TEAM_ID\" TEXT,\\n  \"TEAM_CITY\" TEXT,\\n  \"TEAM_NAME\" TEXT,\\n  \"TEAM_ABBREVIATION\" TEXT,\\n  \"GAME_ID\" TEXT\\n)'),\n",
       " ('table', 'Team_Salary', 'Team_Salary', 13415, 'CREATE TABLE `Team_Salary` (\\n  `nameTeam` TEXT,\\n  `slugTeam` TEXT,\\n  `urlTeamSalaryHoopsHype` TEXT,\\n  `X2020-21` REAL,\\n  `X2021-22` REAL,\\n  `X2022-23` REAL,\\n  `X2023-24` REAL,\\n  `X2024-25` REAL,\\n  `X2025-26` REAL\\n)'),\n",
       " ('table', 'Player_Salary', 'Player_Salary', 23558, 'CREATE TABLE `Player_Salary` (\\n  `slugSeason` TEXT,\\n  `nameTeam` TEXT,\\n  `namePlayer` TEXT,\\n  `statusPlayer` TEXT,\\n  `isFinalSeason` INTEGER,\\n  ... (31 characters truncated) ... ster` INTEGER,\\n  `isNonGuaranteed` INTEGER,\\n  `isTeamOption` INTEGER,\\n  `isPlayerOption` INTEGER,\\n  `typeContractDetail` TEXT,\\n  `value` REAL\\n)'),\n",
       " ('table', 'Draft', 'Draft', 23559, 'CREATE TABLE `Draft` (\\n  `yearDraft` REAL,\\n  `numberPickOverall` REAL,\\n  `numberRound` REAL,\\n  `numberRoundPick` REAL,\\n  `namePlayer` TEXT,\\n  ` ... (133 characters truncated) ... EXT,\\n  `cityTeam` TEXT,\\n  `teamName` TEXT,\\n  `PLAYER_PROFILE_FLAG` REAL,\\n  `slugOrganizationTypeFrom` TEXT,\\n  `locationOrganizationFrom` TEXT\\n)'),\n",
       " ('table', 'Draft_Combine', 'Draft_Combine', 23562, 'CREATE TABLE `Draft_Combine` (\\n  `yearCombine` INTEGER,\\n  `idPlayer` REAL,\\n  `nameFirst` TEXT,\\n  `nameLast` TEXT,\\n  `namePlayer` TEXT,\\n  `slugP ... (3799 characters truncated) ... legePct` REAL,\\n  `setOffDribBreakRightCollegeMade` REAL,\\n  `setOffDribBreakRightCollegeAttempted` REAL,\\n  `setOffDribBreakRightCollegePct` REAL\\n)'),\n",
       " ('table', 'Player_Photos', 'Player_Photos', 23565, 'CREATE TABLE `Player_Photos` (\\n  `isActive` INTEGER,\\n  `isRookie` INTEGER,\\n  `namePlayer` TEXT,\\n  `idPlayer` REAL,\\n  `countSeasons` REAL,\\n  `ye ... (170 characters truncated) ... dshot` TEXT,\\n  `urlPlayerActionPhoto` TEXT,\\n  `hasHeadShot` INTEGER,\\n  `hasThumbnail` INTEGER,\\n  `hasAction` INTEGER,\\n  `urlPlayerPhoto` TEXT\\n)'),\n",
       " ('table', 'Player_Bios', 'Player_Bios', 22541, 'CREATE TABLE `Player_Bios` (\\n  `namePlayerBREF` TEXT,\\n  `urlPlayerBioBREF` TEXT,\\n  `nameTable` TEXT,\\n  `urlPlayerImageBREF` TEXT,\\n  `slugPlayerB ... (752 characters truncated) ...  `dateDeath` REAL,\\n  `high schools` TEXT,\\n  `descriptionRelatives` TEXT,\\n  `descriptionHOF` TEXT,\\n  `playerNicknames` TEXT,\\n  `colleges` TEXT\\n)'),\n",
       " ('table', 'Game', 'Game', 25, 'CREATE TABLE \"Game\" (\\n\"GAME_ID\" TEXT,\\n  \"SEASON_ID\" TEXT,\\n  \"TEAM_ID_HOME\" TEXT,\\n  \"TEAM_ABBREVIATION_HOME\" TEXT,\\n  \"TEAM_NAME_HOME\" TEXT,\\n  \"G ... (3563 characters truncated) ... ER\" TEXT,\\n  \"VIDEO_AVAILABLE_FLAG\" REAL,\\n  \"PT_AVAILABLE\" REAL,\\n  \"PT_XYZ_AVAILABLE\" REAL,\\n  \"HUSTLE_STATUS\" REAL,\\n  \"HISTORICAL_STATUS\" REAL\\n)'),\n",
       " ('table', 'News', 'News', 13142, 'CREATE TABLE \"News\" (\\n\"title\" TEXT,\\n  \"author\" TEXT,\\n  \"published_date\" TEXT,\\n  \"published_date_precision\" TEXT,\\n  \"link\" TEXT,\\n  \"clean_url\" T ... (437 characters truncated) ... ng\" TEXT,\\n  \"querystring_page_size\" REAL,\\n  \"querystring_from\" TEXT,\\n  \"querystring_to\" TEXT,\\n  \"querystring_page\" REAL,\\n  \"scrape_date\" TEXT\\n)'),\n",
       " ('table', 'News_Missing', 'News_Missing', 198017, 'CREATE TABLE \"News_Missing\" (\\n\"link\" TEXT,\\n  \"exception\" TEXT,\\n  \"extraction_date\" DATE\\n)')]"
      ]
     },
     "execution_count": 12,
     "metadata": {},
     "output_type": "execute_result"
    }
   ],
   "source": [
    "%%sql\n",
    "\n",
    "SELECT *\n",
    "FROM sqlite_schema"
   ]
  },
  {
   "cell_type": "markdown",
   "id": "a1dce91f-8ae0-469c-9c93-ff55064d316b",
   "metadata": {},
   "source": [
    "##### Cette table contient l'arborescence des tables et des informations contenues dans ces tables relationnelles"
   ]
  },
  {
   "cell_type": "markdown",
   "id": "63e60816-d86b-41ee-9aa6-9f52be7b244e",
   "metadata": {},
   "source": [
    "**Task 1.3:** Selectionner toutes les tables de la base\n",
    "- Compléter le code ci-dessous en utilisant la fonction 'WHERE'\n",
    "- [SQLite tutorial](https://www.sqlitetutorial.net/sqlite-select/)"
   ]
  },
  {
   "cell_type": "code",
   "execution_count": null,
   "id": "fc6a1f92-265d-4d6e-8aa4-933fdfa7aead",
   "metadata": {},
   "outputs": [],
   "source": [
    "%%sql\n",
    "SELECT  name \n",
    "FROM sqlite_schema\n",
    "WHERE ..."
   ]
  },
  {
   "cell_type": "markdown",
   "id": "bdfa68ac-8609-480b-99ae-d3ba422440e6",
   "metadata": {},
   "source": [
    "**Task 1.4:** Select all columns from the `Player` table and from `Player_salary`, limiting your results to the first five rows. Use two separate cells to execute your code\n",
    "- [SQL: bases et fonctions](https://fxjollois.github.io/cours-sql/)"
   ]
  },
  {
   "cell_type": "code",
   "execution_count": null,
   "id": "4d52a0a7-0bb2-4b7c-9fd4-13adce98e524",
   "metadata": {},
   "outputs": [],
   "source": [
    "%%sql\n",
    "SELECT *\n",
    "FROM ...\n",
    "lIMIT ..."
   ]
  },
  {
   "cell_type": "code",
   "execution_count": null,
   "id": "634165c9-3c60-4e72-8d30-4c1324eaa62b",
   "metadata": {},
   "outputs": [],
   "source": [
    "%%sql\n",
    "...\n",
    "FROM Player_salary\n",
    "lIMIT ..."
   ]
  },
  {
   "cell_type": "markdown",
   "id": "17e40e72-8156-44aa-a16b-cc6c60a545bf",
   "metadata": {},
   "source": [
    "**Task 1.5:** How many observations are in the `Player` table? Use the `count` command to find out. You should find no more than 4501 observations\n",
    "- [SQL count](https://www.sqlitetutorial.net/sqlite-count-function/)\n"
   ]
  },
  {
   "cell_type": "code",
   "execution_count": null,
   "id": "ed9a2f8f-81c7-4595-a169-fab025ecb562",
   "metadata": {},
   "outputs": [],
   "source": [
    "%%sql\n",
    "SELECT ...\n",
    "FROM Player"
   ]
  },
  {
   "cell_type": "markdown",
   "id": "f3dde076-5944-4b74-9e76-f3c50a2eb363",
   "metadata": {},
   "source": [
    "**Task 1.6:** Select all columns from the `Team` table, limiting your results to the first five rows. Use `SELECT` and `LIMIT` functions\n",
    "- [SQL: bases et fonctions](https://fxjollois.github.io/cours-sql/)"
   ]
  },
  {
   "cell_type": "code",
   "execution_count": 22,
   "id": "87e1dcb6-28fc-4aca-805f-23f8c3076da6",
   "metadata": {},
   "outputs": [
    {
     "name": "stdout",
     "output_type": "stream",
     "text": [
      " * sqlite:////Users/DDD/Downloads/basketball.sqlite/basketball.sqlite\n",
      "Done.\n"
     ]
    },
    {
     "data": {
      "text/html": [
       "<table>\n",
       "    <thead>\n",
       "        <tr>\n",
       "            <th>id</th>\n",
       "            <th>full_name</th>\n",
       "            <th>abbreviation</th>\n",
       "            <th>nickname</th>\n",
       "            <th>city</th>\n",
       "            <th>state</th>\n",
       "            <th>year_founded</th>\n",
       "        </tr>\n",
       "    </thead>\n",
       "    <tbody>\n",
       "        <tr>\n",
       "            <td>1610612737</td>\n",
       "            <td>Atlanta Hawks</td>\n",
       "            <td>ATL</td>\n",
       "            <td>Hawks</td>\n",
       "            <td>Atlanta</td>\n",
       "            <td>Atlanta</td>\n",
       "            <td>1949</td>\n",
       "        </tr>\n",
       "        <tr>\n",
       "            <td>1610612738</td>\n",
       "            <td>Boston Celtics</td>\n",
       "            <td>BOS</td>\n",
       "            <td>Celtics</td>\n",
       "            <td>Boston</td>\n",
       "            <td>Massachusetts</td>\n",
       "            <td>1946</td>\n",
       "        </tr>\n",
       "        <tr>\n",
       "            <td>1610612739</td>\n",
       "            <td>Cleveland Cavaliers</td>\n",
       "            <td>CLE</td>\n",
       "            <td>Cavaliers</td>\n",
       "            <td>Cleveland</td>\n",
       "            <td>Ohio</td>\n",
       "            <td>1970</td>\n",
       "        </tr>\n",
       "        <tr>\n",
       "            <td>1610612740</td>\n",
       "            <td>New Orleans Pelicans</td>\n",
       "            <td>NOP</td>\n",
       "            <td>Pelicans</td>\n",
       "            <td>New Orleans</td>\n",
       "            <td>Louisiana</td>\n",
       "            <td>2002</td>\n",
       "        </tr>\n",
       "        <tr>\n",
       "            <td>1610612741</td>\n",
       "            <td>Chicago Bulls</td>\n",
       "            <td>CHI</td>\n",
       "            <td>Bulls</td>\n",
       "            <td>Chicago</td>\n",
       "            <td>Illinois</td>\n",
       "            <td>1966</td>\n",
       "        </tr>\n",
       "    </tbody>\n",
       "</table>"
      ],
      "text/plain": [
       "[('1610612737', 'Atlanta Hawks', 'ATL', 'Hawks', 'Atlanta', 'Atlanta', 1949),\n",
       " ('1610612738', 'Boston Celtics', 'BOS', 'Celtics', 'Boston', 'Massachusetts', 1946),\n",
       " ('1610612739', 'Cleveland Cavaliers', 'CLE', 'Cavaliers', 'Cleveland', 'Ohio', 1970),\n",
       " ('1610612740', 'New Orleans Pelicans', 'NOP', 'Pelicans', 'New Orleans', 'Louisiana', 2002),\n",
       " ('1610612741', 'Chicago Bulls', 'CHI', 'Bulls', 'Chicago', 'Illinois', 1966)]"
      ]
     },
     "execution_count": 22,
     "metadata": {},
     "output_type": "execute_result"
    }
   ],
   "source": [
    "%%sql\n",
    "..."
   ]
  },
  {
   "cell_type": "markdown",
   "id": "a23ef968-7ebc-41ef-a353-e581d88c451c",
   "metadata": {},
   "source": [
    "**Task 1.7:** What cities are represented in the `Team` table? Use the `distinct` command to determine the unique values in the **`city** column.\n",
    "- [SQL: bases et fonctions](https://fxjollois.github.io/cours-sql/)"
   ]
  },
  {
   "cell_type": "code",
   "execution_count": null,
   "id": "a7ac58eb-b7d6-4db3-b238-d66f64597bd3",
   "metadata": {},
   "outputs": [],
   "source": [
    "%%sql\n",
    "SELECT...\n",
    "..."
   ]
  },
  {
   "cell_type": "markdown",
   "id": "616e395f-6774-47cc-91a3-72edd8828f2d",
   "metadata": {},
   "source": [
    "**Task 1.8:** How many cities are there in `Team` table? Combine the `count` and `distinct` commands to calculate the number of unique values in **`Team`**."
   ]
  },
  {
   "cell_type": "code",
   "execution_count": 26,
   "id": "635586fa-7a1a-4caf-98fb-22d045bf1e7a",
   "metadata": {},
   "outputs": [
    {
     "name": "stdout",
     "output_type": "stream",
     "text": [
      " * sqlite:////Users/DDD/Downloads/basketball.sqlite/basketball.sqlite\n",
      "Done.\n"
     ]
    },
    {
     "data": {
      "text/html": [
       "<table>\n",
       "    <thead>\n",
       "        <tr>\n",
       "            <th>count(distinct(city))</th>\n",
       "        </tr>\n",
       "    </thead>\n",
       "    <tbody>\n",
       "        <tr>\n",
       "            <td>29</td>\n",
       "        </tr>\n",
       "    </tbody>\n",
       "</table>"
      ],
      "text/plain": [
       "[(29,)]"
      ]
     },
     "execution_count": 26,
     "metadata": {},
     "output_type": "execute_result"
    }
   ],
   "source": [
    "%%sql\n",
    "...count(distinct(city))\n",
    "FROM team\n"
   ]
  },
  {
   "cell_type": "markdown",
   "id": "9eab607d-60d2-40e1-87c6-d2b88b4cff92",
   "metadata": {},
   "source": [
    "**Task 1.9:** For our model, we'll focus on slugSeason `2020-21`. Select all columns that from `Player_Salary`, showing only rows where the **`slugSeason`** is `2020-21` and limiting your results to the first thre rows."
   ]
  },
  {
   "cell_type": "code",
   "execution_count": 99,
   "id": "0b413f88-17ce-41eb-92dd-35ec99c1d5ac",
   "metadata": {},
   "outputs": [
    {
     "name": "stdout",
     "output_type": "stream",
     "text": [
      " * sqlite:////Users/DDD/Downloads/basketball.sqlite/basketball.sqlite\n"
     ]
    }
   ],
   "source": [
    "%%sql\n",
    "..."
   ]
  },
  {
   "cell_type": "markdown",
   "id": "29a3caf0-df73-452b-ba20-c7e4b80fb5c2",
   "metadata": {},
   "source": [
    "**Task 1.10:** How many unique salary values do you have in the table create above? \n",
    "Remember that this table concerns only season 2020-21. Yous should have no more than 523 individuals salary."
   ]
  },
  {
   "cell_type": "code",
   "execution_count": null,
   "id": "64f0e7cc-ffcf-44b4-b92f-c683e8df87fd",
   "metadata": {},
   "outputs": [],
   "source": [
    "%%sql\n",
    "..."
   ]
  },
  {
   "cell_type": "markdown",
   "id": "48cd1752-f4ed-486b-968a-e18045e943de",
   "metadata": {},
   "source": [
    "**Task 1.11:** Copy and rename table and column in tha table. Use `ALTER` and `RENAME` functions.\n",
    "You should first alter the name of the table as `salary_full_name` then rename `namePlayer` column as `full_name`.\n",
    "`full_name` is the name of players in table `Player`.\n",
    "- [RENAME FUNCTION](https://www.sqlitetutorial.net/sqlite-rename-column/)"
   ]
  },
  {
   "cell_type": "code",
   "execution_count": null,
   "id": "77175d02-c99d-4cea-b0a7-a903619ed6d9",
   "metadata": {},
   "outputs": [],
   "source": [
    "%%sql\n",
    "ALTER TABLE ...\n",
    "RENAME TO ..."
   ]
  },
  {
   "cell_type": "code",
   "execution_count": null,
   "id": "f7f676c0-7aab-4c51-8a9e-27f6011d00b2",
   "metadata": {},
   "outputs": [],
   "source": [
    "%%sql\n",
    "...\n",
    "RENAME COLUMN ..."
   ]
  },
  {
   "cell_type": "markdown",
   "id": "2a96735d-eff9-4af5-85bb-2af8bf24e774",
   "metadata": {},
   "source": [
    "##### Show here 5 rows of new table"
   ]
  },
  {
   "cell_type": "code",
   "execution_count": null,
   "id": "96f3701e-fd9c-47c8-92e3-a144da424a4f",
   "metadata": {},
   "outputs": [],
   "source": [
    "%%sql\n",
    "..."
   ]
  },
  {
   "cell_type": "markdown",
   "id": "556c8d6f-4624-4861-be5d-ce34812bcc41",
   "metadata": {},
   "source": [
    "**Task .1.12:** Use the `distinct` command to create a column with all unique full_name in the `salary_full_name` table (the one you just created). `JOIN` this column with all the columns from the `Player` table, showing only Season where slugSeason is **2020-21**  and limiting your results to the first five rows of the new table\n",
    "- [JOIN in SQLite](https://www.sqlitetutorial.net/sqlite-join/)"
   ]
  },
  {
   "cell_type": "code",
   "execution_count": null,
   "id": "98ddc350-c66d-4404-8bf2-9505be488b4c",
   "metadata": {},
   "outputs": [],
   "source": [
    "%%sql\n",
    "SELECT *\n",
    "FROM salary_full_name AS s\n",
    "JOIN Player ...\n",
    "WHERE slugSeason= ...\n",
    "LIMIT 5"
   ]
  },
  {
   "cell_type": "markdown",
   "id": "8acf8ff3-eb17-4db8-92f6-aac1f2269ad7",
   "metadata": {},
   "source": [
    "##### Now you have 2 columns with full_name: full_name and full_name_1. We should rename full_name_1 as name"
   ]
  },
  {
   "cell_type": "code",
   "execution_count": null,
   "id": "004a1033-40c6-4570-a3df-ecbd1622eaf1",
   "metadata": {},
   "outputs": [],
   "source": [
    "%%sql\n",
    "..."
   ]
  },
  {
   "cell_type": "markdown",
   "id": "4b2433b4-0c9e-46a8-9436-4ce5e12b25e7",
   "metadata": {},
   "source": [
    "**Task 1.13:** Put your the SQL query you have used to combine tables into a string and assign it to the variable `query`."
   ]
  },
  {
   "cell_type": "code",
   "execution_count": null,
   "id": "87e802c0-8745-4666-8e01-217dbabd83b3",
   "metadata": {},
   "outputs": [],
   "source": [
    "query = \"\"\" ...\n",
    "\n",
    "\"\"\"\n",
    "print(query)"
   ]
  },
  {
   "cell_type": "markdown",
   "id": "8c2d5cf4-22b0-46a7-a3c7-544a92c93920",
   "metadata": {},
   "source": [
    "**Task 1.14:** Use the [`connect`](https://docs.python.org/3/library/sqlite3.html#sqlite3.connect) method from the sqlite3 library to connect to the database. Remember that you should specify the url of your database.\n",
    "- [Connection to a SQL database using sqlite3</span></span>.](../%40textbook/10-databases-sql.ipynb#Using-pandas-with-SQL-Databases)"
   ]
  },
  {
   "cell_type": "code",
   "execution_count": null,
   "id": "bc7550ce-a23c-471c-8656-dd56f81b7867",
   "metadata": {},
   "outputs": [],
   "source": [
    "conn = sqlite3.connect(\"THE PATH TO YOUR sqlite BASKETBALL DATABASE\")"
   ]
  },
  {
   "cell_type": "markdown",
   "id": "a8e961b5-0a25-4e5f-808f-c8a1fb427062",
   "metadata": {},
   "source": [
    "**Task 1.15:** Use the [`read_sql`](https://pandas.pydata.org/docs/reference/api/pandas.read_sql.html#pandas-read-sql) from the pandas library to create a DataFrame from your `query`. Be sure that the **`full_name`** is set as your index column. You should not limit your query. "
   ]
  },
  {
   "cell_type": "code",
   "execution_count": 95,
   "id": "42e73e4c-b49f-4f78-aa2b-80f64e2565d0",
   "metadata": {},
   "outputs": [
    {
     "data": {
      "text/html": [
       "<div>\n",
       "<style scoped>\n",
       "    .dataframe tbody tr th:only-of-type {\n",
       "        vertical-align: middle;\n",
       "    }\n",
       "\n",
       "    .dataframe tbody tr th {\n",
       "        vertical-align: top;\n",
       "    }\n",
       "\n",
       "    .dataframe thead th {\n",
       "        text-align: right;\n",
       "    }\n",
       "</style>\n",
       "<table border=\"1\" class=\"dataframe\">\n",
       "  <thead>\n",
       "    <tr style=\"text-align: right;\">\n",
       "      <th></th>\n",
       "      <th>name</th>\n",
       "      <th>slugSeason</th>\n",
       "      <th>nameTeam</th>\n",
       "      <th>statusPlayer</th>\n",
       "      <th>isFinalSeason</th>\n",
       "      <th>isWaived</th>\n",
       "      <th>isOnRoster</th>\n",
       "      <th>isNonGuaranteed</th>\n",
       "      <th>isTeamOption</th>\n",
       "      <th>isPlayerOption</th>\n",
       "      <th>typeContractDetail</th>\n",
       "      <th>value</th>\n",
       "    </tr>\n",
       "    <tr>\n",
       "      <th>full_name</th>\n",
       "      <th></th>\n",
       "      <th></th>\n",
       "      <th></th>\n",
       "      <th></th>\n",
       "      <th></th>\n",
       "      <th></th>\n",
       "      <th></th>\n",
       "      <th></th>\n",
       "      <th></th>\n",
       "      <th></th>\n",
       "      <th></th>\n",
       "      <th></th>\n",
       "    </tr>\n",
       "  </thead>\n",
       "  <tbody>\n",
       "    <tr>\n",
       "      <th>Bogdan Bogdanovic</th>\n",
       "      <td>Bogdan Bogdanovic</td>\n",
       "      <td>2020-21</td>\n",
       "      <td>Atlanta Hawks</td>\n",
       "      <td>current roster</td>\n",
       "      <td>0</td>\n",
       "      <td>0</td>\n",
       "      <td>1</td>\n",
       "      <td>0</td>\n",
       "      <td>0</td>\n",
       "      <td>0</td>\n",
       "      <td>Guaranteed</td>\n",
       "      <td>18000000.0</td>\n",
       "    </tr>\n",
       "    <tr>\n",
       "      <th>Brandon Goodwin</th>\n",
       "      <td>Brandon Goodwin</td>\n",
       "      <td>2020-21</td>\n",
       "      <td>Atlanta Hawks</td>\n",
       "      <td>current roster</td>\n",
       "      <td>0</td>\n",
       "      <td>0</td>\n",
       "      <td>1</td>\n",
       "      <td>0</td>\n",
       "      <td>0</td>\n",
       "      <td>0</td>\n",
       "      <td>Guaranteed</td>\n",
       "      <td>1701593.0</td>\n",
       "    </tr>\n",
       "    <tr>\n",
       "      <th>Bruno Fernando</th>\n",
       "      <td>Bruno Fernando</td>\n",
       "      <td>2020-21</td>\n",
       "      <td>Atlanta Hawks</td>\n",
       "      <td>current roster</td>\n",
       "      <td>0</td>\n",
       "      <td>0</td>\n",
       "      <td>1</td>\n",
       "      <td>0</td>\n",
       "      <td>0</td>\n",
       "      <td>0</td>\n",
       "      <td>Guaranteed</td>\n",
       "      <td>1517981.0</td>\n",
       "    </tr>\n",
       "    <tr>\n",
       "      <th>Cam Reddish</th>\n",
       "      <td>Cam Reddish</td>\n",
       "      <td>2020-21</td>\n",
       "      <td>Atlanta Hawks</td>\n",
       "      <td>current roster</td>\n",
       "      <td>0</td>\n",
       "      <td>0</td>\n",
       "      <td>1</td>\n",
       "      <td>0</td>\n",
       "      <td>0</td>\n",
       "      <td>0</td>\n",
       "      <td>Guaranteed</td>\n",
       "      <td>4458000.0</td>\n",
       "    </tr>\n",
       "    <tr>\n",
       "      <th>Clint Capela</th>\n",
       "      <td>Clint Capela</td>\n",
       "      <td>2020-21</td>\n",
       "      <td>Atlanta Hawks</td>\n",
       "      <td>current roster</td>\n",
       "      <td>0</td>\n",
       "      <td>0</td>\n",
       "      <td>1</td>\n",
       "      <td>0</td>\n",
       "      <td>0</td>\n",
       "      <td>0</td>\n",
       "      <td>Guaranteed</td>\n",
       "      <td>16000000.0</td>\n",
       "    </tr>\n",
       "  </tbody>\n",
       "</table>\n",
       "</div>"
      ],
      "text/plain": [
       "                                name slugSeason       nameTeam  \\\n",
       "full_name                                                        \n",
       "Bogdan Bogdanovic  Bogdan Bogdanovic    2020-21  Atlanta Hawks   \n",
       "Brandon Goodwin      Brandon Goodwin    2020-21  Atlanta Hawks   \n",
       "Bruno Fernando        Bruno Fernando    2020-21  Atlanta Hawks   \n",
       "Cam Reddish              Cam Reddish    2020-21  Atlanta Hawks   \n",
       "Clint Capela            Clint Capela    2020-21  Atlanta Hawks   \n",
       "\n",
       "                     statusPlayer  isFinalSeason  isWaived  isOnRoster  \\\n",
       "full_name                                                                \n",
       "Bogdan Bogdanovic  current roster              0         0           1   \n",
       "Brandon Goodwin    current roster              0         0           1   \n",
       "Bruno Fernando     current roster              0         0           1   \n",
       "Cam Reddish        current roster              0         0           1   \n",
       "Clint Capela       current roster              0         0           1   \n",
       "\n",
       "                   isNonGuaranteed  isTeamOption  isPlayerOption  \\\n",
       "full_name                                                          \n",
       "Bogdan Bogdanovic                0             0               0   \n",
       "Brandon Goodwin                  0             0               0   \n",
       "Bruno Fernando                   0             0               0   \n",
       "Cam Reddish                      0             0               0   \n",
       "Clint Capela                     0             0               0   \n",
       "\n",
       "                  typeContractDetail       value  \n",
       "full_name                                         \n",
       "Bogdan Bogdanovic         Guaranteed  18000000.0  \n",
       "Brandon Goodwin           Guaranteed   1701593.0  \n",
       "Bruno Fernando            Guaranteed   1517981.0  \n",
       "Cam Reddish               Guaranteed   4458000.0  \n",
       "Clint Capela              Guaranteed  16000000.0  "
      ]
     },
     "execution_count": 95,
     "metadata": {},
     "output_type": "execute_result"
    }
   ],
   "source": [
    "import pandas as pd\n",
    "\n",
    "df = pd.read_sql(query, conn, index_col= ...)\n",
    "\n",
    "df.head()"
   ]
  },
  {
   "cell_type": "code",
   "execution_count": 96,
   "id": "26eeb428-5c50-424c-a161-51051afd26f7",
   "metadata": {},
   "outputs": [
    {
     "data": {
      "text/plain": [
       "(419, 12)"
      ]
     },
     "execution_count": 96,
     "metadata": {},
     "output_type": "execute_result"
    }
   ],
   "source": [
    "df.shape"
   ]
  },
  {
   "cell_type": "code",
   "execution_count": 97,
   "id": "135c39c1-8e8e-47ee-ad33-159eb8d43ba0",
   "metadata": {},
   "outputs": [
    {
     "data": {
      "text/plain": [
       "count    4.190000e+02\n",
       "mean     8.128092e+06\n",
       "std      9.702137e+06\n",
       "min      5.000000e+04\n",
       "25%      1.620564e+06\n",
       "50%      3.872215e+06\n",
       "75%      1.086595e+07\n",
       "max      4.300636e+07\n",
       "Name: value, dtype: float64"
      ]
     },
     "execution_count": 97,
     "metadata": {},
     "output_type": "execute_result"
    }
   ],
   "source": [
    "df[\"value\"].describe()"
   ]
  }
 ],
 "metadata": {
  "kernelspec": {
   "display_name": "Python 3 (ipykernel)",
   "language": "python",
   "name": "python3"
  },
  "language_info": {
   "codemirror_mode": {
    "name": "ipython",
    "version": 3
   },
   "file_extension": ".py",
   "mimetype": "text/x-python",
   "name": "python",
   "nbconvert_exporter": "python",
   "pygments_lexer": "ipython3",
   "version": "3.11.3"
  }
 },
 "nbformat": 4,
 "nbformat_minor": 5
}
