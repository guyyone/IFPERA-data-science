{
 "cells": [
  {
   "cell_type": "markdown",
   "id": "ad6a8b56-52a9-4ce8-997e-93f7293a0bdb",
   "metadata": {},
   "source": [
    "### Bases de python et manipulation des tables des données\n",
    "#### Date de soumission: jeudi 08 juin 2023 à 12 H\n",
    "#### Dans ce notebook nous allons reaboder les bases de python et de la manipulation des tables des données\n",
    "#### Nous travaillerons avec la base des données des prix des propriétes en amérique du sud. Cette base est disponible ici\n",
    "- [data price house (url)](https://drive.google.com/file/d/1Sr39gVhzewZzb1Qd2qaH37-SRrXCSL-O/view?usp=sharing)"
   ]
  },
  {
   "cell_type": "markdown",
   "id": "24aedf48-3d1c-4e54-9102-b040f55ee5d2",
   "metadata": {},
   "source": [
    "### 1. Importation et compréhension de la base"
   ]
  },
  {
   "cell_type": "markdown",
   "id": "5e88c7c1-870a-4c8c-8800-8c2d463b9337",
   "metadata": {},
   "source": [
    "**Tâche 1.1:** Importer la base des données dans `df` et en faire une copie."
   ]
  },
  {
   "cell_type": "code",
   "execution_count": 2,
   "id": "f0ef1e7e-41bc-446e-8812-6a475011e8ff",
   "metadata": {},
   "outputs": [],
   "source": [
    "import pandas as pd # manipulation de données\n",
    "import numpy as np\n",
    "import matplotlib.pyplot as plt\n",
    "import seaborn as sns\n",
    "\n",
    "from sklearn.model_selection import train_test_split\n",
    "from sklearn.linear_model import LinearRegression\n",
    "from sklearn.metrics import mean_absolute_error,  mean_squared_error\n"
   ]
  },
  {
   "cell_type": "code",
   "execution_count": 3,
   "id": "66f54c27-94dd-44a1-ae19-b2363b2802a6",
   "metadata": {},
   "outputs": [],
   "source": [
    "# Exécuter cette cellule pour importer la table des données.\n",
    "url = \"https://drive.google.com/file/d/119T69YZ0ZGNrtXx8m7MRH-BgMyEVT8Pu/view?usp=sharing\" # l'adresse \n",
    "                                                                                          # indiquéé ci-haut\n",
    "path = 'https://drive.google.com/uc?export=download&id='+url.split('/')[-2] # Accès à la table\n",
    "df = pd.read_csv(path) # Lecture de la table des données avec pandas, table nommée df."
   ]
  },
  {
   "cell_type": "code",
   "execution_count": 4,
   "id": "8f4a8fda-97de-4447-b967-4565e3f2cc02",
   "metadata": {},
   "outputs": [
    {
     "data": {
      "text/plain": [
       "(102283, 26)"
      ]
     },
     "execution_count": 4,
     "metadata": {},
     "output_type": "execute_result"
    }
   ],
   "source": [
    "# Vérifier la forme ou les dimensions de df \n",
    "# Vous devriez trouver 26 colonnes et 102283 observations\n",
    "df.shape"
   ]
  },
  {
   "cell_type": "code",
   "execution_count": 5,
   "id": "095b9e46-bf8d-4cb9-a14f-59348ccbd19a",
   "metadata": {},
   "outputs": [
    {
     "data": {
      "text/html": [
       "<div>\n",
       "<style scoped>\n",
       "    .dataframe tbody tr th:only-of-type {\n",
       "        vertical-align: middle;\n",
       "    }\n",
       "\n",
       "    .dataframe tbody tr th {\n",
       "        vertical-align: top;\n",
       "    }\n",
       "\n",
       "    .dataframe thead th {\n",
       "        text-align: right;\n",
       "    }\n",
       "</style>\n",
       "<table border=\"1\" class=\"dataframe\">\n",
       "  <thead>\n",
       "    <tr style=\"text-align: right;\">\n",
       "      <th></th>\n",
       "      <th>Unnamed: 0</th>\n",
       "      <th>id</th>\n",
       "      <th>ad_type</th>\n",
       "      <th>start_date</th>\n",
       "      <th>end_date</th>\n",
       "      <th>created_on</th>\n",
       "      <th>lat</th>\n",
       "      <th>lon</th>\n",
       "      <th>l3</th>\n",
       "      <th>l4</th>\n",
       "      <th>...</th>\n",
       "      <th>surface_covered</th>\n",
       "      <th>price</th>\n",
       "      <th>currency</th>\n",
       "      <th>price_period</th>\n",
       "      <th>title</th>\n",
       "      <th>description</th>\n",
       "      <th>property_type</th>\n",
       "      <th>operation_type</th>\n",
       "      <th>location</th>\n",
       "      <th>price_usd</th>\n",
       "    </tr>\n",
       "  </thead>\n",
       "  <tbody>\n",
       "    <tr>\n",
       "      <th>102280</th>\n",
       "      <td>102280</td>\n",
       "      <td>INz0ZhibLBCbioOwtGtOtw==</td>\n",
       "      <td>Propiedad</td>\n",
       "      <td>2020-04-13</td>\n",
       "      <td>9999-12-31</td>\n",
       "      <td>2020-04-13</td>\n",
       "      <td>-34.610996</td>\n",
       "      <td>-58.513443</td>\n",
       "      <td>Villa Devoto</td>\n",
       "      <td>NaN</td>\n",
       "      <td>...</td>\n",
       "      <td>131.0</td>\n",
       "      <td>$400000.0</td>\n",
       "      <td>USD</td>\n",
       "      <td>NaN</td>\n",
       "      <td>Tinogasta  4700 - U$D 400.000 - Casa en Venta</td>\n",
       "      <td>Excelente triplex de 4 ambientes, consta de:- ...</td>\n",
       "      <td>Casa</td>\n",
       "      <td>Venta</td>\n",
       "      <td>Argentina/Capital Federal</td>\n",
       "      <td>400000.0</td>\n",
       "    </tr>\n",
       "    <tr>\n",
       "      <th>102281</th>\n",
       "      <td>102281</td>\n",
       "      <td>HNt/pBqpgMB7hZvKkfXKlQ==</td>\n",
       "      <td>Propiedad</td>\n",
       "      <td>2020-04-13</td>\n",
       "      <td>9999-12-31</td>\n",
       "      <td>2020-04-13</td>\n",
       "      <td>-38.014929</td>\n",
       "      <td>-57.545163</td>\n",
       "      <td>Mar del Plata</td>\n",
       "      <td>NaN</td>\n",
       "      <td>...</td>\n",
       "      <td>NaN</td>\n",
       "      <td>$315000.0</td>\n",
       "      <td>USD</td>\n",
       "      <td>NaN</td>\n",
       "      <td>Venta Departamento 3 Ambientes</td>\n",
       "      <td>. Living comedor amplio\\n. Toilette\\n. Cocina ...</td>\n",
       "      <td>Departamento</td>\n",
       "      <td>Venta</td>\n",
       "      <td>Argentina/Buenos Aires Costa Atlántica</td>\n",
       "      <td>315000.0</td>\n",
       "    </tr>\n",
       "    <tr>\n",
       "      <th>102282</th>\n",
       "      <td>102282</td>\n",
       "      <td>TJjXYEYjjgMy7H8xekNmLA==</td>\n",
       "      <td>Propiedad</td>\n",
       "      <td>2020-04-13</td>\n",
       "      <td>9999-12-31</td>\n",
       "      <td>2020-04-13</td>\n",
       "      <td>-37.984363</td>\n",
       "      <td>-57.551815</td>\n",
       "      <td>Mar del Plata</td>\n",
       "      <td>NaN</td>\n",
       "      <td>...</td>\n",
       "      <td>NaN</td>\n",
       "      <td>$220000.0</td>\n",
       "      <td>USD</td>\n",
       "      <td>NaN</td>\n",
       "      <td>((((OPORTUNIDAD EN POMPEYA))) 5 AMBIENTES EN D...</td>\n",
       "      <td>Magnifica propiedad ubicada en el corazon del ...</td>\n",
       "      <td>Casa</td>\n",
       "      <td>Venta</td>\n",
       "      <td>Argentina/Buenos Aires Costa Atlántica</td>\n",
       "      <td>220000.0</td>\n",
       "    </tr>\n",
       "  </tbody>\n",
       "</table>\n",
       "<p>3 rows × 26 columns</p>\n",
       "</div>"
      ],
      "text/plain": [
       "        Unnamed: 0                        id    ad_type  start_date  \\\n",
       "102280      102280  INz0ZhibLBCbioOwtGtOtw==  Propiedad  2020-04-13   \n",
       "102281      102281  HNt/pBqpgMB7hZvKkfXKlQ==  Propiedad  2020-04-13   \n",
       "102282      102282  TJjXYEYjjgMy7H8xekNmLA==  Propiedad  2020-04-13   \n",
       "\n",
       "          end_date  created_on        lat        lon             l3   l4  ...  \\\n",
       "102280  9999-12-31  2020-04-13 -34.610996 -58.513443   Villa Devoto  NaN  ...   \n",
       "102281  9999-12-31  2020-04-13 -38.014929 -57.545163  Mar del Plata  NaN  ...   \n",
       "102282  9999-12-31  2020-04-13 -37.984363 -57.551815  Mar del Plata  NaN  ...   \n",
       "\n",
       "       surface_covered      price  currency  price_period  \\\n",
       "102280           131.0  $400000.0       USD           NaN   \n",
       "102281             NaN  $315000.0       USD           NaN   \n",
       "102282             NaN  $220000.0       USD           NaN   \n",
       "\n",
       "                                                    title  \\\n",
       "102280      Tinogasta  4700 - U$D 400.000 - Casa en Venta   \n",
       "102281                     Venta Departamento 3 Ambientes   \n",
       "102282  ((((OPORTUNIDAD EN POMPEYA))) 5 AMBIENTES EN D...   \n",
       "\n",
       "                                              description  property_type  \\\n",
       "102280  Excelente triplex de 4 ambientes, consta de:- ...           Casa   \n",
       "102281  . Living comedor amplio\\n. Toilette\\n. Cocina ...   Departamento   \n",
       "102282  Magnifica propiedad ubicada en el corazon del ...           Casa   \n",
       "\n",
       "       operation_type                                location price_usd  \n",
       "102280          Venta               Argentina/Capital Federal  400000.0  \n",
       "102281          Venta  Argentina/Buenos Aires Costa Atlántica  315000.0  \n",
       "102282          Venta  Argentina/Buenos Aires Costa Atlántica  220000.0  \n",
       "\n",
       "[3 rows x 26 columns]"
      ]
     },
     "execution_count": 5,
     "metadata": {},
     "output_type": "execute_result"
    }
   ],
   "source": [
    "df.tail(3)"
   ]
  },
  {
   "cell_type": "code",
   "execution_count": 22,
   "id": "d9a46065-c63b-4b1a-8acc-ff70579628aa",
   "metadata": {},
   "outputs": [],
   "source": [
    "# Faites une copie de la base des données pour ne pas être obligé \n",
    "# de refaire l'importation à chaque fois en éxécutant ce code. les manipulations ultérieures se feront\n",
    "# dans df_copy\n",
    "df_copy = df.copy()"
   ]
  },
  {
   "cell_type": "code",
   "execution_count": 5,
   "id": "3e7b99f0-600b-465f-afac-b334d9d79368",
   "metadata": {},
   "outputs": [
    {
     "name": "stdout",
     "output_type": "stream",
     "text": [
      "<class 'pandas.core.frame.DataFrame'>\n",
      "RangeIndex: 102283 entries, 0 to 102282\n",
      "Data columns (total 26 columns):\n",
      " #   Column           Non-Null Count   Dtype  \n",
      "---  ------           --------------   -----  \n",
      " 0   Unnamed: 0       102283 non-null  int64  \n",
      " 1   id               102283 non-null  object \n",
      " 2   ad_type          102283 non-null  object \n",
      " 3   start_date       102283 non-null  object \n",
      " 4   end_date         102281 non-null  object \n",
      " 5   created_on       102281 non-null  object \n",
      " 6   lat              88294 non-null   float64\n",
      " 7   lon              88260 non-null   float64\n",
      " 8   l3               97588 non-null   object \n",
      " 9   l4               26568 non-null   object \n",
      " 10  l5               402 non-null     object \n",
      " 11  l6               0 non-null       float64\n",
      " 12  rooms            59733 non-null   float64\n",
      " 13  bedrooms         36493 non-null   float64\n",
      " 14  bathrooms        79147 non-null   float64\n",
      " 15  surface_total    62344 non-null   float64\n",
      " 16  surface_covered  59399 non-null   float64\n",
      " 17  price            102283 non-null  object \n",
      " 18  currency         95949 non-null   object \n",
      " 19  price_period     49772 non-null   object \n",
      " 20  title            102253 non-null  object \n",
      " 21  description      102278 non-null  object \n",
      " 22  property_type    99998 non-null   object \n",
      " 23  operation_type   99998 non-null   object \n",
      " 24  location         102281 non-null  object \n",
      " 25  price_usd        96203 non-null   float64\n",
      "dtypes: float64(9), int64(1), object(16)\n",
      "memory usage: 20.3+ MB\n"
     ]
    }
   ],
   "source": [
    "# Obtenir les informations clés de df\n",
    "df_copy.info()"
   ]
  },
  {
   "cell_type": "markdown",
   "id": "34a94e09-87dc-4d37-a287-d9c36c5f2c87",
   "metadata": {},
   "source": [
    "**Tâche 1.2:** Compréhension de la base\n",
    "\n",
    "- [Imprimer les 3 premières observations à l'écran]()\n",
    "- [Imprimer la liste de toutes les colonnes]()\n",
    "- [Créer une liste de colonnes contenant les colonnes clés suivantes: 'location','surface_covered','lat', 'lon', 'price']()"
   ]
  },
  {
   "cell_type": "code",
   "execution_count": 7,
   "id": "4c53563a-bfda-49d6-8239-30ce1fce1383",
   "metadata": {},
   "outputs": [
    {
     "data": {
      "text/html": [
       "<div>\n",
       "<style scoped>\n",
       "    .dataframe tbody tr th:only-of-type {\n",
       "        vertical-align: middle;\n",
       "    }\n",
       "\n",
       "    .dataframe tbody tr th {\n",
       "        vertical-align: top;\n",
       "    }\n",
       "\n",
       "    .dataframe thead th {\n",
       "        text-align: right;\n",
       "    }\n",
       "</style>\n",
       "<table border=\"1\" class=\"dataframe\">\n",
       "  <thead>\n",
       "    <tr style=\"text-align: right;\">\n",
       "      <th></th>\n",
       "      <th>Unnamed: 0</th>\n",
       "      <th>id</th>\n",
       "      <th>ad_type</th>\n",
       "      <th>start_date</th>\n",
       "      <th>end_date</th>\n",
       "      <th>created_on</th>\n",
       "      <th>lat</th>\n",
       "      <th>lon</th>\n",
       "      <th>l3</th>\n",
       "      <th>l4</th>\n",
       "      <th>...</th>\n",
       "      <th>surface_covered</th>\n",
       "      <th>price</th>\n",
       "      <th>currency</th>\n",
       "      <th>price_period</th>\n",
       "      <th>title</th>\n",
       "      <th>description</th>\n",
       "      <th>property_type</th>\n",
       "      <th>operation_type</th>\n",
       "      <th>location</th>\n",
       "      <th>price_usd</th>\n",
       "    </tr>\n",
       "  </thead>\n",
       "  <tbody>\n",
       "    <tr>\n",
       "      <th>0</th>\n",
       "      <td>0</td>\n",
       "      <td>ep6xuGWQRVKnQe1XkXCJaA==</td>\n",
       "      <td>Propiedad</td>\n",
       "      <td>2019-11-18</td>\n",
       "      <td>2019-12-20</td>\n",
       "      <td>2019-11-18</td>\n",
       "      <td>-31.531609</td>\n",
       "      <td>-68.356499</td>\n",
       "      <td>NaN</td>\n",
       "      <td>NaN</td>\n",
       "      <td>...</td>\n",
       "      <td>1.0</td>\n",
       "      <td>$1490000.0</td>\n",
       "      <td>ARS</td>\n",
       "      <td>NaN</td>\n",
       "      <td>Venta Terreno 7 Hectáreas en San Martín</td>\n",
       "      <td>Corredor Responsable: MAURO SOSA MEGLIOLI - CP...</td>\n",
       "      <td>Otro</td>\n",
       "      <td>Venta</td>\n",
       "      <td>Argentina/San Juan</td>\n",
       "      <td>1490000.0</td>\n",
       "    </tr>\n",
       "    <tr>\n",
       "      <th>1</th>\n",
       "      <td>1</td>\n",
       "      <td>RQQ9zjxcXF7nIpvlKJ8W6g==</td>\n",
       "      <td>Propiedad</td>\n",
       "      <td>2019-11-18</td>\n",
       "      <td>9999-12-31</td>\n",
       "      <td>2019-11-18</td>\n",
       "      <td>-34.384445</td>\n",
       "      <td>-57.888442</td>\n",
       "      <td>NaN</td>\n",
       "      <td>NaN</td>\n",
       "      <td>...</td>\n",
       "      <td>NaN</td>\n",
       "      <td>$nan</td>\n",
       "      <td>NaN</td>\n",
       "      <td>Mensual</td>\n",
       "      <td>Chacra - Colonia del Sacramento</td>\n",
       "      <td>Exclusiva y única fracción de 1 hectárea ubica...</td>\n",
       "      <td>Otro</td>\n",
       "      <td>Venta</td>\n",
       "      <td>Uruguay/Colonia</td>\n",
       "      <td>NaN</td>\n",
       "    </tr>\n",
       "    <tr>\n",
       "      <th>2</th>\n",
       "      <td>2</td>\n",
       "      <td>jXkw441jqfY/NJaWd7QPoA==</td>\n",
       "      <td>Propiedad</td>\n",
       "      <td>2019-11-18</td>\n",
       "      <td>9999-12-31</td>\n",
       "      <td>2019-11-18</td>\n",
       "      <td>-32.405751</td>\n",
       "      <td>-64.989122</td>\n",
       "      <td>Carpintería</td>\n",
       "      <td>NaN</td>\n",
       "      <td>...</td>\n",
       "      <td>NaN</td>\n",
       "      <td>$nan</td>\n",
       "      <td>NaN</td>\n",
       "      <td>Mensual</td>\n",
       "      <td>Cabañas Los Nonos - Cabaña para 2 a 6 personas...</td>\n",
       "      <td>Cabañas Los Nonos - Cabaña para 2 a 6 personas...</td>\n",
       "      <td>Otro</td>\n",
       "      <td>Alquiler temporal</td>\n",
       "      <td>Argentina/San Luis</td>\n",
       "      <td>NaN</td>\n",
       "    </tr>\n",
       "  </tbody>\n",
       "</table>\n",
       "<p>3 rows × 26 columns</p>\n",
       "</div>"
      ],
      "text/plain": [
       "   Unnamed: 0                        id    ad_type  start_date    end_date  \\\n",
       "0           0  ep6xuGWQRVKnQe1XkXCJaA==  Propiedad  2019-11-18  2019-12-20   \n",
       "1           1  RQQ9zjxcXF7nIpvlKJ8W6g==  Propiedad  2019-11-18  9999-12-31   \n",
       "2           2  jXkw441jqfY/NJaWd7QPoA==  Propiedad  2019-11-18  9999-12-31   \n",
       "\n",
       "   created_on        lat        lon           l3   l4  ... surface_covered  \\\n",
       "0  2019-11-18 -31.531609 -68.356499          NaN  NaN  ...             1.0   \n",
       "1  2019-11-18 -34.384445 -57.888442          NaN  NaN  ...             NaN   \n",
       "2  2019-11-18 -32.405751 -64.989122  Carpintería  NaN  ...             NaN   \n",
       "\n",
       "        price  currency  price_period  \\\n",
       "0  $1490000.0       ARS           NaN   \n",
       "1        $nan       NaN       Mensual   \n",
       "2        $nan       NaN       Mensual   \n",
       "\n",
       "                                               title  \\\n",
       "0            Venta Terreno 7 Hectáreas en San Martín   \n",
       "1                    Chacra - Colonia del Sacramento   \n",
       "2  Cabañas Los Nonos - Cabaña para 2 a 6 personas...   \n",
       "\n",
       "                                         description  property_type  \\\n",
       "0  Corredor Responsable: MAURO SOSA MEGLIOLI - CP...           Otro   \n",
       "1  Exclusiva y única fracción de 1 hectárea ubica...           Otro   \n",
       "2  Cabañas Los Nonos - Cabaña para 2 a 6 personas...           Otro   \n",
       "\n",
       "      operation_type            location  price_usd  \n",
       "0              Venta  Argentina/San Juan  1490000.0  \n",
       "1              Venta     Uruguay/Colonia        NaN  \n",
       "2  Alquiler temporal  Argentina/San Luis        NaN  \n",
       "\n",
       "[3 rows x 26 columns]"
      ]
     },
     "execution_count": 7,
     "metadata": {},
     "output_type": "execute_result"
    }
   ],
   "source": [
    "First_tree_obs = df_copy.head(3)\n",
    "First_tree_obs"
   ]
  },
  {
   "cell_type": "code",
   "execution_count": 8,
   "id": "ba404dc9-f625-4585-aa39-3eb8da28aabe",
   "metadata": {},
   "outputs": [
    {
     "data": {
      "text/plain": [
       "Index(['Unnamed: 0', 'id', 'ad_type', 'start_date', 'end_date', 'created_on',\n",
       "       'lat', 'lon', 'l3', 'l4', 'l5', 'l6', 'rooms', 'bedrooms', 'bathrooms',\n",
       "       'surface_total', 'surface_covered', 'price', 'currency', 'price_period',\n",
       "       'title', 'description', 'property_type', 'operation_type', 'location',\n",
       "       'price_usd'],\n",
       "      dtype='object')"
      ]
     },
     "execution_count": 8,
     "metadata": {},
     "output_type": "execute_result"
    }
   ],
   "source": [
    "# Liste des colonnes \n",
    "list_col = df_copy.columns\n",
    "list_col"
   ]
  },
  {
   "cell_type": "code",
   "execution_count": 9,
   "id": "39ed6f5a-9de6-458b-abe0-c5f6b9e20cb0",
   "metadata": {},
   "outputs": [],
   "source": [
    "# Colonnes clés\n",
    "key_col = ['location','surface_covered','lat', 'lon', 'price']"
   ]
  },
  {
   "cell_type": "code",
   "execution_count": 33,
   "id": "b8365d3a-5a42-4814-bbc8-09c84374fa2b",
   "metadata": {},
   "outputs": [
    {
     "name": "stdout",
     "output_type": "stream",
     "text": [
      "df_key shape: (102283, 5)\n"
     ]
    }
   ],
   "source": [
    "# Sauvegarder la base contenant les colonnes clés dans la base 'df_key' et \n",
    "# imprimer les dimensions de 'df_key'\n",
    "df_key = df_copy[key_col]\n",
    "print(\"df_key shape:\", df_key.shape)"
   ]
  },
  {
   "cell_type": "code",
   "execution_count": 11,
   "id": "a3258f6b-4591-4056-ae4e-d10e249703ab",
   "metadata": {},
   "outputs": [
    {
     "name": "stdout",
     "output_type": "stream",
     "text": [
      "<class 'pandas.core.frame.DataFrame'>\n",
      "RangeIndex: 102283 entries, 0 to 102282\n",
      "Data columns (total 5 columns):\n",
      " #   Column           Non-Null Count   Dtype  \n",
      "---  ------           --------------   -----  \n",
      " 0   location         102281 non-null  object \n",
      " 1   surface_covered  59399 non-null   float64\n",
      " 2   lat              88294 non-null   float64\n",
      " 3   lon              88260 non-null   float64\n",
      " 4   price            102283 non-null  object \n",
      "dtypes: float64(3), object(2)\n",
      "memory usage: 3.9+ MB\n"
     ]
    }
   ],
   "source": [
    "df_key.info()"
   ]
  },
  {
   "cell_type": "markdown",
   "id": "a20d9030-2bd4-4857-abaf-d01967be2fed",
   "metadata": {},
   "source": [
    "**Tâche 1.3:** Ecrire une fonction `clean` qui permet de: 1)Supprimer le sigle $ de la colonne nommée`price`. 2) Changer les valeurs de la colonne `price` en valeurs numériques. 3)Nettoyer `df_key` en supprimant les lignes avec les valeurs manquantes. \n",
    "\n",
    "- [Types des données-Variables en python](https://github.com/pefura/IFPERA-data-science/blob/main/Tutorial%20d%E2%80%99introduction%20%C3%A0%20l%E2%80%99analyse%20des%20donn%C3%A9es%20avec%20Python.pdf)\n",
    "- [Remplacer les chaînes de caractères en utilisant pandas](https://pandas.pydata.org/docs/reference/api/pandas.Series.str.replace.html)\n",
    "- [Supprimer les lignes avec les valeurs manquantes](https://pandas.pydata.org/docs/reference/api/pandas.DataFrame.dropna.html)"
   ]
  },
  {
   "cell_type": "code",
   "execution_count": 37,
   "id": "2b3b0505-20a9-46b9-8507-dfa2bb08c63b",
   "metadata": {},
   "outputs": [],
   "source": [
    "df_copy  = df.copy()"
   ]
  },
  {
   "cell_type": "code",
   "execution_count": 38,
   "id": "ad1792be-41b7-4f29-b7e4-ab2f18fab503",
   "metadata": {},
   "outputs": [
    {
     "name": "stdout",
     "output_type": "stream",
     "text": [
      "<class 'pandas.core.frame.DataFrame'>\n",
      "RangeIndex: 102283 entries, 0 to 102282\n",
      "Data columns (total 5 columns):\n",
      " #   Column           Non-Null Count   Dtype  \n",
      "---  ------           --------------   -----  \n",
      " 0   location         102281 non-null  object \n",
      " 1   surface_covered  59399 non-null   float64\n",
      " 2   lat              88294 non-null   float64\n",
      " 3   lon              88260 non-null   float64\n",
      " 4   price            102283 non-null  object \n",
      "dtypes: float64(3), object(2)\n",
      "memory usage: 3.9+ MB\n"
     ]
    }
   ],
   "source": [
    "df_key_copy = df_key.copy()\n",
    "df_key_copy.info()"
   ]
  },
  {
   "cell_type": "code",
   "execution_count": 30,
   "id": "308e0e28-f235-4914-bca1-bba10abfed1d",
   "metadata": {},
   "outputs": [],
   "source": [
    "def clean(df):\n",
    "    # instructions\n",
    "    ## Supprimer le sigle $ de la colonne  nommée price\n",
    "    ## Changer les valeurs de la colonne price en valeurs numériques\n",
    "    df[\"price\"] = df[\"price\"]. str.replace(\"$\", \"\").astype(float)\n",
    "    ## Nettoyer df_key en supprimant les lignes avec les valeurs manquantes.\n",
    "    df.dropna(inplace = True)\n",
    "    # renvoyer la solution\n",
    "    return df\n",
    "          "
   ]
  },
  {
   "cell_type": "code",
   "execution_count": 35,
   "id": "59a6956e-d44b-43f4-95bb-91ec7bb82ae0",
   "metadata": {},
   "outputs": [
    {
     "name": "stdout",
     "output_type": "stream",
     "text": [
      "<class 'pandas.core.frame.DataFrame'>\n",
      "Index: 50209 entries, 0 to 102280\n",
      "Data columns (total 5 columns):\n",
      " #   Column           Non-Null Count  Dtype  \n",
      "---  ------           --------------  -----  \n",
      " 0   location         50209 non-null  object \n",
      " 1   surface_covered  50209 non-null  float64\n",
      " 2   lat              50209 non-null  float64\n",
      " 3   lon              50209 non-null  float64\n",
      " 4   price            50209 non-null  float64\n",
      "dtypes: float64(4), object(1)\n",
      "memory usage: 2.3+ MB\n"
     ]
    }
   ],
   "source": [
    "df_test = clean(df=df_key_copy)\n",
    "df_test.info()"
   ]
  },
  {
   "cell_type": "code",
   "execution_count": 12,
   "id": "3d2c3087-2269-432a-942f-6321d015e522",
   "metadata": {},
   "outputs": [
    {
     "data": {
      "text/plain": [
       "0         $1490000.0\n",
       "1               $nan\n",
       "2               $nan\n",
       "3           $25000.0\n",
       "4         $1850000.0\n",
       "             ...    \n",
       "102278     $120000.0\n",
       "102279     $120000.0\n",
       "102280     $400000.0\n",
       "102281     $315000.0\n",
       "102282     $220000.0\n",
       "Name: price, Length: 102283, dtype: object"
      ]
     },
     "execution_count": 12,
     "metadata": {},
     "output_type": "execute_result"
    }
   ],
   "source": [
    "df_copy[\"price\"]"
   ]
  },
  {
   "cell_type": "code",
   "execution_count": 20,
   "id": "2861ead1-ba31-45fc-8136-44279a788056",
   "metadata": {},
   "outputs": [
    {
     "data": {
      "text/plain": [
       "0         1490000.0\n",
       "1               NaN\n",
       "2               NaN\n",
       "3           25000.0\n",
       "4         1850000.0\n",
       "            ...    \n",
       "102278     120000.0\n",
       "102279     120000.0\n",
       "102280     400000.0\n",
       "102281     315000.0\n",
       "102282     220000.0\n",
       "Name: price, Length: 102283, dtype: float64"
      ]
     },
     "execution_count": 20,
     "metadata": {},
     "output_type": "execute_result"
    }
   ],
   "source": [
    "# Try for comprehension\n",
    "df_copy[\"price\"] = df_copy[\"price\"]. str.replace(\"$\", \"\").astype(float)\n",
    "df_copy[\"price\"] "
   ]
  },
  {
   "cell_type": "code",
   "execution_count": 45,
   "id": "2d27c85c-3af0-4fe5-b8b1-edf5b21d5114",
   "metadata": {},
   "outputs": [],
   "source": [
    "def clean(df):\n",
    "    # Supprimer le sigle $ de la colonne nommée price\n",
    "    # Changer les valeurs de la colonne price en valeurs numériques\n",
    "    df[\"price\"] = df[\"price\"]. str.replace(\"$\", \"\").astype(float)\n",
    "    # Nettoyer df_key en supprimant les lignes avec les valeurs manquantes\n",
    "    df.dropna(inplace = True)\n",
    "    return df"
   ]
  },
  {
   "cell_type": "code",
   "execution_count": 34,
   "id": "6470cd6f-0f4b-49de-8007-1f7d12db15c3",
   "metadata": {},
   "outputs": [],
   "source": [
    "# la base néttoyée est df_clean.Vous devez trouver une base avec 5 colonnes et 50209 observations\n",
    "df_key_copy = df_key.copy() # Faire une copie de df_key et utiliser la copie pour ne pas avoir d'erreur\n",
    "               # ou utiliser une version non transformée\n"
   ]
  },
  {
   "cell_type": "code",
   "execution_count": 39,
   "id": "1defabb8-1fc7-41df-8e58-57dabc944bb1",
   "metadata": {},
   "outputs": [
    {
     "name": "stdout",
     "output_type": "stream",
     "text": [
      "<class 'pandas.core.frame.DataFrame'>\n",
      "Index: 50209 entries, 0 to 102280\n",
      "Data columns (total 5 columns):\n",
      " #   Column           Non-Null Count  Dtype  \n",
      "---  ------           --------------  -----  \n",
      " 0   location         50209 non-null  object \n",
      " 1   surface_covered  50209 non-null  float64\n",
      " 2   lat              50209 non-null  float64\n",
      " 3   lon              50209 non-null  float64\n",
      " 4   price            50209 non-null  float64\n",
      "dtypes: float64(4), object(1)\n",
      "memory usage: 2.3+ MB\n"
     ]
    }
   ],
   "source": [
    "df_clean = clean(df = df_key_copy )               \n",
    "df_clean.info()"
   ]
  },
  {
   "cell_type": "code",
   "execution_count": 48,
   "id": "859f584f-da7f-4ced-bca9-1c51e18581d8",
   "metadata": {},
   "outputs": [],
   "source": [
    "df_key_copy = df_key.copy()"
   ]
  },
  {
   "cell_type": "code",
   "execution_count": null,
   "id": "f28089f3-8dff-41f1-8a5d-e8bcc1c5d1df",
   "metadata": {},
   "outputs": [],
   "source": []
  },
  {
   "cell_type": "markdown",
   "id": "4845d043-2d92-4fb9-a54c-ab944219f2c5",
   "metadata": {},
   "source": [
    "**Tâche 1.4:** Ecrire une fonction `wrangle` qui permet de: 1)Inclure les modifications de la fonction `clean`. 2) Séparer la colonne `location` en `2` colonnes dont l'une est le pays (`country`)de la propriété et l'autre l'état où se trouve la propriété (`state`); Notez que le `pays` et `l'état` se trouvent respectivement en première et en deuxième position des modalités de la colonne `location`. \n",
    "\n",
    "- [Fonction imbriquée]()\n",
    "- [Scinder les chaînes de caractères dans une colonne pour créer d'autres en utilisant pandas](https://pandas.pydata.org/docs/reference/api/pandas.Series.str.split.html)\n"
   ]
  },
  {
   "cell_type": "code",
   "execution_count": 47,
   "id": "4facfba8-bb89-4fe9-896e-c820e98f8064",
   "metadata": {},
   "outputs": [],
   "source": [
    "def wrangle (df):\n",
    "    # Fonction clean\n",
    "    # Supprimer le sigle $ de la colonne nommée price\n",
    "    # Changer les valeurs de la colonne price en valeurs numériques\n",
    "    df[\"price\"] = df[\"price\"]. str.replace(\"$\", \"\").astype(float)\n",
    "    # Nettoyer df_key en supprimant les lignes avec les valeurs manquantes\n",
    "    df.dropna(inplace = True)\n",
    "    # Séparer la colonne location en 2 colonnes dont l'une \n",
    "    # est le pays (country)de la propriété et l'autre l'état où se trouve la propriété (state)\n",
    "    df[[\"country\", \"state\"]] = df[\"location\"].str.split(\"/\", expand= True)\n",
    "    return df"
   ]
  },
  {
   "cell_type": "code",
   "execution_count": 36,
   "id": "e7d204e4-b276-4e1c-9e53-faf8597a1f20",
   "metadata": {},
   "outputs": [],
   "source": [
    "def wrangle (df):\n",
    "    df = clean(df)\n",
    "    df[[\"country\", \"state\"]] = df[\"location\"].str.split(\"/\", expand= True)\n",
    "    return df"
   ]
  },
  {
   "cell_type": "code",
   "execution_count": 49,
   "id": "cf19c8fc-7293-4f38-8ac3-a23816052845",
   "metadata": {},
   "outputs": [
    {
     "name": "stdout",
     "output_type": "stream",
     "text": [
      "<class 'pandas.core.frame.DataFrame'>\n",
      "Index: 50209 entries, 0 to 102280\n",
      "Data columns (total 7 columns):\n",
      " #   Column           Non-Null Count  Dtype  \n",
      "---  ------           --------------  -----  \n",
      " 0   location         50209 non-null  object \n",
      " 1   surface_covered  50209 non-null  float64\n",
      " 2   lat              50209 non-null  float64\n",
      " 3   lon              50209 non-null  float64\n",
      " 4   price            50209 non-null  float64\n",
      " 5   country          50209 non-null  object \n",
      " 6   state            50209 non-null  object \n",
      "dtypes: float64(4), object(3)\n",
      "memory usage: 3.1+ MB\n"
     ]
    }
   ],
   "source": [
    "# Résulats de la fonction wrangle\n",
    "# Attention d'utiliser une version non transformée de df_key\n",
    "\n",
    "df_wrangle = wrangle(df =df_key_copy)\n",
    "df_wrangle.info()"
   ]
  },
  {
   "cell_type": "markdown",
   "id": "0c8d1f92-7b94-49d9-b3a0-c04094f150f0",
   "metadata": {},
   "source": [
    "**Tâche 1.5:** Utiliser la boucle `for` et la méthode `split` pour créer `country` et `state` de la `tâche 1.4.\n",
    "- [Boucle for](https://docs.python.org/3/tutorial/controlflow.html#for-statements)\n",
    "- [Créer un dataframe en utilisant le dictionnaire](https://docs.python.org/3/tutorial/datastructures.html#dictionaries)\n"
   ]
  },
  {
   "cell_type": "code",
   "execution_count": 40,
   "id": "9c3348dd-d093-4700-97e7-ff321c43b0f0",
   "metadata": {},
   "outputs": [
    {
     "data": {
      "text/plain": [
       "'Argentina'"
      ]
     },
     "execution_count": 40,
     "metadata": {},
     "output_type": "execute_result"
    }
   ],
   "source": [
    "# Try and copy dataframe\n",
    "df_key_copy = df_key.copy() \n",
    "list(df_key_copy[\"location\"])[0].split(\"/\")[0]"
   ]
  },
  {
   "cell_type": "code",
   "execution_count": 50,
   "id": "bbdcde3a-e677-4204-a8a6-c351518ca724",
   "metadata": {},
   "outputs": [],
   "source": [
    "# for loop to create country and state\n",
    "country = []\n",
    "state = []\n",
    "for f in list(df_wrangle[\"location\"]):\n",
    "    coun = f.split(\"/\")[0]\n",
    "    sta = f.split(\"/\")[1]\n",
    "    country.append(coun)\n",
    "    state.append(sta)"
   ]
  },
  {
   "cell_type": "code",
   "execution_count": 51,
   "id": "296ca47e-3392-476d-a4bc-e854bb0bcd4f",
   "metadata": {},
   "outputs": [],
   "source": [
    "# Combine in dictionnary and the create dataframe\n",
    "dictio = dict(df_wrangle)\n",
    "dictio[\"country\"] = country\n",
    "dictio[\"state\"] = state"
   ]
  },
  {
   "cell_type": "code",
   "execution_count": 52,
   "id": "d58bb47f-dfcf-46f2-b1c6-8324092f12cb",
   "metadata": {},
   "outputs": [
    {
     "name": "stdout",
     "output_type": "stream",
     "text": [
      "<class 'pandas.core.frame.DataFrame'>\n",
      "Index: 50209 entries, 0 to 102280\n",
      "Data columns (total 7 columns):\n",
      " #   Column           Non-Null Count  Dtype  \n",
      "---  ------           --------------  -----  \n",
      " 0   location         50209 non-null  object \n",
      " 1   surface_covered  50209 non-null  float64\n",
      " 2   lat              50209 non-null  float64\n",
      " 3   lon              50209 non-null  float64\n",
      " 4   price            50209 non-null  float64\n",
      " 5   country          50209 non-null  object \n",
      " 6   state            50209 non-null  object \n",
      "dtypes: float64(4), object(3)\n",
      "memory usage: 3.1+ MB\n"
     ]
    }
   ],
   "source": [
    "# Résulats de la fonction wrangle\n",
    "# Attention d'utiliser une version non transformée de df_key\n",
    "df_for = pd.DataFrame(dictio)\n",
    "df_for.info()"
   ]
  },
  {
   "cell_type": "markdown",
   "id": "70f18a19-657f-4f77-8061-5a32114841a4",
   "metadata": {},
   "source": [
    "**Tâche 1.6:** Supprimer la colonne `location` table de données à l'aide de la méthode `drop`.\n",
    "- [Supprimer une ou plusieurs colonnes](https://pandas.pydata.org/docs/reference/api/pandas.DataFrame.drop.html)\n"
   ]
  },
  {
   "cell_type": "code",
   "execution_count": 53,
   "id": "3fab325d-503d-4434-8b03-6efe9e57a6d3",
   "metadata": {},
   "outputs": [
    {
     "name": "stdout",
     "output_type": "stream",
     "text": [
      "<class 'pandas.core.frame.DataFrame'>\n",
      "Index: 50209 entries, 0 to 102280\n",
      "Data columns (total 6 columns):\n",
      " #   Column           Non-Null Count  Dtype  \n",
      "---  ------           --------------  -----  \n",
      " 0   surface_covered  50209 non-null  float64\n",
      " 1   lat              50209 non-null  float64\n",
      " 2   lon              50209 non-null  float64\n",
      " 3   price            50209 non-null  float64\n",
      " 4   country          50209 non-null  object \n",
      " 5   state            50209 non-null  object \n",
      "dtypes: float64(4), object(2)\n",
      "memory usage: 2.7+ MB\n"
     ]
    }
   ],
   "source": [
    "df_for.drop(columns = \"location\", inplace = True)\n",
    "df_for.info()"
   ]
  },
  {
   "cell_type": "code",
   "execution_count": 45,
   "id": "3c118f75-a626-452f-b8b3-9ec17858d5cf",
   "metadata": {},
   "outputs": [
    {
     "data": {
      "text/plain": [
       "array(['Argentina', 'Uruguay', 'Estados Unidos', 'Brasil'], dtype=object)"
      ]
     },
     "execution_count": 45,
     "metadata": {},
     "output_type": "execute_result"
    }
   ],
   "source": [
    "# Quels sont les pays existant dans la base des données et leurs effectifs?\n",
    "country = df_for[\"country\"].unique()\n",
    "country"
   ]
  },
  {
   "cell_type": "code",
   "execution_count": 46,
   "id": "e5e2a207-9ec1-4f31-aa1c-ae8df2d7d583",
   "metadata": {},
   "outputs": [
    {
     "data": {
      "text/plain": [
       "country\n",
       "Argentina         48234\n",
       "Uruguay            1913\n",
       "Estados Unidos       59\n",
       "Brasil                3\n",
       "Name: count, dtype: int64"
      ]
     },
     "execution_count": 46,
     "metadata": {},
     "output_type": "execute_result"
    }
   ],
   "source": [
    "# Déterminer les effectifs des états\n",
    "effectif = df_for[\"country\"].value_counts()\n",
    "effectif"
   ]
  },
  {
   "cell_type": "code",
   "execution_count": 1,
   "id": "f09be66a-6ffc-4ea0-b878-163e1fb5051a",
   "metadata": {},
   "outputs": [],
   "source": [
    "# Tracer l'histogramme et la boite à moustache horizontale des prix avec matplotlib. \n",
    "# Quelles conclusions tirez-vous? \n"
   ]
  },
  {
   "cell_type": "code",
   "execution_count": 47,
   "id": "3ad8837f-027b-4212-beaa-ed2a3787f002",
   "metadata": {},
   "outputs": [
    {
     "data": {
      "text/plain": [
       "Text(0.5, 1.0, 'Distribution of property Price')"
      ]
     },
     "execution_count": 47,
     "metadata": {},
     "output_type": "execute_result"
    },
    {
     "data": {
      "image/png": "[encoded data removed]",
      "text/plain": [
       "<Figure size 640x480 with 1 Axes>"
      ]
     },
     "metadata": {},
     "output_type": "display_data"
    }
   ],
   "source": [
    "# histogramme\n",
    "plt.hist(df_for[\"price\"])\n",
    "plt.xlabel(\"price [USD]\")\n",
    "plt.ylabel(\"count\")\n",
    "plt.title(\"Distribution of property Price\")"
   ]
  },
  {
   "cell_type": "code",
   "execution_count": 70,
   "id": "f517a6b4-cb55-4f0a-b5e1-47b0546c4bd6",
   "metadata": {},
   "outputs": [
    {
     "data": {
      "text/plain": [
       "{'whiskers': [<matplotlib.lines.Line2D at 0x20c37082890>,\n",
       "  <matplotlib.lines.Line2D at 0x20c370813d0>],\n",
       " 'caps': [<matplotlib.lines.Line2D at 0x20c37014050>,\n",
       "  <matplotlib.lines.Line2D at 0x20c36a80410>],\n",
       " 'boxes': [<matplotlib.lines.Line2D at 0x20c372de910>],\n",
       " 'medians': [<matplotlib.lines.Line2D at 0x20c3707de10>],\n",
       " 'fliers': [<matplotlib.lines.Line2D at 0x20c3707f690>],\n",
       " 'means': []}"
      ]
     },
     "execution_count": 70,
     "metadata": {},
     "output_type": "execute_result"
    },
    {
     "data": {
      "image/png": "[encoded data removed]",
      "text/plain": [
       "<Figure size 640x480 with 1 Axes>"
      ]
     },
     "metadata": {},
     "output_type": "display_data"
    }
   ],
   "source": [
    "# Tracé boite à moustache horizontale \n",
    "plt.boxplot(x=df_for['price'], vert=False)"
   ]
  },
  {
   "cell_type": "markdown",
   "id": "049b33a0-f8bd-4a70-afd1-19ae559a129d",
   "metadata": {},
   "source": [
    "**Tâche 1.7:** Selectionner à l'aide des masques les propriétes 1) se trouvant en `Argentine` 2) dans l'état de `Capital Federal` 3) coûtant au maximum 400 milles USD 4) avec exlusion des prix n'ont compris entre le 10ème et le 90ème percentiles (pour exclure les valeurs extrèmes). Utiliser une fonction pour faire cette manipulation. La base obtenue sera nommée df_final.\n",
    "- [Filter les colonnes et lignes selon certaines conditions]()"
   ]
  },
  {
   "cell_type": "code",
   "execution_count": 55,
   "id": "9677abda-6692-4c15-8625-566495ee011f",
   "metadata": {},
   "outputs": [],
   "source": [
    "def mask(df):\n",
    "## Clean\n",
    "    # Supprimer le sigle $ de la colonne nommée price\n",
    "    # Changer les valeurs de la colonne price en valeurs numériques\n",
    "    df[\"price\"] = df[\"price\"]. str.replace(\"$\", \"\").astype(float)\n",
    "    # key columns and restriction df to these columns\n",
    "    key_col = ['location','surface_covered','lat', 'lon', 'price']\n",
    "    df = df[key_col]\n",
    "    # Nettoyer df_key en supprimant les lignes avec les valeurs manquantes\n",
    "    df.dropna(inplace = True)\n",
    "## other instructions to have: wrangle\n",
    "    # create country and state\n",
    "    df[[\"country\", \"state\"]] = df[\"location\"].str.split(\"/\", expand= True)\n",
    "    df.drop(columns = \"location\", inplace = True)\n",
    "## Mask for country, state and price\n",
    "    mask_country = df[\"country\"]==\"Argentina\"\n",
    "    mask_state = df[\"state\"]==\"Capital Federal\"\n",
    "    mask_price = df[\"price\"] < 400_000\n",
    "    df = df[mask_country & mask_state & mask_price] \n",
    "    ## mask percentiles surface covered\n",
    "    perc_sur_10, perc_sur_90 = df[\"surface_covered\"].quantile([0.1, 0.90])\n",
    "    mask_surface = df[\"surface_covered\"].between(perc_sur_10, perc_sur_90)\n",
    "    df = df[mask_surface]\n",
    "    \n",
    "    return df"
   ]
  },
  {
   "cell_type": "code",
   "execution_count": 57,
   "id": "294a0e85-bc7f-4b88-8505-4ea4a87156cd",
   "metadata": {},
   "outputs": [],
   "source": [
    "df_copy = df.copy()"
   ]
  },
  {
   "cell_type": "code",
   "execution_count": 58,
   "id": "12ba65ee-a5db-4def-851c-ced8769d00a5",
   "metadata": {},
   "outputs": [
    {
     "name": "stderr",
     "output_type": "stream",
     "text": [
      "C:\\Users\\DDD\\AppData\\Local\\Temp\\ipykernel_14244\\1924791611.py:10: SettingWithCopyWarning: \n",
      "A value is trying to be set on a copy of a slice from a DataFrame\n",
      "\n",
      "See the caveats in the documentation: https://pandas.pydata.org/pandas-docs/stable/user_guide/indexing.html#returning-a-view-versus-a-copy\n",
      "  df.dropna(inplace = True)\n",
      "C:\\Users\\DDD\\AppData\\Local\\Temp\\ipykernel_14244\\1924791611.py:13: SettingWithCopyWarning: \n",
      "A value is trying to be set on a copy of a slice from a DataFrame.\n",
      "Try using .loc[row_indexer,col_indexer] = value instead\n",
      "\n",
      "See the caveats in the documentation: https://pandas.pydata.org/pandas-docs/stable/user_guide/indexing.html#returning-a-view-versus-a-copy\n",
      "  df[[\"country\", \"state\"]] = df[\"location\"].str.split(\"/\", expand= True)\n",
      "C:\\Users\\DDD\\AppData\\Local\\Temp\\ipykernel_14244\\1924791611.py:13: SettingWithCopyWarning: \n",
      "A value is trying to be set on a copy of a slice from a DataFrame.\n",
      "Try using .loc[row_indexer,col_indexer] = value instead\n",
      "\n",
      "See the caveats in the documentation: https://pandas.pydata.org/pandas-docs/stable/user_guide/indexing.html#returning-a-view-versus-a-copy\n",
      "  df[[\"country\", \"state\"]] = df[\"location\"].str.split(\"/\", expand= True)\n",
      "C:\\Users\\DDD\\AppData\\Local\\Temp\\ipykernel_14244\\1924791611.py:14: SettingWithCopyWarning: \n",
      "A value is trying to be set on a copy of a slice from a DataFrame\n",
      "\n",
      "See the caveats in the documentation: https://pandas.pydata.org/pandas-docs/stable/user_guide/indexing.html#returning-a-view-versus-a-copy\n",
      "  df.drop(columns = \"location\", inplace = True)\n"
     ]
    },
    {
     "data": {
      "text/plain": [
       "(15259, 6)"
      ]
     },
     "execution_count": 58,
     "metadata": {},
     "output_type": "execute_result"
    }
   ],
   "source": [
    "df_final = mask(df= df_copy)\n",
    "df_final.shape"
   ]
  },
  {
   "cell_type": "code",
   "execution_count": 59,
   "id": "3901b255-56d6-44e3-91fc-c4cf5e5e6f22",
   "metadata": {},
   "outputs": [
    {
     "data": {
      "text/html": [
       "<div>\n",
       "<style scoped>\n",
       "    .dataframe tbody tr th:only-of-type {\n",
       "        vertical-align: middle;\n",
       "    }\n",
       "\n",
       "    .dataframe tbody tr th {\n",
       "        vertical-align: top;\n",
       "    }\n",
       "\n",
       "    .dataframe thead th {\n",
       "        text-align: right;\n",
       "    }\n",
       "</style>\n",
       "<table border=\"1\" class=\"dataframe\">\n",
       "  <thead>\n",
       "    <tr style=\"text-align: right;\">\n",
       "      <th></th>\n",
       "      <th>surface_covered</th>\n",
       "      <th>lat</th>\n",
       "      <th>lon</th>\n",
       "      <th>price</th>\n",
       "      <th>country</th>\n",
       "      <th>state</th>\n",
       "    </tr>\n",
       "  </thead>\n",
       "  <tbody>\n",
       "    <tr>\n",
       "      <th>154</th>\n",
       "      <td>30.0</td>\n",
       "      <td>-34.615442</td>\n",
       "      <td>-58.424563</td>\n",
       "      <td>15000.0</td>\n",
       "      <td>Argentina</td>\n",
       "      <td>Capital Federal</td>\n",
       "    </tr>\n",
       "    <tr>\n",
       "      <th>155</th>\n",
       "      <td>88.0</td>\n",
       "      <td>-34.567000</td>\n",
       "      <td>-58.470011</td>\n",
       "      <td>310000.0</td>\n",
       "      <td>Argentina</td>\n",
       "      <td>Capital Federal</td>\n",
       "    </tr>\n",
       "    <tr>\n",
       "      <th>156</th>\n",
       "      <td>88.0</td>\n",
       "      <td>-34.636405</td>\n",
       "      <td>-58.475218</td>\n",
       "      <td>169000.0</td>\n",
       "      <td>Argentina</td>\n",
       "      <td>Capital Federal</td>\n",
       "    </tr>\n",
       "  </tbody>\n",
       "</table>\n",
       "</div>"
      ],
      "text/plain": [
       "     surface_covered        lat        lon     price    country  \\\n",
       "154             30.0 -34.615442 -58.424563   15000.0  Argentina   \n",
       "155             88.0 -34.567000 -58.470011  310000.0  Argentina   \n",
       "156             88.0 -34.636405 -58.475218  169000.0  Argentina   \n",
       "\n",
       "               state  \n",
       "154  Capital Federal  \n",
       "155  Capital Federal  \n",
       "156  Capital Federal  "
      ]
     },
     "execution_count": 59,
     "metadata": {},
     "output_type": "execute_result"
    }
   ],
   "source": [
    "df_final.head(3)"
   ]
  },
  {
   "cell_type": "code",
   "execution_count": 60,
   "id": "99f35ec7-5996-43b1-8b2c-47e5dc217dae",
   "metadata": {},
   "outputs": [
    {
     "name": "stdout",
     "output_type": "stream",
     "text": [
      "<class 'pandas.core.frame.DataFrame'>\n",
      "Index: 15259 entries, 154 to 102169\n",
      "Data columns (total 6 columns):\n",
      " #   Column           Non-Null Count  Dtype  \n",
      "---  ------           --------------  -----  \n",
      " 0   surface_covered  15259 non-null  float64\n",
      " 1   lat              15259 non-null  float64\n",
      " 2   lon              15259 non-null  float64\n",
      " 3   price            15259 non-null  float64\n",
      " 4   country          15259 non-null  object \n",
      " 5   state            15259 non-null  object \n",
      "dtypes: float64(4), object(2)\n",
      "memory usage: 834.5+ KB\n"
     ]
    }
   ],
   "source": [
    "df_final.info()"
   ]
  },
  {
   "cell_type": "markdown",
   "id": "667e84e2-29d9-4b7e-a591-e4916cbfb744",
   "metadata": {},
   "source": [
    "### 2. Visualisation des données et prédiction"
   ]
  },
  {
   "cell_type": "markdown",
   "id": "14462f45-4024-453c-a455-cdbd5d9e6900",
   "metadata": {},
   "source": [
    "**Task 2.1:** Create a scatter plot showing price vs. surface_covered  in `Capital federal` that has the largest number of properties. Be sure to label the x-axis `\"Area [sq meters]\"` and the y-axis `\"Price [USD]\"`; and use the title `Price vs. Area`. Use Matplotlib (`plt`)."
   ]
  },
  {
   "cell_type": "code",
   "execution_count": 75,
   "id": "98368f86-a50f-4d66-99f1-a609413a2b20",
   "metadata": {},
   "outputs": [
    {
     "data": {
      "text/plain": [
       "Text(0.5, 1.0, 'Price vs. Area')"
      ]
     },
     "execution_count": 75,
     "metadata": {},
     "output_type": "execute_result"
    },
    {
     "data": {
      "image/png": "[encoded data removed]",
      "text/plain": [
       "<Figure size 1000x600 with 1 Axes>"
      ]
     },
     "metadata": {},
     "output_type": "display_data"
    }
   ],
   "source": [
    "ax, fig = plt.subplots(figsize=(10, 6))\n",
    "plt.scatter( df_final[\"surface_covered\"], df_final[\"price\"], s = 5, c = \"black\")\n",
    "plt.xlabel (\"Area [sq meters]\")\n",
    "plt.ylabel (\"Price [USD]\")\n",
    "plt.title(\"Price vs. Area\")"
   ]
  },
  {
   "cell_type": "code",
   "execution_count": 72,
   "id": "9a56d63b-ab75-4872-8937-2c0beff37363",
   "metadata": {},
   "outputs": [
    {
     "data": {
      "text/plain": [
       "{'whiskers': [<matplotlib.lines.Line2D at 0x20c369e81d0>,\n",
       "  <matplotlib.lines.Line2D at 0x20c369e77d0>],\n",
       " 'caps': [<matplotlib.lines.Line2D at 0x20c369e5ad0>,\n",
       "  <matplotlib.lines.Line2D at 0x20c369e43d0>],\n",
       " 'boxes': [<matplotlib.lines.Line2D at 0x20c369e9dd0>],\n",
       " 'medians': [<matplotlib.lines.Line2D at 0x20c369e6910>],\n",
       " 'fliers': [<matplotlib.lines.Line2D at 0x20c36a09c90>],\n",
       " 'means': []}"
      ]
     },
     "execution_count": 72,
     "metadata": {},
     "output_type": "execute_result"
    },
    {
     "data": {
      "image/png": "[encoded data removed]",
      "text/plain": [
       "<Figure size 640x480 with 1 Axes>"
      ]
     },
     "metadata": {},
     "output_type": "display_data"
    }
   ],
   "source": [
    "# Tracé boite à moustache horizontale \n",
    "plt.boxplot(x=df_final['surface_covered'], vert=False)"
   ]
  },
  {
   "cell_type": "markdown",
   "id": "583aa265-e5b1-4fef-8200-7bf8f1fbfe05",
   "metadata": {},
   "source": [
    "**Task 2.2:** calculate the correlation coefficient between price and surface_covered"
   ]
  },
  {
   "cell_type": "code",
   "execution_count": 79,
   "id": "620a7043-b7e4-4066-bb84-417fc36956c1",
   "metadata": {},
   "outputs": [
    {
     "name": "stdout",
     "output_type": "stream",
     "text": [
      "0.43\n"
     ]
    }
   ],
   "source": [
    "corr = df_final.surface_covered.corr(df_final.price).round(2)\n",
    "print(corr)"
   ]
  },
  {
   "cell_type": "markdown",
   "id": "78b7a03d-62fb-443b-a7f4-c293923c8a04",
   "metadata": {},
   "source": [
    "**Task 2.3:** Develop and evaluate regression model to predict price according to surface_covered, using SKlean package"
   ]
  },
  {
   "cell_type": "code",
   "execution_count": 80,
   "id": "034fa0a4-f5ad-446f-b780-bbd7876b4705",
   "metadata": {},
   "outputs": [
    {
     "name": "stdout",
     "output_type": "stream",
     "text": [
      "X_train shape: (12207, 1)\n",
      "y_train shape: (12207,)\n"
     ]
    }
   ],
   "source": [
    "# split\n",
    "y= df_final[\"price\"]\n",
    "X = df_final[[\"surface_covered\"]]\n",
    "\n",
    "X_train, X_test, y_train, y_test = train_test_split(X, y,test_size=0.20, random_state=0)\n",
    "print(\"X_train shape:\", X_train.shape)\n",
    "print(\"y_train shape:\", y_train.shape)"
   ]
  },
  {
   "cell_type": "code",
   "execution_count": 81,
   "id": "426e7d89-4fa9-4134-943a-b34d58b1df45",
   "metadata": {},
   "outputs": [
    {
     "data": {
      "text/plain": [
       "array([119285.75784386, 119285.75784386, 119285.75784386, ...,\n",
       "       119285.75784386, 119285.75784386, 119285.75784386])"
      ]
     },
     "execution_count": 81,
     "metadata": {},
     "output_type": "execute_result"
    }
   ],
   "source": [
    "# Basseline MAE and plot\n",
    "y_mean = y_train.mean()\n",
    "y_pred_baseline = y_mean.repeat(len(y_train)) # [y_mean]*len(y_mean)\n",
    "y_pred_baseline"
   ]
  },
  {
   "cell_type": "code",
   "execution_count": 82,
   "id": "c51aba00-de53-4b86-8e1c-870ef29da925",
   "metadata": {},
   "outputs": [
    {
     "name": "stdout",
     "output_type": "stream",
     "text": [
      "Mean apt price 119285.76\n",
      "Baseline MAE: 76695.79\n"
     ]
    }
   ],
   "source": [
    "# Baseline informations\n",
    "mae_baseline = mean_absolute_error(y_train, y_pred_baseline)\n",
    "\n",
    "print(\"Mean apt price\", round(y_mean, 2))\n",
    "print(\"Baseline MAE:\", round(mae_baseline, 2))"
   ]
  },
  {
   "cell_type": "code",
   "execution_count": 83,
   "id": "f9658663-6aa5-4efa-90a6-d8afc45860f4",
   "metadata": {},
   "outputs": [
    {
     "data": {
      "image/png": "[encoded data removed]",
      "text/plain": [
       "<Figure size 640x480 with 1 Axes>"
      ]
     },
     "metadata": {},
     "output_type": "display_data"
    }
   ],
   "source": [
    "plt.plot(X_train[\"surface_covered\"], y_pred_baseline, color = \"orange\", label = \"Baseline Model\")\n",
    "plt.scatter(X_train, y_train, s= 5)\n",
    "plt.xlabel(\"Area [sq meters]\")\n",
    "plt.ylabel(\"Price [USD]\")\n",
    "plt.title(\"Property Area vs Price in US Dollars\");\n",
    "plt.legend();"
   ]
  },
  {
   "cell_type": "code",
   "execution_count": 84,
   "id": "4ac5f98c-908c-46c7-a6c6-b1e0c80b7b8a",
   "metadata": {},
   "outputs": [
    {
     "data": {
      "text/html": [
       "<style>#sk-container-id-1 {color: black;background-color: white;}#sk-container-id-1 pre{padding: 0;}#sk-container-id-1 div.sk-toggleable {background-color: white;}#sk-container-id-1 label.sk-toggleable__label {cursor: pointer;display: block;width: 100%;margin-bottom: 0;padding: 0.3em;box-sizing: border-box;text-align: center;}#sk-container-id-1 label.sk-toggleable__label-arrow:before {content: \"▸\";float: left;margin-right: 0.25em;color: #696969;}#sk-container-id-1 label.sk-toggleable__label-arrow:hover:before {color: black;}#sk-container-id-1 div.sk-estimator:hover label.sk-toggleable__label-arrow:before {color: black;}#sk-container-id-1 div.sk-toggleable__content {max-height: 0;max-width: 0;overflow: hidden;text-align: left;background-color: #f0f8ff;}#sk-container-id-1 div.sk-toggleable__content pre {margin: 0.2em;color: black;border-radius: 0.25em;background-color: #f0f8ff;}#sk-container-id-1 input.sk-toggleable__control:checked~div.sk-toggleable__content {max-height: 200px;max-width: 100%;overflow: auto;}#sk-container-id-1 input.sk-toggleable__control:checked~label.sk-toggleable__label-arrow:before {content: \"▾\";}#sk-container-id-1 div.sk-estimator input.sk-toggleable__control:checked~label.sk-toggleable__label {background-color: #d4ebff;}#sk-container-id-1 div.sk-label input.sk-toggleable__control:checked~label.sk-toggleable__label {background-color: #d4ebff;}#sk-container-id-1 input.sk-hidden--visually {border: 0;clip: rect(1px 1px 1px 1px);clip: rect(1px, 1px, 1px, 1px);height: 1px;margin: -1px;overflow: hidden;padding: 0;position: absolute;width: 1px;}#sk-container-id-1 div.sk-estimator {font-family: monospace;background-color: #f0f8ff;border: 1px dotted black;border-radius: 0.25em;box-sizing: border-box;margin-bottom: 0.5em;}#sk-container-id-1 div.sk-estimator:hover {background-color: #d4ebff;}#sk-container-id-1 div.sk-parallel-item::after {content: \"\";width: 100%;border-bottom: 1px solid gray;flex-grow: 1;}#sk-container-id-1 div.sk-label:hover label.sk-toggleable__label {background-color: #d4ebff;}#sk-container-id-1 div.sk-serial::before {content: \"\";position: absolute;border-left: 1px solid gray;box-sizing: border-box;top: 0;bottom: 0;left: 50%;z-index: 0;}#sk-container-id-1 div.sk-serial {display: flex;flex-direction: column;align-items: center;background-color: white;padding-right: 0.2em;padding-left: 0.2em;position: relative;}#sk-container-id-1 div.sk-item {position: relative;z-index: 1;}#sk-container-id-1 div.sk-parallel {display: flex;align-items: stretch;justify-content: center;background-color: white;position: relative;}#sk-container-id-1 div.sk-item::before, #sk-container-id-1 div.sk-parallel-item::before {content: \"\";position: absolute;border-left: 1px solid gray;box-sizing: border-box;top: 0;bottom: 0;left: 50%;z-index: -1;}#sk-container-id-1 div.sk-parallel-item {display: flex;flex-direction: column;z-index: 1;position: relative;background-color: white;}#sk-container-id-1 div.sk-parallel-item:first-child::after {align-self: flex-end;width: 50%;}#sk-container-id-1 div.sk-parallel-item:last-child::after {align-self: flex-start;width: 50%;}#sk-container-id-1 div.sk-parallel-item:only-child::after {width: 0;}#sk-container-id-1 div.sk-dashed-wrapped {border: 1px dashed gray;margin: 0 0.4em 0.5em 0.4em;box-sizing: border-box;padding-bottom: 0.4em;background-color: white;}#sk-container-id-1 div.sk-label label {font-family: monospace;font-weight: bold;display: inline-block;line-height: 1.2em;}#sk-container-id-1 div.sk-label-container {text-align: center;}#sk-container-id-1 div.sk-container {/* jupyter's `normalize.less` sets `[hidden] { display: none; }` but bootstrap.min.css set `[hidden] { display: none !important; }` so we also need the `!important` here to be able to override the default hidden behavior on the sphinx rendered scikit-learn.org. See: https://github.com/scikit-learn/scikit-learn/issues/21755 */display: inline-block !important;position: relative;}#sk-container-id-1 div.sk-text-repr-fallback {display: none;}</style><div id=\"sk-container-id-1\" class=\"sk-top-container\"><div class=\"sk-text-repr-fallback\"><pre>LinearRegression()</pre><b>In a Jupyter environment, please rerun this cell to show the HTML representation or trust the notebook. <br />On GitHub, the HTML representation is unable to render, please try loading this page with nbviewer.org.</b></div><div class=\"sk-container\" hidden><div class=\"sk-item\"><div class=\"sk-estimator sk-toggleable\"><input class=\"sk-toggleable__control sk-hidden--visually\" id=\"sk-estimator-id-1\" type=\"checkbox\" checked><label for=\"sk-estimator-id-1\" class=\"sk-toggleable__label sk-toggleable__label-arrow\">LinearRegression</label><div class=\"sk-toggleable__content\"><pre>LinearRegression()</pre></div></div></div></div></div>"
      ],
      "text/plain": [
       "LinearRegression()"
      ]
     },
     "execution_count": 84,
     "metadata": {},
     "output_type": "execute_result"
    }
   ],
   "source": [
    "# Instantiate and train\n",
    "model = LinearRegression()\n",
    "model.fit(X_train, y_train)"
   ]
  },
  {
   "cell_type": "code",
   "execution_count": 85,
   "id": "90e87017-3264-4f6a-93da-980f79223ccf",
   "metadata": {},
   "outputs": [
    {
     "data": {
      "text/plain": [
       "array([ 99097.90057279,  77516.65381359, 109888.52395238, 116054.59445501,\n",
       "       103722.45344976])"
      ]
     },
     "execution_count": 85,
     "metadata": {},
     "output_type": "execute_result"
    }
   ],
   "source": [
    "# MAE for train set\n",
    "y_pred_training = model.predict(X_train)\n",
    "y_pred_training[:5]"
   ]
  },
  {
   "cell_type": "code",
   "execution_count": 86,
   "id": "ece98173-c18f-447c-ad11-d822b0227777",
   "metadata": {},
   "outputs": [
    {
     "name": "stdout",
     "output_type": "stream",
     "text": [
      "Training MAE: 69315.2\n"
     ]
    }
   ],
   "source": [
    "mae_training = mean_absolute_error(y_train, y_pred_training)\n",
    "print(\"Training MAE:\", round(mae_training, 2))"
   ]
  },
  {
   "cell_type": "code",
   "execution_count": 87,
   "id": "173bddcf-cffe-4a6f-9500-8d58dabc1e5e",
   "metadata": {},
   "outputs": [
    {
     "data": {
      "text/plain": [
       "0     91390.312445\n",
       "1    227043.863502\n",
       "2    105263.971075\n",
       "3     74433.618562\n",
       "4    100639.418198\n",
       "dtype: float64"
      ]
     },
     "execution_count": 87,
     "metadata": {},
     "output_type": "execute_result"
    }
   ],
   "source": [
    "# MAE for test set\n",
    "y_pred_test = pd.Series(model.predict(X_test))\n",
    "y_pred_test.head()"
   ]
  },
  {
   "cell_type": "code",
   "execution_count": 88,
   "id": "351170e1-ac17-4bd0-8bec-2bc495c22d1b",
   "metadata": {},
   "outputs": [
    {
     "name": "stdout",
     "output_type": "stream",
     "text": [
      "Test MAE: 68322.5\n"
     ]
    }
   ],
   "source": [
    "mae_test = mean_absolute_error(y_test, y_pred_test)\n",
    "print(\"Test MAE:\", round(mae_test, 2))"
   ]
  },
  {
   "cell_type": "markdown",
   "id": "85d31b13-0b60-42f8-98d7-73c678bcfa67",
   "metadata": {},
   "source": [
    "**Task 2.4:** Rewrite the price as p = ax + b"
   ]
  },
  {
   "cell_type": "code",
   "execution_count": 90,
   "id": "9f4c8c74-2393-4192-8477-0072198b7f7a",
   "metadata": {},
   "outputs": [
    {
     "name": "stdout",
     "output_type": "stream",
     "text": [
      "intercept is $26646.57  and coefficient is $1541.52.\n"
     ]
    }
   ],
   "source": [
    "intercept = model.intercept_.round(2)\n",
    "coefficient = model.coef_.round(2)[0]\n",
    "\n",
    "print(\n",
    "    f\"intercept is ${intercept}  and coefficient is ${coefficient}.\"\n",
    ")"
   ]
  },
  {
   "cell_type": "code",
   "execution_count": 92,
   "id": "fa13c44f-ac7d-4e52-8586-576a95344a30",
   "metadata": {},
   "outputs": [
    {
     "name": "stdout",
     "output_type": "stream",
     "text": [
      "price (USD) = 26646.57 + 1541.52 * surface_covered.\n"
     ]
    }
   ],
   "source": [
    "print(\n",
    "    f\"price (USD) = {intercept} + {coefficient} * surface_covered.\"\n",
    ")"
   ]
  }
 ],
 "metadata": {
  "kernelspec": {
   "display_name": "Python 3 (ipykernel)",
   "language": "python",
   "name": "python3"
  },
  "language_info": {
   "codemirror_mode": {
    "name": "ipython",
    "version": 3
   },
   "file_extension": ".py",
   "mimetype": "text/x-python",
   "name": "python",
   "nbconvert_exporter": "python",
   "pygments_lexer": "ipython3",
   "version": "3.11.3"
  }
 },
 "nbformat": 4,
 "nbformat_minor": 5
}
