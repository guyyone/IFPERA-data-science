{
 "cells": [
  {
   "attachments": {
    "image.png": {
     "image/png": "[encoded data removed]"
    }
   },
   "cell_type": "markdown",
   "id": "48b8cedb",
   "metadata": {},
   "source": [
    "- Exercice  semaine 8 - data science\n",
    "- Date limite de soumission des réponses: jeudi  11 mai 2023 à 12h\n",
    "- Discussion en ligne/présentiel : Vendredi  12 mai 2023 de 16h à 18h\n",
    "- Thématiques abordées : modèles de régression de machine learning et mise en production\n",
    "\n",
    "- Instructions : Utilisez Python pour traiter les questions. Aucune autre application logicielle n’est acceptée pour l’analyse des données. Il est souhaitable de fournir votre éditeur de codes annoté avec votre devoir. \n",
    "- Le travail de cette semaine porte sur la base des données nommée «Cameroon_lung_function » et disponible à l’adresse URL : \n",
    "https://raw.githubusercontent.com/pefura/IFPERA/main/Cameroon_lung_function.csv\n",
    "- Les codages utilisés pour les variables sont indiqués dans le tableau ci-dessous : \n",
    "![image.png](attachment:image.png)\n"
   ]
  },
  {
   "cell_type": "markdown",
   "id": "94d99af9",
   "metadata": {},
   "source": [
    "I. Partie 1 - Développement des modèles\n",
    "Nous voulons prédire le rapport fev/fvc chez les sujets de sexe féminin en fonction de l’âge et de la taille. \n"
   ]
  },
  {
   "cell_type": "markdown",
   "id": "488518d8",
   "metadata": {},
   "source": [
    "1.\tSélectionner la sous-base de données (que vous nommerez dataset) contenant uniquement les données des sujets de sexe féminin et les variables age, height, fev fvc."
   ]
  },
  {
   "cell_type": "code",
   "execution_count": 1,
   "id": "c4fffd81",
   "metadata": {},
   "outputs": [],
   "source": [
    "import pandas as pd\n",
    "import numpy as np"
   ]
  },
  {
   "cell_type": "code",
   "execution_count": 2,
   "id": "97d4fcc5",
   "metadata": {},
   "outputs": [],
   "source": [
    "URL= \"https://raw.githubusercontent.com/pefura/IFPERA/main/Cameroon_lung_function.csv\""
   ]
  },
  {
   "cell_type": "code",
   "execution_count": 3,
   "id": "051ec5ef",
   "metadata": {},
   "outputs": [],
   "source": [
    "data = pd.read_csv(URL, sep=\";\")"
   ]
  },
  {
   "cell_type": "code",
   "execution_count": 6,
   "id": "2ef2c870",
   "metadata": {},
   "outputs": [
    {
     "data": {
      "text/html": [
       "<div><div id=f41fe29b-244f-46f9-9406-496b79f94ca0 style=\"display:none; background-color:#9D6CFF; color:white; width:200px; height:30px; padding-left:5px; border-radius:4px; flex-direction:row; justify-content:space-around; align-items:center;\" onmouseover=\"this.style.backgroundColor='#BA9BF8'\" onmouseout=\"this.style.backgroundColor='#9D6CFF'\" onclick=\"window.commands?.execute('create-mitosheet-from-dataframe-output');\">See Full Dataframe in Mito</div> <script> if (window.commands.hasCommand('create-mitosheet-from-dataframe-output')) document.getElementById('f41fe29b-244f-46f9-9406-496b79f94ca0').style.display = 'flex' </script> <table border=\"1\" class=\"dataframe\">\n",
       "  <thead>\n",
       "    <tr style=\"text-align: right;\">\n",
       "      <th></th>\n",
       "      <th>ID</th>\n",
       "      <th>sex</th>\n",
       "      <th>age</th>\n",
       "      <th>ethnicity</th>\n",
       "      <th>height</th>\n",
       "      <th>fvc</th>\n",
       "      <th>fev</th>\n",
       "      <th>fef2575</th>\n",
       "      <th>fevfvc</th>\n",
       "    </tr>\n",
       "  </thead>\n",
       "  <tbody>\n",
       "    <tr>\n",
       "      <th>0</th>\n",
       "      <td>1000948</td>\n",
       "      <td>1</td>\n",
       "      <td>4.95</td>\n",
       "      <td>1</td>\n",
       "      <td>109</td>\n",
       "      <td>1.230</td>\n",
       "      <td>1.12</td>\n",
       "      <td>1.39</td>\n",
       "      <td>0.91</td>\n",
       "    </tr>\n",
       "    <tr>\n",
       "      <th>1</th>\n",
       "      <td>500921</td>\n",
       "      <td>1</td>\n",
       "      <td>5.00</td>\n",
       "      <td>1</td>\n",
       "      <td>119</td>\n",
       "      <td>1.100</td>\n",
       "      <td>1.10</td>\n",
       "      <td>1.81</td>\n",
       "      <td>1.00</td>\n",
       "    </tr>\n",
       "    <tr>\n",
       "      <th>2</th>\n",
       "      <td>1000157</td>\n",
       "      <td>1</td>\n",
       "      <td>5.40</td>\n",
       "      <td>1</td>\n",
       "      <td>107</td>\n",
       "      <td>0.970</td>\n",
       "      <td>0.91</td>\n",
       "      <td>1.70</td>\n",
       "      <td>0.94</td>\n",
       "    </tr>\n",
       "    <tr>\n",
       "      <th>3</th>\n",
       "      <td>1000805</td>\n",
       "      <td>1</td>\n",
       "      <td>5.29</td>\n",
       "      <td>1</td>\n",
       "      <td>118</td>\n",
       "      <td>0.939</td>\n",
       "      <td>0.94</td>\n",
       "      <td>1.64</td>\n",
       "      <td>1.00</td>\n",
       "    </tr>\n",
       "    <tr>\n",
       "      <th>4</th>\n",
       "      <td>1000174</td>\n",
       "      <td>1</td>\n",
       "      <td>5.53</td>\n",
       "      <td>1</td>\n",
       "      <td>119</td>\n",
       "      <td>1.390</td>\n",
       "      <td>1.34</td>\n",
       "      <td>2.03</td>\n",
       "      <td>0.96</td>\n",
       "    </tr>\n",
       "  </tbody>\n",
       "</table></div>"
      ],
      "text/plain": [
       "        ID  sex   age  ethnicity  height    fvc   fev  fef2575  fevfvc\n",
       "0  1000948    1  4.95          1     109  1.230  1.12     1.39    0.91\n",
       "1   500921    1  5.00          1     119  1.100  1.10     1.81    1.00\n",
       "2  1000157    1  5.40          1     107  0.970  0.91     1.70    0.94\n",
       "3  1000805    1  5.29          1     118  0.939  0.94     1.64    1.00\n",
       "4  1000174    1  5.53          1     119  1.390  1.34     2.03    0.96"
      ]
     },
     "execution_count": 6,
     "metadata": {},
     "output_type": "execute_result"
    }
   ],
   "source": [
    "data.head()"
   ]
  },
  {
   "cell_type": "code",
   "execution_count": 7,
   "id": "24902b4b",
   "metadata": {},
   "outputs": [
    {
     "data": {
      "text/html": [
       "<div><div id=3861f3b9-fd19-463f-99b7-f9a76a317781 style=\"display:none; background-color:#9D6CFF; color:white; width:200px; height:30px; padding-left:5px; border-radius:4px; flex-direction:row; justify-content:space-around; align-items:center;\" onmouseover=\"this.style.backgroundColor='#BA9BF8'\" onmouseout=\"this.style.backgroundColor='#9D6CFF'\" onclick=\"window.commands?.execute('create-mitosheet-from-dataframe-output');\">See Full Dataframe in Mito</div> <script> if (window.commands.hasCommand('create-mitosheet-from-dataframe-output')) document.getElementById('3861f3b9-fd19-463f-99b7-f9a76a317781').style.display = 'flex' </script> <table border=\"1\" class=\"dataframe\">\n",
       "  <thead>\n",
       "    <tr style=\"text-align: right;\">\n",
       "      <th></th>\n",
       "      <th>ID</th>\n",
       "      <th>sex</th>\n",
       "      <th>age</th>\n",
       "      <th>ethnicity</th>\n",
       "      <th>height</th>\n",
       "      <th>fvc</th>\n",
       "      <th>fev</th>\n",
       "      <th>fef2575</th>\n",
       "      <th>fevfvc</th>\n",
       "    </tr>\n",
       "  </thead>\n",
       "  <tbody>\n",
       "    <tr>\n",
       "      <th>count</th>\n",
       "      <td>1.777000e+03</td>\n",
       "      <td>1777.000000</td>\n",
       "      <td>1777.000000</td>\n",
       "      <td>1777.000000</td>\n",
       "      <td>1777.000000</td>\n",
       "      <td>1777.000000</td>\n",
       "      <td>1777.000000</td>\n",
       "      <td>1777.000000</td>\n",
       "      <td>1777.000000</td>\n",
       "    </tr>\n",
       "    <tr>\n",
       "      <th>mean</th>\n",
       "      <td>3.124471e+05</td>\n",
       "      <td>1.526168</td>\n",
       "      <td>28.334051</td>\n",
       "      <td>1.215532</td>\n",
       "      <td>158.232414</td>\n",
       "      <td>2.882609</td>\n",
       "      <td>2.498509</td>\n",
       "      <td>3.482942</td>\n",
       "      <td>0.873301</td>\n",
       "    </tr>\n",
       "    <tr>\n",
       "      <th>std</th>\n",
       "      <td>4.394811e+05</td>\n",
       "      <td>0.499455</td>\n",
       "      <td>17.920546</td>\n",
       "      <td>0.512486</td>\n",
       "      <td>17.068275</td>\n",
       "      <td>1.055157</td>\n",
       "      <td>0.897767</td>\n",
       "      <td>1.573516</td>\n",
       "      <td>0.071925</td>\n",
       "    </tr>\n",
       "    <tr>\n",
       "      <th>min</th>\n",
       "      <td>2.000000e+00</td>\n",
       "      <td>1.000000</td>\n",
       "      <td>4.450000</td>\n",
       "      <td>1.000000</td>\n",
       "      <td>103.000000</td>\n",
       "      <td>0.700000</td>\n",
       "      <td>0.650000</td>\n",
       "      <td>0.740000</td>\n",
       "      <td>0.650000</td>\n",
       "    </tr>\n",
       "    <tr>\n",
       "      <th>25%</th>\n",
       "      <td>1.723000e+03</td>\n",
       "      <td>1.000000</td>\n",
       "      <td>13.020000</td>\n",
       "      <td>1.000000</td>\n",
       "      <td>151.000000</td>\n",
       "      <td>2.070000</td>\n",
       "      <td>1.800000</td>\n",
       "      <td>2.310000</td>\n",
       "      <td>0.830000</td>\n",
       "    </tr>\n",
       "    <tr>\n",
       "      <th>50%</th>\n",
       "      <td>4.299000e+03</td>\n",
       "      <td>2.000000</td>\n",
       "      <td>24.457221</td>\n",
       "      <td>1.000000</td>\n",
       "      <td>162.000000</td>\n",
       "      <td>2.850000</td>\n",
       "      <td>2.460000</td>\n",
       "      <td>3.260000</td>\n",
       "      <td>0.880000</td>\n",
       "    </tr>\n",
       "    <tr>\n",
       "      <th>75%</th>\n",
       "      <td>1.000071e+06</td>\n",
       "      <td>2.000000</td>\n",
       "      <td>40.030116</td>\n",
       "      <td>1.000000</td>\n",
       "      <td>170.000000</td>\n",
       "      <td>3.580000</td>\n",
       "      <td>3.110000</td>\n",
       "      <td>4.320000</td>\n",
       "      <td>0.930000</td>\n",
       "    </tr>\n",
       "    <tr>\n",
       "      <th>max</th>\n",
       "      <td>1.005209e+06</td>\n",
       "      <td>2.000000</td>\n",
       "      <td>88.131417</td>\n",
       "      <td>3.000000</td>\n",
       "      <td>196.000000</td>\n",
       "      <td>7.510000</td>\n",
       "      <td>5.910000</td>\n",
       "      <td>10.440000</td>\n",
       "      <td>1.000000</td>\n",
       "    </tr>\n",
       "  </tbody>\n",
       "</table></div>"
      ],
      "text/plain": [
       "                 ID          sex          age    ethnicity       height  \\\n",
       "count  1.777000e+03  1777.000000  1777.000000  1777.000000  1777.000000   \n",
       "mean   3.124471e+05     1.526168    28.334051     1.215532   158.232414   \n",
       "std    4.394811e+05     0.499455    17.920546     0.512486    17.068275   \n",
       "min    2.000000e+00     1.000000     4.450000     1.000000   103.000000   \n",
       "25%    1.723000e+03     1.000000    13.020000     1.000000   151.000000   \n",
       "50%    4.299000e+03     2.000000    24.457221     1.000000   162.000000   \n",
       "75%    1.000071e+06     2.000000    40.030116     1.000000   170.000000   \n",
       "max    1.005209e+06     2.000000    88.131417     3.000000   196.000000   \n",
       "\n",
       "               fvc          fev      fef2575       fevfvc  \n",
       "count  1777.000000  1777.000000  1777.000000  1777.000000  \n",
       "mean      2.882609     2.498509     3.482942     0.873301  \n",
       "std       1.055157     0.897767     1.573516     0.071925  \n",
       "min       0.700000     0.650000     0.740000     0.650000  \n",
       "25%       2.070000     1.800000     2.310000     0.830000  \n",
       "50%       2.850000     2.460000     3.260000     0.880000  \n",
       "75%       3.580000     3.110000     4.320000     0.930000  \n",
       "max       7.510000     5.910000    10.440000     1.000000  "
      ]
     },
     "execution_count": 7,
     "metadata": {},
     "output_type": "execute_result"
    }
   ],
   "source": [
    "data.describe()"
   ]
  },
  {
   "cell_type": "code",
   "execution_count": 8,
   "id": "03910372",
   "metadata": {},
   "outputs": [
    {
     "data": {
      "text/plain": [
       "(1777, 9)"
      ]
     },
     "execution_count": 8,
     "metadata": {},
     "output_type": "execute_result"
    }
   ],
   "source": [
    "data.shape"
   ]
  },
  {
   "cell_type": "code",
   "execution_count": 9,
   "id": "836c8c94",
   "metadata": {},
   "outputs": [],
   "source": [
    "df = data.copy()"
   ]
  },
  {
   "cell_type": "code",
   "execution_count": 10,
   "id": "584c7b0e",
   "metadata": {},
   "outputs": [
    {
     "name": "stdout",
     "output_type": "stream",
     "text": [
      "<class 'pandas.core.frame.DataFrame'>\n",
      "Int64Index: 935 entries, 842 to 1776\n",
      "Data columns (total 4 columns):\n",
      " #   Column  Non-Null Count  Dtype  \n",
      "---  ------  --------------  -----  \n",
      " 0   age     935 non-null    float64\n",
      " 1   height  935 non-null    int64  \n",
      " 2   fev     935 non-null    float64\n",
      " 3   fvc     935 non-null    float64\n",
      "dtypes: float64(3), int64(1)\n",
      "memory usage: 36.5 KB\n"
     ]
    }
   ],
   "source": [
    "df_female = df.query('sex==2')\n",
    "dataset = df_female[['age', 'height', 'fev', 'fvc']]\n",
    "dataset.info()"
   ]
  },
  {
   "cell_type": "markdown",
   "id": "8dd360ac",
   "metadata": {},
   "source": [
    "2.\tCalculer fev/fvc pour tous les sujets de sexe féminin et inclure cette variable dans dataset."
   ]
  },
  {
   "cell_type": "code",
   "execution_count": 13,
   "id": "0f7655dd",
   "metadata": {},
   "outputs": [
    {
     "name": "stdout",
     "output_type": "stream",
     "text": [
      "<class 'pandas.core.frame.DataFrame'>\n",
      "Int64Index: 935 entries, 842 to 1776\n",
      "Data columns (total 5 columns):\n",
      " #   Column   Non-Null Count  Dtype  \n",
      "---  ------   --------------  -----  \n",
      " 0   age      935 non-null    float64\n",
      " 1   height   935 non-null    int64  \n",
      " 2   fev      935 non-null    float64\n",
      " 3   fvc      935 non-null    float64\n",
      " 4   fev/fvc  935 non-null    float64\n",
      "dtypes: float64(4), int64(1)\n",
      "memory usage: 43.8 KB\n"
     ]
    },
    {
     "name": "stderr",
     "output_type": "stream",
     "text": [
      "<ipython-input-13-6677d2de6322>:1: SettingWithCopyWarning: \n",
      "A value is trying to be set on a copy of a slice from a DataFrame.\n",
      "Try using .loc[row_indexer,col_indexer] = value instead\n",
      "\n",
      "See the caveats in the documentation: https://pandas.pydata.org/pandas-docs/stable/user_guide/indexing.html#returning-a-view-versus-a-copy\n",
      "  dataset[\"fev/fvc\"] = dataset['fev']/dataset['fvc']\n"
     ]
    }
   ],
   "source": [
    "dataset[\"fev/fvc\"] = dataset['fev']/dataset['fvc']\n",
    "dataset.info()"
   ]
  },
  {
   "cell_type": "code",
   "execution_count": 14,
   "id": "cb2cd989",
   "metadata": {
    "scrolled": false
   },
   "outputs": [
    {
     "data": {
      "text/html": [
       "<div><div id=f3f3504b-7afa-469d-ade0-d1c94a42a873 style=\"display:none; background-color:#9D6CFF; color:white; width:200px; height:30px; padding-left:5px; border-radius:4px; flex-direction:row; justify-content:space-around; align-items:center;\" onmouseover=\"this.style.backgroundColor='#BA9BF8'\" onmouseout=\"this.style.backgroundColor='#9D6CFF'\" onclick=\"window.commands?.execute('create-mitosheet-from-dataframe-output');\">See Full Dataframe in Mito</div> <script> if (window.commands.hasCommand('create-mitosheet-from-dataframe-output')) document.getElementById('f3f3504b-7afa-469d-ade0-d1c94a42a873').style.display = 'flex' </script> <table border=\"1\" class=\"dataframe\">\n",
       "  <thead>\n",
       "    <tr style=\"text-align: right;\">\n",
       "      <th></th>\n",
       "      <th>age</th>\n",
       "      <th>height</th>\n",
       "      <th>fev</th>\n",
       "      <th>fvc</th>\n",
       "      <th>fev/fvc</th>\n",
       "    </tr>\n",
       "  </thead>\n",
       "  <tbody>\n",
       "    <tr>\n",
       "      <th>count</th>\n",
       "      <td>935.000000</td>\n",
       "      <td>935.000000</td>\n",
       "      <td>935.000000</td>\n",
       "      <td>935.000000</td>\n",
       "      <td>935.000000</td>\n",
       "    </tr>\n",
       "    <tr>\n",
       "      <th>mean</th>\n",
       "      <td>28.415408</td>\n",
       "      <td>154.899465</td>\n",
       "      <td>2.214193</td>\n",
       "      <td>2.544534</td>\n",
       "      <td>0.876123</td>\n",
       "    </tr>\n",
       "    <tr>\n",
       "      <th>std</th>\n",
       "      <td>18.090971</td>\n",
       "      <td>15.090752</td>\n",
       "      <td>0.676284</td>\n",
       "      <td>0.786705</td>\n",
       "      <td>0.075542</td>\n",
       "    </tr>\n",
       "    <tr>\n",
       "      <th>min</th>\n",
       "      <td>4.450000</td>\n",
       "      <td>104.000000</td>\n",
       "      <td>0.650000</td>\n",
       "      <td>0.700000</td>\n",
       "      <td>0.646667</td>\n",
       "    </tr>\n",
       "    <tr>\n",
       "      <th>25%</th>\n",
       "      <td>12.865000</td>\n",
       "      <td>150.000000</td>\n",
       "      <td>1.710000</td>\n",
       "      <td>1.960000</td>\n",
       "      <td>0.829853</td>\n",
       "    </tr>\n",
       "    <tr>\n",
       "      <th>50%</th>\n",
       "      <td>24.158795</td>\n",
       "      <td>159.000000</td>\n",
       "      <td>2.280000</td>\n",
       "      <td>2.630000</td>\n",
       "      <td>0.882022</td>\n",
       "    </tr>\n",
       "    <tr>\n",
       "      <th>75%</th>\n",
       "      <td>40.658453</td>\n",
       "      <td>165.000000</td>\n",
       "      <td>2.700000</td>\n",
       "      <td>3.120000</td>\n",
       "      <td>0.930464</td>\n",
       "    </tr>\n",
       "    <tr>\n",
       "      <th>max</th>\n",
       "      <td>88.131417</td>\n",
       "      <td>188.000000</td>\n",
       "      <td>4.580000</td>\n",
       "      <td>5.190000</td>\n",
       "      <td>1.387500</td>\n",
       "    </tr>\n",
       "  </tbody>\n",
       "</table></div>"
      ],
      "text/plain": [
       "              age      height         fev         fvc     fev/fvc\n",
       "count  935.000000  935.000000  935.000000  935.000000  935.000000\n",
       "mean    28.415408  154.899465    2.214193    2.544534    0.876123\n",
       "std     18.090971   15.090752    0.676284    0.786705    0.075542\n",
       "min      4.450000  104.000000    0.650000    0.700000    0.646667\n",
       "25%     12.865000  150.000000    1.710000    1.960000    0.829853\n",
       "50%     24.158795  159.000000    2.280000    2.630000    0.882022\n",
       "75%     40.658453  165.000000    2.700000    3.120000    0.930464\n",
       "max     88.131417  188.000000    4.580000    5.190000    1.387500"
      ]
     },
     "execution_count": 14,
     "metadata": {},
     "output_type": "execute_result"
    }
   ],
   "source": [
    "dataset.describe()"
   ]
  },
  {
   "cell_type": "code",
   "execution_count": 15,
   "id": "58f45eb0",
   "metadata": {},
   "outputs": [
    {
     "data": {
      "text/plain": [
       "(931, 5)"
      ]
     },
     "execution_count": 15,
     "metadata": {},
     "output_type": "execute_result"
    }
   ],
   "source": [
    "dataset_clean = dataset.query('fev/fvc <=1 ')\n",
    "dataset_clean.shape"
   ]
  },
  {
   "cell_type": "markdown",
   "id": "48910e05",
   "metadata": {},
   "source": [
    "3.\tDécrire graphiquement la relation entre fev/fvc (variable expliquée) et l’âge d’une part et entre fev/fvc et la taille d’autre part. Quelles conclusions pouvez-vous tirer ?"
   ]
  },
  {
   "cell_type": "code",
   "execution_count": 16,
   "id": "ab6e5069",
   "metadata": {},
   "outputs": [],
   "source": [
    "import seaborn as sns"
   ]
  },
  {
   "cell_type": "code",
   "execution_count": 18,
   "id": "95de3c74",
   "metadata": {},
   "outputs": [
    {
     "data": {
      "text/plain": [
       "<AxesSubplot:xlabel='age', ylabel='fev/fvc'>"
      ]
     },
     "execution_count": 18,
     "metadata": {},
     "output_type": "execute_result"
    },
    {
     "data": {
      "image/png": "[encoded data removed]",
      "text/plain": [
       "<Figure size 432x288 with 1 Axes>"
      ]
     },
     "metadata": {
      "needs_background": "light"
     },
     "output_type": "display_data"
    }
   ],
   "source": [
    "sns.regplot(data = dataset_clean, x = \"age\" , y=\"fev/fvc\")"
   ]
  },
  {
   "cell_type": "code",
   "execution_count": 19,
   "id": "a0619eb2",
   "metadata": {},
   "outputs": [
    {
     "data": {
      "text/plain": [
       "<AxesSubplot:xlabel='height', ylabel='fev/fvc'>"
      ]
     },
     "execution_count": 19,
     "metadata": {},
     "output_type": "execute_result"
    },
    {
     "data": {
      "image/png": "[encoded data removed]",
      "text/plain": [
       "<Figure size 432x288 with 1 Axes>"
      ]
     },
     "metadata": {
      "needs_background": "light"
     },
     "output_type": "display_data"
    }
   ],
   "source": [
    "sns.regplot(data = dataset_clean, x = \"height\" , y=\"fev/fvc\")"
   ]
  },
  {
   "cell_type": "code",
   "execution_count": 20,
   "id": "e07221f5",
   "metadata": {},
   "outputs": [
    {
     "name": "stdout",
     "output_type": "stream",
     "text": [
      "X shape: (931, 2)\n",
      "y shape: (931,)\n"
     ]
    }
   ],
   "source": [
    "# Defining target(y) and features (X)\n",
    "y = dataset_clean['fev/fvc']\n",
    "X = dataset_clean.drop(columns =['fev', 'fvc','fev/fvc'])\n",
    "\n",
    "print(\"X shape:\", X.shape)\n",
    "print(\"y shape:\", y.shape)"
   ]
  },
  {
   "cell_type": "code",
   "execution_count": 21,
   "id": "b9f2436b",
   "metadata": {},
   "outputs": [
    {
     "name": "stdout",
     "output_type": "stream",
     "text": [
      "X_train shape: (744, 2)\n",
      "y_train shape: (744,)\n",
      "X_test shape: (187, 2)\n",
      "y_test shape: (187,)\n"
     ]
    }
   ],
   "source": [
    "# Example, import a module to split dataset in train set and test set\n",
    "from sklearn.model_selection import train_test_split\n",
    "X_train, X_test, y_train, y_test = train_test_split(X, y,test_size=0.2, random_state=0)\n",
    "\n",
    "print(\"X_train shape:\", X_train.shape)\n",
    "print(\"y_train shape:\", y_train.shape)\n",
    "print(\"X_test shape:\", X_test.shape)\n",
    "print(\"y_test shape:\", y_test.shape)"
   ]
  },
  {
   "cell_type": "code",
   "execution_count": 22,
   "id": "12f72180",
   "metadata": {},
   "outputs": [
    {
     "data": {
      "text/plain": [
       "array([[ 0.0987059 ,  0.0625    ],\n",
       "       [-0.55968061, -2.125     ],\n",
       "       [-0.0855582 ,  0.375     ],\n",
       "       ...,\n",
       "       [ 0.33075308,  0.375     ],\n",
       "       [ 0.12872976,  0.5625    ],\n",
       "       [ 0.57015904,  0.6875    ]])"
      ]
     },
     "execution_count": 22,
     "metadata": {},
     "output_type": "execute_result"
    }
   ],
   "source": [
    "from sklearn.preprocessing import RobustScaler\n",
    "scaler= RobustScaler()\n",
    "X_train_scaled = scaler.fit_transform(X_train)\n",
    "X_train_scaled"
   ]
  },
  {
   "cell_type": "code",
   "execution_count": 23,
   "id": "a3ca2b4b",
   "metadata": {},
   "outputs": [
    {
     "data": {
      "text/plain": [
       "{'n_estimators': 225, 'max_depth': 2}"
      ]
     },
     "execution_count": 23,
     "metadata": {},
     "output_type": "execute_result"
    }
   ],
   "source": [
    "from sklearn.ensemble import GradientBoostingRegressor\n",
    "GB_reg = GradientBoostingRegressor (random_state=0)\n",
    "\n",
    "# Recherche des hyperparamètres optimaux: random Forest\n",
    "from sklearn.model_selection import RandomizedSearchCV\n",
    "# Définir la plage des hyperparamètres\n",
    "distributions = dict(max_depth=np.arange(1,10),\n",
    "                     n_estimators=np.arange(60,600))\n",
    "\n",
    "# Configurer la recherche aléatoire\n",
    "Rand_CV = RandomizedSearchCV(GB_reg, distributions, random_state=0, scoring = 'neg_root_mean_squared_error')\n",
    "search =  Rand_CV.fit(X_train, y_train)\n",
    " \n",
    "search.best_params_  # Meilleurs paramètres"
   ]
  },
  {
   "cell_type": "code",
   "execution_count": 24,
   "id": "b75cf767",
   "metadata": {},
   "outputs": [
    {
     "data": {
      "application/javascript": [
       "\n",
       "        if (window._pyforest_update_imports_cell) { window._pyforest_update_imports_cell('from sklearn.model_selection import cross_val_score'); }\n",
       "    "
      ],
      "text/plain": [
       "<IPython.core.display.Javascript object>"
      ]
     },
     "metadata": {},
     "output_type": "display_data"
    },
    {
     "name": "stdout",
     "output_type": "stream",
     "text": [
      "score folds RSME GB\n",
      "[-0.06342752 -0.05893455 -0.0636957  -0.07064202 -0.06470584]\n",
      "Mean RSME GB: -0.064\n"
     ]
    }
   ],
   "source": [
    "GB_reg_final= GradientBoostingRegressor(n_estimators=225, max_depth=2,random_state=0)\n",
    "cross_validation =5\n",
    "score_RSME_GB = cross_val_score(GB_reg_final, X_train, y_train, cv=cross_validation, scoring =\"neg_root_mean_squared_error\")\n",
    "print('score folds RSME GB')\n",
    "print(score_RSME_GB)\n",
    "print('Mean RSME GB:', '{:.3f}'.format(score_RSME_GB.mean()))"
   ]
  },
  {
   "cell_type": "code",
   "execution_count": 26,
   "id": "2ba268af",
   "metadata": {},
   "outputs": [
    {
     "data": {
      "text/plain": [
       "{'hidden_layer_sizes': 878}"
      ]
     },
     "execution_count": 26,
     "metadata": {},
     "output_type": "execute_result"
    }
   ],
   "source": [
    "from sklearn.neural_network import MLPRegressor\n",
    "MLP_reg = MLPRegressor(random_state=0)\n",
    "\n",
    "# Recherche des hyperparamètres optimaux: random Forest\n",
    "from sklearn.model_selection import RandomizedSearchCV\n",
    "# Définir la plage des hyperparamètres\n",
    "distributions = dict(hidden_layer_sizes=np.arange(1,1000))\n",
    "\n",
    "# Configurer la recherche aléatoire\n",
    "Rand_CV = RandomizedSearchCV(MLP_reg, distributions, random_state=0, scoring = 'neg_root_mean_squared_error')\n",
    "search =  Rand_CV.fit(X_train_scaled, y_train)\n",
    " \n",
    "search.best_params_  # Meilleurs paramètres"
   ]
  },
  {
   "cell_type": "code",
   "execution_count": 27,
   "id": "683624fa",
   "metadata": {},
   "outputs": [
    {
     "data": {
      "application/javascript": [
       "\n",
       "        if (window._pyforest_update_imports_cell) { window._pyforest_update_imports_cell('from sklearn.model_selection import cross_val_score'); }\n",
       "    "
      ],
      "text/plain": [
       "<IPython.core.display.Javascript object>"
      ]
     },
     "metadata": {},
     "output_type": "display_data"
    },
    {
     "name": "stdout",
     "output_type": "stream",
     "text": [
      "score folds RSME MLP\n",
      "[-0.06365824 -0.0603024  -0.06186415 -0.06794912 -0.06411395]\n",
      "Mean RSME MLP: -0.064\n"
     ]
    }
   ],
   "source": [
    "MLP_reg_final= MLPRegressor(hidden_layer_sizes=878, random_state=0)\n",
    "cross_validation =5\n",
    "score_RSME_MLP = cross_val_score(MLP_reg_final, X_train_scaled, y_train, cv=cross_validation, scoring =\"neg_root_mean_squared_error\")\n",
    "print('score folds RSME MLP')\n",
    "print(score_RSME_MLP)\n",
    "print('Mean RSME MLP:', '{:.3f}'.format(score_RSME_MLP.mean()))"
   ]
  },
  {
   "cell_type": "code",
   "execution_count": 28,
   "id": "dfd53c23",
   "metadata": {},
   "outputs": [],
   "source": [
    "import matplotlib.pyplot as plt\n",
    "from sklearn.model_selection import learning_curve\n",
    "# Courbe d'apprentissage du GB\n",
    "N, train_score_GB, val_score_GB = learning_curve(GB_reg_final, X_train, y_train,  scoring='neg_root_mean_squared_error',\n",
    "                                           train_sizes=np.linspace(0.1, 1, 10), cv=10)"
   ]
  },
  {
   "cell_type": "code",
   "execution_count": 29,
   "id": "caef399c",
   "metadata": {},
   "outputs": [
    {
     "data": {
      "image/png": "[encoded data removed]",
      "text/plain": [
       "<Figure size 720x360 with 1 Axes>"
      ]
     },
     "metadata": {
      "needs_background": "light"
     },
     "output_type": "display_data"
    }
   ],
   "source": [
    "# Representation graphique des differentes courbes\n",
    "figure, axis = plt.subplots(figsize=(10, 5))\n",
    "\n",
    "# For GB\n",
    "axis.plot(N, train_score_GB.mean(axis=1), color = \"red\")    \n",
    "axis.plot(N, val_score_GB.mean(axis=1))\n",
    "axis.set_title(\"Gradient Boosting\")\n",
    "axis.legend(['Train score', 'Validation score'])\n",
    "axis.grid(visible = None)"
   ]
  },
  {
   "cell_type": "code",
   "execution_count": 30,
   "id": "3c13c083",
   "metadata": {},
   "outputs": [],
   "source": [
    "# Courbe d'apprentissage du ANN\n",
    "N, train_score_MLP, val_score_MLP = learning_curve(MLP_reg_final, X_train_scaled, y_train,  scoring='neg_root_mean_squared_error',\n",
    "                                           train_sizes=np.linspace(0.1, 1, 10), cv=10)"
   ]
  },
  {
   "cell_type": "code",
   "execution_count": 31,
   "id": "8c6100af",
   "metadata": {},
   "outputs": [
    {
     "data": {
      "image/png": "[encoded data removed]",
      "text/plain": [
       "<Figure size 720x360 with 1 Axes>"
      ]
     },
     "metadata": {
      "needs_background": "light"
     },
     "output_type": "display_data"
    }
   ],
   "source": [
    "# Representation graphique des differentes courbes\n",
    "figure, axis = plt.subplots(figsize=(10, 5))\n",
    "\n",
    "# For ANN\n",
    "axis.plot(N, train_score_MLP.mean(axis=1), color = \"red\")    \n",
    "axis.plot(N, val_score_MLP.mean(axis=1))\n",
    "axis.set_title(\"ANN\")\n",
    "axis.legend(['Train score', 'Validation score'])\n",
    "axis.grid(visible = None)"
   ]
  },
  {
   "cell_type": "code",
   "execution_count": null,
   "id": "2c5bdea3",
   "metadata": {},
   "outputs": [],
   "source": [
    "# pas de stabilisation du modèle d'ANN sur cet échantillon. Choisir le gradient boosting malgré les RMSE +/-equivalents. \n"
   ]
  },
  {
   "cell_type": "markdown",
   "id": "b45b6ec7",
   "metadata": {},
   "source": [
    "Evaluation sur les données non vues"
   ]
  },
  {
   "cell_type": "code",
   "execution_count": 33,
   "id": "da676a61",
   "metadata": {},
   "outputs": [],
   "source": [
    "from sklearn.metrics import mean_squared_error, r2_score, median_absolute_error, mean_absolute_error\n",
    "from RegscorePy import *\n",
    "\n",
    "def evaluation(model, X_train = X_train, y_train=y_train, X_test=X_test, y_test=y_test):\n",
    "    model.fit(X_train, y_train)\n",
    "    y_pred= model.predict(X_test)\n",
    "    R2 = r2_score(y_test, y_pred)\n",
    "    MSE = mean_squared_error(y_test, y_pred)\n",
    "    MAE = mean_absolute_error(y_test, y_pred)\n",
    "    MeAE = median_absolute_error(y_test, y_pred)\n",
    "    AIC= aic.aic(y_test, y_pred, 2)\n",
    "    BIC = bic.bic(y_test, y_pred, 2)\n",
    "    print('R2:', round(R2, 3))\n",
    "    print('MSE:', round(MSE, 3))\n",
    "    print('MAE:', round(MAE, 3))\n",
    "    print('MeAE:', round(MeAE, 3))\n",
    "    print('RMSE:', round(np.sqrt(MSE),3))\n",
    "    print('AIC:', round(AIC,3))\n",
    "    print('BIC:', round(BIC,3))"
   ]
  },
  {
   "cell_type": "code",
   "execution_count": 35,
   "id": "959396ea",
   "metadata": {},
   "outputs": [
    {
     "name": "stdout",
     "output_type": "stream",
     "text": [
      "Gradient boosting metrics\n",
      "R2: 0.363\n",
      "MSE: 0.004\n",
      "MAE: 0.049\n",
      "MeAE: 0.042\n",
      "RMSE: 0.06\n",
      "AIC: -1048.973\n",
      "BIC: -1042.511\n"
     ]
    }
   ],
   "source": [
    "# Gradient boosting\n",
    "print(\"Gradient boosting metrics\")\n",
    "evaluation(model=GB_reg_final , X_train = X_train, y_train=y_train, X_test=X_test, y_test=y_test)"
   ]
  },
  {
   "cell_type": "code",
   "execution_count": 36,
   "id": "3643f917",
   "metadata": {},
   "outputs": [
    {
     "name": "stdout",
     "output_type": "stream",
     "text": [
      "ANN metrics\n",
      "R2: 0.392\n",
      "MSE: 0.003\n",
      "MAE: 0.049\n",
      "MeAE: 0.046\n",
      "RMSE: 0.058\n",
      "AIC: -1057.773\n",
      "BIC: -1051.311\n"
     ]
    }
   ],
   "source": [
    "# ANN\n",
    "X_test_scaled = scaler.transform(X_test)\n",
    "print(\"ANN metrics\")\n",
    "evaluation(model=MLP_reg_final , X_train = X_train_scaled, y_train=y_train, X_test=X_test_scaled, y_test=y_test)"
   ]
  },
  {
   "cell_type": "code",
   "execution_count": 77,
   "id": "d6ac09d8",
   "metadata": {},
   "outputs": [],
   "source": [
    "# l'ANN semble être meilleur sur les données du test set mais les courbes d'apprentissage ne se sont pas \n",
    "# stabilisées dans cet échantillon. "
   ]
  },
  {
   "cell_type": "markdown",
   "id": "0e0a2464",
   "metadata": {},
   "source": [
    "II. Partie 2- Mise en production des modèles\n",
    "Dans cette partie nous décidons d’utiliser le gradient boosting pour la prédiction de l’espérance et des limites inférieure et supérieure (IC à 90%) du fev/fvc. \n"
   ]
  },
  {
   "cell_type": "markdown",
   "id": "1e648a8b",
   "metadata": {},
   "source": [
    "5.\tQuelles sont les contributions relatives de chaque variable explicative ?"
   ]
  },
  {
   "cell_type": "code",
   "execution_count": 38,
   "id": "c2781563",
   "metadata": {},
   "outputs": [],
   "source": [
    "from yellowbrick.model_selection import FeatureImportances"
   ]
  },
  {
   "cell_type": "code",
   "execution_count": 40,
   "id": "13c37f52",
   "metadata": {},
   "outputs": [
    {
     "name": "stderr",
     "output_type": "stream",
     "text": [
      "C:\\Users\\DDD\\anaconda3\\lib\\site-packages\\sklearn\\base.py:450: UserWarning: X does not have valid feature names, but GradientBoostingRegressor was fitted with feature names\n",
      "  warnings.warn(\n"
     ]
    },
    {
     "data": {
      "image/png": "[encoded data removed]",
      "text/plain": [
       "<Figure size 576x396 with 1 Axes>"
      ]
     },
     "metadata": {},
     "output_type": "display_data"
    },
    {
     "data": {
      "text/plain": [
       "<AxesSubplot:title={'center':'Feature Importances of 2 Features using GradientBoostingRegressor'}, xlabel='feature importance'>"
      ]
     },
     "execution_count": 40,
     "metadata": {},
     "output_type": "execute_result"
    }
   ],
   "source": [
    "viz = FeatureImportances(GB_reg_final,relative = False)\n",
    "viz.fit(X_train, y_train)\n",
    "viz.show()"
   ]
  },
  {
   "cell_type": "code",
   "execution_count": 41,
   "id": "ea8dc53d",
   "metadata": {},
   "outputs": [
    {
     "name": "stderr",
     "output_type": "stream",
     "text": [
      "C:\\Users\\DDD\\anaconda3\\lib\\site-packages\\sklearn\\base.py:450: UserWarning: X does not have valid feature names, but GradientBoostingRegressor was fitted with feature names\n",
      "  warnings.warn(\n"
     ]
    },
    {
     "data": {
      "image/png": "[encoded data removed]",
      "text/plain": [
       "<Figure size 576x396 with 1 Axes>"
      ]
     },
     "metadata": {},
     "output_type": "display_data"
    },
    {
     "data": {
      "text/plain": [
       "<AxesSubplot:title={'center':'Feature Importances of 2 Features using GradientBoostingRegressor'}, xlabel='relative importance'>"
      ]
     },
     "execution_count": 41,
     "metadata": {},
     "output_type": "execute_result"
    }
   ],
   "source": [
    "viz = FeatureImportances(GB_reg_final,relative = True)\n",
    "viz.fit(X_train, y_train)\n",
    "viz.show()"
   ]
  },
  {
   "cell_type": "code",
   "execution_count": null,
   "id": "adeea03c",
   "metadata": {},
   "outputs": [],
   "source": [
    "# L'âge est le paramètre le plus important (85% de poids dans la prédiction de fev/fvc)"
   ]
  },
  {
   "cell_type": "markdown",
   "id": "47bd6432",
   "metadata": {},
   "source": [
    "6.\tDéfinir ou construire  une fonction de prédiction de l’espérance et des limites inférieure et supérieure de fev/fvc"
   ]
  },
  {
   "cell_type": "code",
   "execution_count": 42,
   "id": "cc62269c",
   "metadata": {},
   "outputs": [],
   "source": [
    "## Fonction de calcul\n",
    "def prediction_FEV_FVC (age, height):\n",
    "    # Prediction espérance = médiane\n",
    "    fit_median = GradientBoostingRegressor(loss=\"quantile\", alpha=0.50, random_state=0)\n",
    "    fit_median.fit(X_train, y_train)\n",
    "    # Prédiction LLN\n",
    "    fit_LLN= GradientBoostingRegressor(loss=\"quantile\", alpha=0.05, random_state=0)\n",
    "    fit_LLN.fit(X_train, y_train)\n",
    "    # Prédiction ULN\n",
    "    fit_ULN= GradientBoostingRegressor(loss=\"quantile\", alpha=0.95, random_state=0)\n",
    "    fit_ULN.fit(X_train, y_train)\n",
    "    var = {'age':[age],\n",
    "        'height':[height]}\n",
    "    X1 = pd.DataFrame (var)\n",
    "    pred_median = fit_median.predict(X1)\n",
    "    LLN = fit_LLN.predict(X1)\n",
    "    ULN = fit_ULN.predict(X1)\n",
    "    table = pd.DataFrame([LLN [0],pred_median[0], ULN[0]]).T\n",
    "    table.columns = [\"LLN\", \"median\", \"ULN\"]\n",
    "    return table"
   ]
  },
  {
   "cell_type": "code",
   "execution_count": 44,
   "id": "98dfeff4",
   "metadata": {},
   "outputs": [
    {
     "data": {
      "text/html": [
       "<div><div id=108b4cea-ffac-455e-b068-048557a80d5e style=\"display:none; background-color:#9D6CFF; color:white; width:200px; height:30px; padding-left:5px; border-radius:4px; flex-direction:row; justify-content:space-around; align-items:center;\" onmouseover=\"this.style.backgroundColor='#BA9BF8'\" onmouseout=\"this.style.backgroundColor='#9D6CFF'\" onclick=\"window.commands?.execute('create-mitosheet-from-dataframe-output');\">See Full Dataframe in Mito</div> <script> if (window.commands.hasCommand('create-mitosheet-from-dataframe-output')) document.getElementById('108b4cea-ffac-455e-b068-048557a80d5e').style.display = 'flex' </script> <table border=\"1\" class=\"dataframe\">\n",
       "  <thead>\n",
       "    <tr style=\"text-align: right;\">\n",
       "      <th></th>\n",
       "      <th>LLN</th>\n",
       "      <th>median</th>\n",
       "      <th>ULN</th>\n",
       "    </tr>\n",
       "  </thead>\n",
       "  <tbody>\n",
       "    <tr>\n",
       "      <th>values</th>\n",
       "      <td>0.720106</td>\n",
       "      <td>0.829911</td>\n",
       "      <td>0.963109</td>\n",
       "    </tr>\n",
       "  </tbody>\n",
       "</table></div>"
      ],
      "text/plain": [
       "             LLN    median       ULN\n",
       "values  0.720106  0.829911  0.963109"
      ]
     },
     "execution_count": 44,
     "metadata": {},
     "output_type": "execute_result"
    }
   ],
   "source": [
    "pred = prediction_FEV_FVC (age=45, height=168).T\n",
    "pred.columns = [\"values\"]\n",
    "prediction = pred.T\n",
    "prediction"
   ]
  },
  {
   "cell_type": "markdown",
   "id": "a6fa91d8",
   "metadata": {},
   "source": [
    "7.\tMettre en production à l’aide de la librairie « streamlit » le modèle de gradient boosting permettant de faire les prédictions ci-dessus. Il s’agit de développer une application avec interface utilisateur permettant d’obtenir directement les prédictions souhaitées en fonction des caractéristiques fournies.  Le lien de l’application développée devrait être fourni. "
   ]
  },
  {
   "cell_type": "code",
   "execution_count": null,
   "id": "ac604dcc",
   "metadata": {},
   "outputs": [],
   "source": [
    "# Voir developpement dans pycharm et streamlit"
   ]
  }
 ],
 "metadata": {
  "kernelspec": {
   "display_name": "Python 3",
   "language": "python",
   "name": "python3"
  },
  "language_info": {
   "codemirror_mode": {
    "name": "ipython",
    "version": 3
   },
   "file_extension": ".py",
   "mimetype": "text/x-python",
   "name": "python",
   "nbconvert_exporter": "python",
   "pygments_lexer": "ipython3",
   "version": "3.8.8"
  }
 },
 "nbformat": 4,
 "nbformat_minor": 5
}
